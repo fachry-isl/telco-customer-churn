{
 "cells": [
  {
   "cell_type": "markdown",
   "id": "e33b1bdb",
   "metadata": {},
   "source": [
    "# Import Libraries"
   ]
  },
  {
   "cell_type": "code",
   "execution_count": 4,
   "id": "8d2f8153",
   "metadata": {},
   "outputs": [],
   "source": [
    "import pandas as pd\n",
    "\n",
    "import seaborn as sns\n",
    "import matplotlib.pyplot as plt"
   ]
  },
  {
   "cell_type": "code",
   "execution_count": 5,
   "id": "2fd102da",
   "metadata": {},
   "outputs": [],
   "source": [
    "df = pd.read_csv('Telco_Customer_ValueandRisk_Segmented_Final1.csv')"
   ]
  },
  {
   "cell_type": "code",
   "execution_count": 7,
   "id": "22bd0b91",
   "metadata": {},
   "outputs": [
    {
     "data": {
      "text/html": [
       "<div>\n",
       "<style scoped>\n",
       "    .dataframe tbody tr th:only-of-type {\n",
       "        vertical-align: middle;\n",
       "    }\n",
       "\n",
       "    .dataframe tbody tr th {\n",
       "        vertical-align: top;\n",
       "    }\n",
       "\n",
       "    .dataframe thead th {\n",
       "        text-align: right;\n",
       "    }\n",
       "</style>\n",
       "<table border=\"1\" class=\"dataframe\">\n",
       "  <thead>\n",
       "    <tr style=\"text-align: right;\">\n",
       "      <th></th>\n",
       "      <th>Customer ID</th>\n",
       "      <th>Tenure Months</th>\n",
       "      <th>Location</th>\n",
       "      <th>Device Class</th>\n",
       "      <th>Games Product</th>\n",
       "      <th>Music Product</th>\n",
       "      <th>Education Product</th>\n",
       "      <th>Call Center</th>\n",
       "      <th>Video Product</th>\n",
       "      <th>Use MyApp</th>\n",
       "      <th>...</th>\n",
       "      <th>Churn Label</th>\n",
       "      <th>Longitude</th>\n",
       "      <th>Latitude</th>\n",
       "      <th>CLTV (Predicted Thou. IDR)</th>\n",
       "      <th>Customer Value</th>\n",
       "      <th>Num Product Used</th>\n",
       "      <th>Internet Access</th>\n",
       "      <th>Churn Probability</th>\n",
       "      <th>Churn Predicted</th>\n",
       "      <th>Customer Risk</th>\n",
       "    </tr>\n",
       "  </thead>\n",
       "  <tbody>\n",
       "    <tr>\n",
       "      <th>0</th>\n",
       "      <td>0</td>\n",
       "      <td>2</td>\n",
       "      <td>Jakarta</td>\n",
       "      <td>Mid End</td>\n",
       "      <td>Yes</td>\n",
       "      <td>Yes</td>\n",
       "      <td>No</td>\n",
       "      <td>No</td>\n",
       "      <td>No</td>\n",
       "      <td>No</td>\n",
       "      <td>...</td>\n",
       "      <td>Yes</td>\n",
       "      <td>106.816666</td>\n",
       "      <td>-6.2</td>\n",
       "      <td>4210.7</td>\n",
       "      <td>Low-Value</td>\n",
       "      <td>2</td>\n",
       "      <td>Yes</td>\n",
       "      <td>0.424499</td>\n",
       "      <td>0</td>\n",
       "      <td>High-Risk</td>\n",
       "    </tr>\n",
       "    <tr>\n",
       "      <th>1</th>\n",
       "      <td>1</td>\n",
       "      <td>2</td>\n",
       "      <td>Jakarta</td>\n",
       "      <td>High End</td>\n",
       "      <td>No</td>\n",
       "      <td>No</td>\n",
       "      <td>No</td>\n",
       "      <td>No</td>\n",
       "      <td>No</td>\n",
       "      <td>No</td>\n",
       "      <td>...</td>\n",
       "      <td>Yes</td>\n",
       "      <td>106.816666</td>\n",
       "      <td>-6.2</td>\n",
       "      <td>3511.3</td>\n",
       "      <td>Low-Value</td>\n",
       "      <td>0</td>\n",
       "      <td>Yes</td>\n",
       "      <td>0.879698</td>\n",
       "      <td>1</td>\n",
       "      <td>High-Risk</td>\n",
       "    </tr>\n",
       "    <tr>\n",
       "      <th>2</th>\n",
       "      <td>2</td>\n",
       "      <td>8</td>\n",
       "      <td>Jakarta</td>\n",
       "      <td>High End</td>\n",
       "      <td>No</td>\n",
       "      <td>No</td>\n",
       "      <td>Yes</td>\n",
       "      <td>No</td>\n",
       "      <td>Yes</td>\n",
       "      <td>Yes</td>\n",
       "      <td>...</td>\n",
       "      <td>Yes</td>\n",
       "      <td>106.816666</td>\n",
       "      <td>-6.2</td>\n",
       "      <td>6983.6</td>\n",
       "      <td>High-Value</td>\n",
       "      <td>2</td>\n",
       "      <td>Yes</td>\n",
       "      <td>0.902525</td>\n",
       "      <td>1</td>\n",
       "      <td>High-Risk</td>\n",
       "    </tr>\n",
       "    <tr>\n",
       "      <th>3</th>\n",
       "      <td>3</td>\n",
       "      <td>28</td>\n",
       "      <td>Jakarta</td>\n",
       "      <td>High End</td>\n",
       "      <td>No</td>\n",
       "      <td>No</td>\n",
       "      <td>Yes</td>\n",
       "      <td>Yes</td>\n",
       "      <td>Yes</td>\n",
       "      <td>Yes</td>\n",
       "      <td>...</td>\n",
       "      <td>Yes</td>\n",
       "      <td>106.816666</td>\n",
       "      <td>-6.2</td>\n",
       "      <td>6503.9</td>\n",
       "      <td>High-Value</td>\n",
       "      <td>2</td>\n",
       "      <td>Yes</td>\n",
       "      <td>0.748442</td>\n",
       "      <td>1</td>\n",
       "      <td>High-Risk</td>\n",
       "    </tr>\n",
       "    <tr>\n",
       "      <th>4</th>\n",
       "      <td>4</td>\n",
       "      <td>49</td>\n",
       "      <td>Jakarta</td>\n",
       "      <td>High End</td>\n",
       "      <td>No</td>\n",
       "      <td>Yes</td>\n",
       "      <td>Yes</td>\n",
       "      <td>No</td>\n",
       "      <td>Yes</td>\n",
       "      <td>Yes</td>\n",
       "      <td>...</td>\n",
       "      <td>Yes</td>\n",
       "      <td>106.816666</td>\n",
       "      <td>-6.2</td>\n",
       "      <td>6942.0</td>\n",
       "      <td>High-Value</td>\n",
       "      <td>3</td>\n",
       "      <td>Yes</td>\n",
       "      <td>0.521316</td>\n",
       "      <td>1</td>\n",
       "      <td>High-Risk</td>\n",
       "    </tr>\n",
       "  </tbody>\n",
       "</table>\n",
       "<p>5 rows × 22 columns</p>\n",
       "</div>"
      ],
      "text/plain": [
       "   Customer ID  Tenure Months Location Device Class Games Product  \\\n",
       "0            0              2  Jakarta      Mid End           Yes   \n",
       "1            1              2  Jakarta     High End            No   \n",
       "2            2              8  Jakarta     High End            No   \n",
       "3            3             28  Jakarta     High End            No   \n",
       "4            4             49  Jakarta     High End            No   \n",
       "\n",
       "  Music Product Education Product Call Center Video Product Use MyApp  ...  \\\n",
       "0           Yes                No          No            No        No  ...   \n",
       "1            No                No          No            No        No  ...   \n",
       "2            No               Yes          No           Yes       Yes  ...   \n",
       "3            No               Yes         Yes           Yes       Yes  ...   \n",
       "4           Yes               Yes          No           Yes       Yes  ...   \n",
       "\n",
       "  Churn Label   Longitude Latitude  CLTV (Predicted Thou. IDR)  \\\n",
       "0         Yes  106.816666     -6.2                      4210.7   \n",
       "1         Yes  106.816666     -6.2                      3511.3   \n",
       "2         Yes  106.816666     -6.2                      6983.6   \n",
       "3         Yes  106.816666     -6.2                      6503.9   \n",
       "4         Yes  106.816666     -6.2                      6942.0   \n",
       "\n",
       "   Customer Value  Num Product Used Internet Access  Churn Probability  \\\n",
       "0       Low-Value                 2             Yes           0.424499   \n",
       "1       Low-Value                 0             Yes           0.879698   \n",
       "2      High-Value                 2             Yes           0.902525   \n",
       "3      High-Value                 2             Yes           0.748442   \n",
       "4      High-Value                 3             Yes           0.521316   \n",
       "\n",
       "  Churn Predicted  Customer Risk  \n",
       "0               0      High-Risk  \n",
       "1               1      High-Risk  \n",
       "2               1      High-Risk  \n",
       "3               1      High-Risk  \n",
       "4               1      High-Risk  \n",
       "\n",
       "[5 rows x 22 columns]"
      ]
     },
     "execution_count": 7,
     "metadata": {},
     "output_type": "execute_result"
    }
   ],
   "source": [
    "df.head(5)"
   ]
  },
  {
   "cell_type": "code",
   "execution_count": 8,
   "id": "b4621e20",
   "metadata": {},
   "outputs": [
    {
     "data": {
      "text/html": [
       "<style type=\"text/css\">\n",
       "#T_b7bea_row0_col2, #T_b7bea_row0_col3, #T_b7bea_row1_col2, #T_b7bea_row1_col3, #T_b7bea_row2_col2, #T_b7bea_row2_col3, #T_b7bea_row2_col4, #T_b7bea_row3_col2, #T_b7bea_row3_col3, #T_b7bea_row3_col4, #T_b7bea_row4_col2, #T_b7bea_row4_col3, #T_b7bea_row4_col4, #T_b7bea_row5_col2, #T_b7bea_row5_col3, #T_b7bea_row5_col4, #T_b7bea_row6_col2, #T_b7bea_row6_col3, #T_b7bea_row6_col4, #T_b7bea_row7_col2, #T_b7bea_row7_col3, #T_b7bea_row7_col4, #T_b7bea_row8_col2, #T_b7bea_row8_col3, #T_b7bea_row8_col4, #T_b7bea_row9_col2, #T_b7bea_row9_col3, #T_b7bea_row9_col4, #T_b7bea_row10_col2, #T_b7bea_row10_col3, #T_b7bea_row10_col4, #T_b7bea_row11_col2, #T_b7bea_row11_col3, #T_b7bea_row12_col2, #T_b7bea_row12_col3, #T_b7bea_row12_col4, #T_b7bea_row13_col2, #T_b7bea_row13_col3, #T_b7bea_row13_col4, #T_b7bea_row14_col2, #T_b7bea_row14_col3, #T_b7bea_row14_col4, #T_b7bea_row15_col2, #T_b7bea_row15_col3, #T_b7bea_row16_col2, #T_b7bea_row16_col3, #T_b7bea_row16_col4, #T_b7bea_row17_col2, #T_b7bea_row17_col3, #T_b7bea_row17_col4, #T_b7bea_row18_col2, #T_b7bea_row18_col3, #T_b7bea_row18_col4, #T_b7bea_row19_col2, #T_b7bea_row19_col3, #T_b7bea_row20_col2, #T_b7bea_row20_col3, #T_b7bea_row20_col4, #T_b7bea_row21_col2, #T_b7bea_row21_col3, #T_b7bea_row21_col4 {\n",
       "  background-color: #fff7fb;\n",
       "  color: #000000;\n",
       "}\n",
       "#T_b7bea_row0_col4, #T_b7bea_row19_col4 {\n",
       "  background-color: #023858;\n",
       "  color: #f1f1f1;\n",
       "}\n",
       "#T_b7bea_row1_col4 {\n",
       "  background-color: #fef6fa;\n",
       "  color: #000000;\n",
       "}\n",
       "#T_b7bea_row11_col4 {\n",
       "  background-color: #d6d6e9;\n",
       "  color: #000000;\n",
       "}\n",
       "#T_b7bea_row15_col4 {\n",
       "  background-color: #79abd0;\n",
       "  color: #f1f1f1;\n",
       "}\n",
       "</style>\n",
       "<table id=\"T_b7bea\">\n",
       "  <thead>\n",
       "    <tr>\n",
       "      <th class=\"blank level0\" >&nbsp;</th>\n",
       "      <th id=\"T_b7bea_level0_col0\" class=\"col_heading level0 col0\" >feature</th>\n",
       "      <th id=\"T_b7bea_level0_col1\" class=\"col_heading level0 col1\" >data_type</th>\n",
       "      <th id=\"T_b7bea_level0_col2\" class=\"col_heading level0 col2\" >null_num</th>\n",
       "      <th id=\"T_b7bea_level0_col3\" class=\"col_heading level0 col3\" >null_pct</th>\n",
       "      <th id=\"T_b7bea_level0_col4\" class=\"col_heading level0 col4\" >unique_num</th>\n",
       "      <th id=\"T_b7bea_level0_col5\" class=\"col_heading level0 col5\" >unique_sample</th>\n",
       "    </tr>\n",
       "  </thead>\n",
       "  <tbody>\n",
       "    <tr>\n",
       "      <th id=\"T_b7bea_level0_row0\" class=\"row_heading level0 row0\" >0</th>\n",
       "      <td id=\"T_b7bea_row0_col0\" class=\"data row0 col0\" >Customer ID</td>\n",
       "      <td id=\"T_b7bea_row0_col1\" class=\"data row0 col1\" >int64</td>\n",
       "      <td id=\"T_b7bea_row0_col2\" class=\"data row0 col2\" >0</td>\n",
       "      <td id=\"T_b7bea_row0_col3\" class=\"data row0 col3\" >0.000000</td>\n",
       "      <td id=\"T_b7bea_row0_col4\" class=\"data row0 col4\" >7043</td>\n",
       "      <td id=\"T_b7bea_row0_col5\" class=\"data row0 col5\" >[0 1 2 3]</td>\n",
       "    </tr>\n",
       "    <tr>\n",
       "      <th id=\"T_b7bea_level0_row1\" class=\"row_heading level0 row1\" >1</th>\n",
       "      <td id=\"T_b7bea_row1_col0\" class=\"data row1 col0\" >Tenure Months</td>\n",
       "      <td id=\"T_b7bea_row1_col1\" class=\"data row1 col1\" >int64</td>\n",
       "      <td id=\"T_b7bea_row1_col2\" class=\"data row1 col2\" >0</td>\n",
       "      <td id=\"T_b7bea_row1_col3\" class=\"data row1 col3\" >0.000000</td>\n",
       "      <td id=\"T_b7bea_row1_col4\" class=\"data row1 col4\" >73</td>\n",
       "      <td id=\"T_b7bea_row1_col5\" class=\"data row1 col5\" >[ 2  8 28 49]</td>\n",
       "    </tr>\n",
       "    <tr>\n",
       "      <th id=\"T_b7bea_level0_row2\" class=\"row_heading level0 row2\" >2</th>\n",
       "      <td id=\"T_b7bea_row2_col0\" class=\"data row2 col0\" >Location</td>\n",
       "      <td id=\"T_b7bea_row2_col1\" class=\"data row2 col1\" >object</td>\n",
       "      <td id=\"T_b7bea_row2_col2\" class=\"data row2 col2\" >0</td>\n",
       "      <td id=\"T_b7bea_row2_col3\" class=\"data row2 col3\" >0.000000</td>\n",
       "      <td id=\"T_b7bea_row2_col4\" class=\"data row2 col4\" >2</td>\n",
       "      <td id=\"T_b7bea_row2_col5\" class=\"data row2 col5\" >['Jakarta' 'Bandung']</td>\n",
       "    </tr>\n",
       "    <tr>\n",
       "      <th id=\"T_b7bea_level0_row3\" class=\"row_heading level0 row3\" >3</th>\n",
       "      <td id=\"T_b7bea_row3_col0\" class=\"data row3 col0\" >Device Class</td>\n",
       "      <td id=\"T_b7bea_row3_col1\" class=\"data row3 col1\" >object</td>\n",
       "      <td id=\"T_b7bea_row3_col2\" class=\"data row3 col2\" >0</td>\n",
       "      <td id=\"T_b7bea_row3_col3\" class=\"data row3 col3\" >0.000000</td>\n",
       "      <td id=\"T_b7bea_row3_col4\" class=\"data row3 col4\" >3</td>\n",
       "      <td id=\"T_b7bea_row3_col5\" class=\"data row3 col5\" >['Mid End' 'High End' 'Low End']</td>\n",
       "    </tr>\n",
       "    <tr>\n",
       "      <th id=\"T_b7bea_level0_row4\" class=\"row_heading level0 row4\" >4</th>\n",
       "      <td id=\"T_b7bea_row4_col0\" class=\"data row4 col0\" >Games Product</td>\n",
       "      <td id=\"T_b7bea_row4_col1\" class=\"data row4 col1\" >object</td>\n",
       "      <td id=\"T_b7bea_row4_col2\" class=\"data row4 col2\" >0</td>\n",
       "      <td id=\"T_b7bea_row4_col3\" class=\"data row4 col3\" >0.000000</td>\n",
       "      <td id=\"T_b7bea_row4_col4\" class=\"data row4 col4\" >2</td>\n",
       "      <td id=\"T_b7bea_row4_col5\" class=\"data row4 col5\" >['Yes' 'No']</td>\n",
       "    </tr>\n",
       "    <tr>\n",
       "      <th id=\"T_b7bea_level0_row5\" class=\"row_heading level0 row5\" >5</th>\n",
       "      <td id=\"T_b7bea_row5_col0\" class=\"data row5 col0\" >Music Product</td>\n",
       "      <td id=\"T_b7bea_row5_col1\" class=\"data row5 col1\" >object</td>\n",
       "      <td id=\"T_b7bea_row5_col2\" class=\"data row5 col2\" >0</td>\n",
       "      <td id=\"T_b7bea_row5_col3\" class=\"data row5 col3\" >0.000000</td>\n",
       "      <td id=\"T_b7bea_row5_col4\" class=\"data row5 col4\" >2</td>\n",
       "      <td id=\"T_b7bea_row5_col5\" class=\"data row5 col5\" >['Yes' 'No']</td>\n",
       "    </tr>\n",
       "    <tr>\n",
       "      <th id=\"T_b7bea_level0_row6\" class=\"row_heading level0 row6\" >6</th>\n",
       "      <td id=\"T_b7bea_row6_col0\" class=\"data row6 col0\" >Education Product</td>\n",
       "      <td id=\"T_b7bea_row6_col1\" class=\"data row6 col1\" >object</td>\n",
       "      <td id=\"T_b7bea_row6_col2\" class=\"data row6 col2\" >0</td>\n",
       "      <td id=\"T_b7bea_row6_col3\" class=\"data row6 col3\" >0.000000</td>\n",
       "      <td id=\"T_b7bea_row6_col4\" class=\"data row6 col4\" >2</td>\n",
       "      <td id=\"T_b7bea_row6_col5\" class=\"data row6 col5\" >['No' 'Yes']</td>\n",
       "    </tr>\n",
       "    <tr>\n",
       "      <th id=\"T_b7bea_level0_row7\" class=\"row_heading level0 row7\" >7</th>\n",
       "      <td id=\"T_b7bea_row7_col0\" class=\"data row7 col0\" >Call Center</td>\n",
       "      <td id=\"T_b7bea_row7_col1\" class=\"data row7 col1\" >object</td>\n",
       "      <td id=\"T_b7bea_row7_col2\" class=\"data row7 col2\" >0</td>\n",
       "      <td id=\"T_b7bea_row7_col3\" class=\"data row7 col3\" >0.000000</td>\n",
       "      <td id=\"T_b7bea_row7_col4\" class=\"data row7 col4\" >2</td>\n",
       "      <td id=\"T_b7bea_row7_col5\" class=\"data row7 col5\" >['No' 'Yes']</td>\n",
       "    </tr>\n",
       "    <tr>\n",
       "      <th id=\"T_b7bea_level0_row8\" class=\"row_heading level0 row8\" >8</th>\n",
       "      <td id=\"T_b7bea_row8_col0\" class=\"data row8 col0\" >Video Product</td>\n",
       "      <td id=\"T_b7bea_row8_col1\" class=\"data row8 col1\" >object</td>\n",
       "      <td id=\"T_b7bea_row8_col2\" class=\"data row8 col2\" >0</td>\n",
       "      <td id=\"T_b7bea_row8_col3\" class=\"data row8 col3\" >0.000000</td>\n",
       "      <td id=\"T_b7bea_row8_col4\" class=\"data row8 col4\" >2</td>\n",
       "      <td id=\"T_b7bea_row8_col5\" class=\"data row8 col5\" >['No' 'Yes']</td>\n",
       "    </tr>\n",
       "    <tr>\n",
       "      <th id=\"T_b7bea_level0_row9\" class=\"row_heading level0 row9\" >9</th>\n",
       "      <td id=\"T_b7bea_row9_col0\" class=\"data row9 col0\" >Use MyApp</td>\n",
       "      <td id=\"T_b7bea_row9_col1\" class=\"data row9 col1\" >object</td>\n",
       "      <td id=\"T_b7bea_row9_col2\" class=\"data row9 col2\" >0</td>\n",
       "      <td id=\"T_b7bea_row9_col3\" class=\"data row9 col3\" >0.000000</td>\n",
       "      <td id=\"T_b7bea_row9_col4\" class=\"data row9 col4\" >2</td>\n",
       "      <td id=\"T_b7bea_row9_col5\" class=\"data row9 col5\" >['No' 'Yes']</td>\n",
       "    </tr>\n",
       "    <tr>\n",
       "      <th id=\"T_b7bea_level0_row10\" class=\"row_heading level0 row10\" >10</th>\n",
       "      <td id=\"T_b7bea_row10_col0\" class=\"data row10 col0\" >Payment Method</td>\n",
       "      <td id=\"T_b7bea_row10_col1\" class=\"data row10 col1\" >object</td>\n",
       "      <td id=\"T_b7bea_row10_col2\" class=\"data row10 col2\" >0</td>\n",
       "      <td id=\"T_b7bea_row10_col3\" class=\"data row10 col3\" >0.000000</td>\n",
       "      <td id=\"T_b7bea_row10_col4\" class=\"data row10 col4\" >4</td>\n",
       "      <td id=\"T_b7bea_row10_col5\" class=\"data row10 col5\" >['Digital Wallet' 'Pulsa' 'Debit' 'Credit']</td>\n",
       "    </tr>\n",
       "    <tr>\n",
       "      <th id=\"T_b7bea_level0_row11\" class=\"row_heading level0 row11\" >11</th>\n",
       "      <td id=\"T_b7bea_row11_col0\" class=\"data row11 col0\" >Monthly Purchase (Thou. IDR)</td>\n",
       "      <td id=\"T_b7bea_row11_col1\" class=\"data row11 col1\" >float64</td>\n",
       "      <td id=\"T_b7bea_row11_col2\" class=\"data row11 col2\" >0</td>\n",
       "      <td id=\"T_b7bea_row11_col3\" class=\"data row11 col3\" >0.000000</td>\n",
       "      <td id=\"T_b7bea_row11_col4\" class=\"data row11 col4\" >1585</td>\n",
       "      <td id=\"T_b7bea_row11_col5\" class=\"data row11 col5\" >[ 70.005  91.91  129.545 136.24 ]</td>\n",
       "    </tr>\n",
       "    <tr>\n",
       "      <th id=\"T_b7bea_level0_row12\" class=\"row_heading level0 row12\" >12</th>\n",
       "      <td id=\"T_b7bea_row12_col0\" class=\"data row12 col0\" >Churn Label</td>\n",
       "      <td id=\"T_b7bea_row12_col1\" class=\"data row12 col1\" >object</td>\n",
       "      <td id=\"T_b7bea_row12_col2\" class=\"data row12 col2\" >0</td>\n",
       "      <td id=\"T_b7bea_row12_col3\" class=\"data row12 col3\" >0.000000</td>\n",
       "      <td id=\"T_b7bea_row12_col4\" class=\"data row12 col4\" >2</td>\n",
       "      <td id=\"T_b7bea_row12_col5\" class=\"data row12 col5\" >['Yes' 'No']</td>\n",
       "    </tr>\n",
       "    <tr>\n",
       "      <th id=\"T_b7bea_level0_row13\" class=\"row_heading level0 row13\" >13</th>\n",
       "      <td id=\"T_b7bea_row13_col0\" class=\"data row13 col0\" >Longitude</td>\n",
       "      <td id=\"T_b7bea_row13_col1\" class=\"data row13 col1\" >float64</td>\n",
       "      <td id=\"T_b7bea_row13_col2\" class=\"data row13 col2\" >0</td>\n",
       "      <td id=\"T_b7bea_row13_col3\" class=\"data row13 col3\" >0.000000</td>\n",
       "      <td id=\"T_b7bea_row13_col4\" class=\"data row13 col4\" >2</td>\n",
       "      <td id=\"T_b7bea_row13_col5\" class=\"data row13 col5\" >[106.816666 107.60981 ]</td>\n",
       "    </tr>\n",
       "    <tr>\n",
       "      <th id=\"T_b7bea_level0_row14\" class=\"row_heading level0 row14\" >14</th>\n",
       "      <td id=\"T_b7bea_row14_col0\" class=\"data row14 col0\" >Latitude</td>\n",
       "      <td id=\"T_b7bea_row14_col1\" class=\"data row14 col1\" >float64</td>\n",
       "      <td id=\"T_b7bea_row14_col2\" class=\"data row14 col2\" >0</td>\n",
       "      <td id=\"T_b7bea_row14_col3\" class=\"data row14 col3\" >0.000000</td>\n",
       "      <td id=\"T_b7bea_row14_col4\" class=\"data row14 col4\" >2</td>\n",
       "      <td id=\"T_b7bea_row14_col5\" class=\"data row14 col5\" >[-6.2      -6.914744]</td>\n",
       "    </tr>\n",
       "    <tr>\n",
       "      <th id=\"T_b7bea_level0_row15\" class=\"row_heading level0 row15\" >15</th>\n",
       "      <td id=\"T_b7bea_row15_col0\" class=\"data row15 col0\" >CLTV (Predicted Thou. IDR)</td>\n",
       "      <td id=\"T_b7bea_row15_col1\" class=\"data row15 col1\" >float64</td>\n",
       "      <td id=\"T_b7bea_row15_col2\" class=\"data row15 col2\" >0</td>\n",
       "      <td id=\"T_b7bea_row15_col3\" class=\"data row15 col3\" >0.000000</td>\n",
       "      <td id=\"T_b7bea_row15_col4\" class=\"data row15 col4\" >3438</td>\n",
       "      <td id=\"T_b7bea_row15_col5\" class=\"data row15 col5\" >[4210.7 3511.3 6983.6 6503.9]</td>\n",
       "    </tr>\n",
       "    <tr>\n",
       "      <th id=\"T_b7bea_level0_row16\" class=\"row_heading level0 row16\" >16</th>\n",
       "      <td id=\"T_b7bea_row16_col0\" class=\"data row16 col0\" >Customer Value</td>\n",
       "      <td id=\"T_b7bea_row16_col1\" class=\"data row16 col1\" >object</td>\n",
       "      <td id=\"T_b7bea_row16_col2\" class=\"data row16 col2\" >0</td>\n",
       "      <td id=\"T_b7bea_row16_col3\" class=\"data row16 col3\" >0.000000</td>\n",
       "      <td id=\"T_b7bea_row16_col4\" class=\"data row16 col4\" >3</td>\n",
       "      <td id=\"T_b7bea_row16_col5\" class=\"data row16 col5\" >['Low-Value' 'High-Value' 'Mid-Value']</td>\n",
       "    </tr>\n",
       "    <tr>\n",
       "      <th id=\"T_b7bea_level0_row17\" class=\"row_heading level0 row17\" >17</th>\n",
       "      <td id=\"T_b7bea_row17_col0\" class=\"data row17 col0\" >Num Product Used</td>\n",
       "      <td id=\"T_b7bea_row17_col1\" class=\"data row17 col1\" >int64</td>\n",
       "      <td id=\"T_b7bea_row17_col2\" class=\"data row17 col2\" >0</td>\n",
       "      <td id=\"T_b7bea_row17_col3\" class=\"data row17 col3\" >0.000000</td>\n",
       "      <td id=\"T_b7bea_row17_col4\" class=\"data row17 col4\" >5</td>\n",
       "      <td id=\"T_b7bea_row17_col5\" class=\"data row17 col5\" >[2 0 3 1]</td>\n",
       "    </tr>\n",
       "    <tr>\n",
       "      <th id=\"T_b7bea_level0_row18\" class=\"row_heading level0 row18\" >18</th>\n",
       "      <td id=\"T_b7bea_row18_col0\" class=\"data row18 col0\" >Internet Access</td>\n",
       "      <td id=\"T_b7bea_row18_col1\" class=\"data row18 col1\" >object</td>\n",
       "      <td id=\"T_b7bea_row18_col2\" class=\"data row18 col2\" >0</td>\n",
       "      <td id=\"T_b7bea_row18_col3\" class=\"data row18 col3\" >0.000000</td>\n",
       "      <td id=\"T_b7bea_row18_col4\" class=\"data row18 col4\" >2</td>\n",
       "      <td id=\"T_b7bea_row18_col5\" class=\"data row18 col5\" >['Yes' 'No']</td>\n",
       "    </tr>\n",
       "    <tr>\n",
       "      <th id=\"T_b7bea_level0_row19\" class=\"row_heading level0 row19\" >19</th>\n",
       "      <td id=\"T_b7bea_row19_col0\" class=\"data row19 col0\" >Churn Probability</td>\n",
       "      <td id=\"T_b7bea_row19_col1\" class=\"data row19 col1\" >float64</td>\n",
       "      <td id=\"T_b7bea_row19_col2\" class=\"data row19 col2\" >0</td>\n",
       "      <td id=\"T_b7bea_row19_col3\" class=\"data row19 col3\" >0.000000</td>\n",
       "      <td id=\"T_b7bea_row19_col4\" class=\"data row19 col4\" >7034</td>\n",
       "      <td id=\"T_b7bea_row19_col5\" class=\"data row19 col5\" >[0.42449891 0.87969752 0.90252463 0.74844201]</td>\n",
       "    </tr>\n",
       "    <tr>\n",
       "      <th id=\"T_b7bea_level0_row20\" class=\"row_heading level0 row20\" >20</th>\n",
       "      <td id=\"T_b7bea_row20_col0\" class=\"data row20 col0\" >Churn Predicted</td>\n",
       "      <td id=\"T_b7bea_row20_col1\" class=\"data row20 col1\" >int64</td>\n",
       "      <td id=\"T_b7bea_row20_col2\" class=\"data row20 col2\" >0</td>\n",
       "      <td id=\"T_b7bea_row20_col3\" class=\"data row20 col3\" >0.000000</td>\n",
       "      <td id=\"T_b7bea_row20_col4\" class=\"data row20 col4\" >2</td>\n",
       "      <td id=\"T_b7bea_row20_col5\" class=\"data row20 col5\" >[0 1]</td>\n",
       "    </tr>\n",
       "    <tr>\n",
       "      <th id=\"T_b7bea_level0_row21\" class=\"row_heading level0 row21\" >21</th>\n",
       "      <td id=\"T_b7bea_row21_col0\" class=\"data row21 col0\" >Customer Risk</td>\n",
       "      <td id=\"T_b7bea_row21_col1\" class=\"data row21 col1\" >object</td>\n",
       "      <td id=\"T_b7bea_row21_col2\" class=\"data row21 col2\" >0</td>\n",
       "      <td id=\"T_b7bea_row21_col3\" class=\"data row21 col3\" >0.000000</td>\n",
       "      <td id=\"T_b7bea_row21_col4\" class=\"data row21 col4\" >3</td>\n",
       "      <td id=\"T_b7bea_row21_col5\" class=\"data row21 col5\" >['High-Risk' 'Mid-Risk' 'Low-Risk']</td>\n",
       "    </tr>\n",
       "  </tbody>\n",
       "</table>\n"
      ],
      "text/plain": [
       "<pandas.io.formats.style.Styler at 0x228dc582d00>"
      ]
     },
     "execution_count": 8,
     "metadata": {},
     "output_type": "execute_result"
    }
   ],
   "source": [
    "list_item = []\n",
    "for col in df.columns:\n",
    "    list_item.append([col, df[col].dtype, df[col].isna().sum(), 100*df[col].isna().sum()/len(df[col]), df[col].nunique(), df[col].unique()[:4]])\n",
    "desc_df = pd.DataFrame(data=list_item, columns='feature data_type null_num null_pct unique_num unique_sample'.split())\n",
    "desc_df.style.background_gradient()"
   ]
  },
  {
   "cell_type": "markdown",
   "id": "9a2d1735",
   "metadata": {},
   "source": [
    "# Analyzing Churn Distributions"
   ]
  },
  {
   "cell_type": "markdown",
   "id": "e3148639",
   "metadata": {},
   "source": [
    "## Churn Probability Distribution"
   ]
  },
  {
   "cell_type": "code",
   "execution_count": 11,
   "id": "712c41c6",
   "metadata": {},
   "outputs": [
    {
     "data": {
      "text/plain": [
       "<AxesSubplot:xlabel='Churn Probability', ylabel='Count'>"
      ]
     },
     "execution_count": 11,
     "metadata": {},
     "output_type": "execute_result"
    },
    {
     "data": {
      "image/png": "[encoded data removed]",
      "text/plain": [
       "<Figure size 640x480 with 1 Axes>"
      ]
     },
     "metadata": {},
     "output_type": "display_data"
    }
   ],
   "source": [
    "sns.histplot(data=df, x='Churn Probability', hue='Churn Label', multiple='stack')"
   ]
  },
  {
   "cell_type": "markdown",
   "id": "8d60ce4f",
   "metadata": {},
   "source": [
    "## Churn Risk"
   ]
  },
  {
   "cell_type": "markdown",
   "id": "1336879d",
   "metadata": {},
   "source": [
    "# Analyzing High Risk"
   ]
  },
  {
   "cell_type": "markdown",
   "id": "ad4e3d74",
   "metadata": {},
   "source": [
    "## Population Churn Rate"
   ]
  },
  {
   "cell_type": "code",
   "execution_count": 12,
   "id": "417a738b",
   "metadata": {},
   "outputs": [
    {
     "data": {
      "text/plain": [
       "No     73.463013\n",
       "Yes    26.536987\n",
       "Name: Churn Label, dtype: float64"
      ]
     },
     "execution_count": 12,
     "metadata": {},
     "output_type": "execute_result"
    }
   ],
   "source": [
    "df['Churn Label'].value_counts(normalize=True)*100"
   ]
  },
  {
   "cell_type": "markdown",
   "id": "29bdc0b5",
   "metadata": {},
   "source": [
    "## Churn Rate without High Risk Customers"
   ]
  },
  {
   "cell_type": "code",
   "execution_count": 19,
   "id": "a3f3347d",
   "metadata": {},
   "outputs": [],
   "source": [
    "mask = df['Customer Risk'] != 'High-Risk'\n",
    "df_nonrisk = df[mask]"
   ]
  },
  {
   "cell_type": "code",
   "execution_count": 23,
   "id": "4cb3f394",
   "metadata": {},
   "outputs": [
    {
     "data": {
      "text/plain": [
       "(3522, 22)"
      ]
     },
     "execution_count": 23,
     "metadata": {},
     "output_type": "execute_result"
    }
   ],
   "source": [
    "df_nonrisk.shape"
   ]
  },
  {
   "cell_type": "code",
   "execution_count": 20,
   "id": "29cb5460",
   "metadata": {
    "scrolled": true
   },
   "outputs": [
    {
     "data": {
      "text/plain": [
       "No     92.561045\n",
       "Yes     7.438955\n",
       "Name: Churn Label, dtype: float64"
      ]
     },
     "execution_count": 20,
     "metadata": {},
     "output_type": "execute_result"
    }
   ],
   "source": [
    "df_nonrisk['Churn Label'].value_counts(normalize=True)*100"
   ]
  },
  {
   "cell_type": "markdown",
   "id": "ef293703",
   "metadata": {},
   "source": [
    "## Churn Rate without High Risk and High Value Customers"
   ]
  },
  {
   "cell_type": "code",
   "execution_count": 21,
   "id": "1fc7f0cb",
   "metadata": {},
   "outputs": [],
   "source": [
    "mask = (df['Customer Risk'] != 'High-Risk') & (df['Customer Value'] != 'High-Value')\n",
    "df_nonrisk_lowvalue = df[mask]"
   ]
  },
  {
   "cell_type": "code",
   "execution_count": 24,
   "id": "e70050bb",
   "metadata": {},
   "outputs": [
    {
     "data": {
      "text/plain": [
       "(1488, 22)"
      ]
     },
     "execution_count": 24,
     "metadata": {},
     "output_type": "execute_result"
    }
   ],
   "source": [
    "df_nonrisk_lowvalue.shape"
   ]
  },
  {
   "cell_type": "code",
   "execution_count": 22,
   "id": "fe573670",
   "metadata": {},
   "outputs": [
    {
     "data": {
      "text/plain": [
       "No     91.397849\n",
       "Yes     8.602151\n",
       "Name: Churn Label, dtype: float64"
      ]
     },
     "execution_count": 22,
     "metadata": {},
     "output_type": "execute_result"
    }
   ],
   "source": [
    "df_nonrisk_lowvalue['Churn Label'].value_counts(normalize=True)*100"
   ]
  },
  {
   "cell_type": "code",
   "execution_count": null,
   "id": "a4fb379d",
   "metadata": {},
   "outputs": [],
   "source": []
  }
 ],
 "metadata": {
  "kernelspec": {
   "display_name": "Python [conda env:loan_prediction_env]",
   "language": "python",
   "name": "conda-env-loan_prediction_env-py"
  },
  "language_info": {
   "codemirror_mode": {
    "name": "ipython",
    "version": 3
   },
   "file_extension": ".py",
   "mimetype": "text/x-python",
   "name": "python",
   "nbconvert_exporter": "python",
   "pygments_lexer": "ipython3",
   "version": "3.8.17"
  },
  "varInspector": {
   "cols": {
    "lenName": 16,
    "lenType": 16,
    "lenVar": 40
   },
   "kernels_config": {
    "python": {
     "delete_cmd_postfix": "",
     "delete_cmd_prefix": "del ",
     "library": "var_list.py",
     "varRefreshCmd": "print(var_dic_list())"
    },
    "r": {
     "delete_cmd_postfix": ") ",
     "delete_cmd_prefix": "rm(",
     "library": "var_list.r",
     "varRefreshCmd": "cat(var_dic_list()) "
    }
   },
   "types_to_exclude": [
    "module",
    "function",
    "builtin_function_or_method",
    "instance",
    "_Feature"
   ],
   "window_display": false
  }
 },
 "nbformat": 4,
 "nbformat_minor": 5
}
