{
 "cells": [
  {
   "cell_type": "markdown",
   "id": "82c66c44",
   "metadata": {},
   "source": [
    "# Import Libraries"
   ]
  },
  {
   "cell_type": "code",
   "execution_count": 1,
   "id": "9911e0ab",
   "metadata": {},
   "outputs": [],
   "source": [
    "import numpy as np\n",
    "import pandas as pd\n",
    "\n",
    "import seaborn as sns\n",
    "import matplotlib as plt\n",
    "\n",
    "import pickle"
   ]
  },
  {
   "cell_type": "code",
   "execution_count": 2,
   "id": "d957cc6e",
   "metadata": {},
   "outputs": [],
   "source": [
    "df = pd.read_excel('Telco_customer_churn_adapted_v2.xlsx')"
   ]
  },
  {
   "cell_type": "code",
   "execution_count": 3,
   "id": "4f490efa",
   "metadata": {
    "scrolled": true
   },
   "outputs": [
    {
     "data": {
      "text/html": [
       "<style type=\"text/css\">\n",
       "#T_5475f_row0_col0, #T_5475f_row0_col1, #T_5475f_row0_col11, #T_5475f_row0_col13, #T_5475f_row0_col14, #T_5475f_row1_col1, #T_5475f_row1_col13, #T_5475f_row1_col14, #T_5475f_row1_col15, #T_5475f_row2_col13, #T_5475f_row2_col14, #T_5475f_row3_col13, #T_5475f_row3_col14, #T_5475f_row4_col13, #T_5475f_row4_col14 {\n",
       "  background-color: #fff7fb;\n",
       "  color: #000000;\n",
       "}\n",
       "#T_5475f_row0_col15 {\n",
       "  background-color: #dbdaeb;\n",
       "  color: #000000;\n",
       "}\n",
       "#T_5475f_row1_col0 {\n",
       "  background-color: #d0d1e6;\n",
       "  color: #000000;\n",
       "}\n",
       "#T_5475f_row1_col11 {\n",
       "  background-color: #b5c4df;\n",
       "  color: #000000;\n",
       "}\n",
       "#T_5475f_row2_col0 {\n",
       "  background-color: #73a9cf;\n",
       "  color: #f1f1f1;\n",
       "}\n",
       "#T_5475f_row2_col1 {\n",
       "  background-color: #ece7f2;\n",
       "  color: #000000;\n",
       "}\n",
       "#T_5475f_row2_col11 {\n",
       "  background-color: #045382;\n",
       "  color: #f1f1f1;\n",
       "}\n",
       "#T_5475f_row2_col15, #T_5475f_row3_col11, #T_5475f_row4_col0, #T_5475f_row4_col1 {\n",
       "  background-color: #023858;\n",
       "  color: #f1f1f1;\n",
       "}\n",
       "#T_5475f_row3_col0 {\n",
       "  background-color: #056faf;\n",
       "  color: #f1f1f1;\n",
       "}\n",
       "#T_5475f_row3_col1 {\n",
       "  background-color: #5a9ec9;\n",
       "  color: #f1f1f1;\n",
       "}\n",
       "#T_5475f_row3_col15 {\n",
       "  background-color: #045c90;\n",
       "  color: #f1f1f1;\n",
       "}\n",
       "#T_5475f_row4_col11 {\n",
       "  background-color: #023d60;\n",
       "  color: #f1f1f1;\n",
       "}\n",
       "#T_5475f_row4_col15 {\n",
       "  background-color: #023b5d;\n",
       "  color: #f1f1f1;\n",
       "}\n",
       "</style>\n",
       "<table id=\"T_5475f\">\n",
       "  <thead>\n",
       "    <tr>\n",
       "      <th class=\"blank level0\" >&nbsp;</th>\n",
       "      <th id=\"T_5475f_level0_col0\" class=\"col_heading level0 col0\" >Customer ID</th>\n",
       "      <th id=\"T_5475f_level0_col1\" class=\"col_heading level0 col1\" >Tenure Months</th>\n",
       "      <th id=\"T_5475f_level0_col2\" class=\"col_heading level0 col2\" >Location</th>\n",
       "      <th id=\"T_5475f_level0_col3\" class=\"col_heading level0 col3\" >Device Class</th>\n",
       "      <th id=\"T_5475f_level0_col4\" class=\"col_heading level0 col4\" >Games Product</th>\n",
       "      <th id=\"T_5475f_level0_col5\" class=\"col_heading level0 col5\" >Music Product</th>\n",
       "      <th id=\"T_5475f_level0_col6\" class=\"col_heading level0 col6\" >Education Product</th>\n",
       "      <th id=\"T_5475f_level0_col7\" class=\"col_heading level0 col7\" >Call Center</th>\n",
       "      <th id=\"T_5475f_level0_col8\" class=\"col_heading level0 col8\" >Video Product</th>\n",
       "      <th id=\"T_5475f_level0_col9\" class=\"col_heading level0 col9\" >Use MyApp</th>\n",
       "      <th id=\"T_5475f_level0_col10\" class=\"col_heading level0 col10\" >Payment Method</th>\n",
       "      <th id=\"T_5475f_level0_col11\" class=\"col_heading level0 col11\" >Monthly Purchase (Thou. IDR)</th>\n",
       "      <th id=\"T_5475f_level0_col12\" class=\"col_heading level0 col12\" >Churn Label</th>\n",
       "      <th id=\"T_5475f_level0_col13\" class=\"col_heading level0 col13\" >Longitude</th>\n",
       "      <th id=\"T_5475f_level0_col14\" class=\"col_heading level0 col14\" >Latitude</th>\n",
       "      <th id=\"T_5475f_level0_col15\" class=\"col_heading level0 col15\" >CLTV (Predicted Thou. IDR)</th>\n",
       "    </tr>\n",
       "  </thead>\n",
       "  <tbody>\n",
       "    <tr>\n",
       "      <th id=\"T_5475f_level0_row0\" class=\"row_heading level0 row0\" >0</th>\n",
       "      <td id=\"T_5475f_row0_col0\" class=\"data row0 col0\" >0</td>\n",
       "      <td id=\"T_5475f_row0_col1\" class=\"data row0 col1\" >2</td>\n",
       "      <td id=\"T_5475f_row0_col2\" class=\"data row0 col2\" >Jakarta</td>\n",
       "      <td id=\"T_5475f_row0_col3\" class=\"data row0 col3\" >Mid End</td>\n",
       "      <td id=\"T_5475f_row0_col4\" class=\"data row0 col4\" >Yes</td>\n",
       "      <td id=\"T_5475f_row0_col5\" class=\"data row0 col5\" >Yes</td>\n",
       "      <td id=\"T_5475f_row0_col6\" class=\"data row0 col6\" >No</td>\n",
       "      <td id=\"T_5475f_row0_col7\" class=\"data row0 col7\" >No</td>\n",
       "      <td id=\"T_5475f_row0_col8\" class=\"data row0 col8\" >No</td>\n",
       "      <td id=\"T_5475f_row0_col9\" class=\"data row0 col9\" >No</td>\n",
       "      <td id=\"T_5475f_row0_col10\" class=\"data row0 col10\" >Digital Wallet</td>\n",
       "      <td id=\"T_5475f_row0_col11\" class=\"data row0 col11\" >70.005000</td>\n",
       "      <td id=\"T_5475f_row0_col12\" class=\"data row0 col12\" >Yes</td>\n",
       "      <td id=\"T_5475f_row0_col13\" class=\"data row0 col13\" >106.816666</td>\n",
       "      <td id=\"T_5475f_row0_col14\" class=\"data row0 col14\" >-6.200000</td>\n",
       "      <td id=\"T_5475f_row0_col15\" class=\"data row0 col15\" >4210.700000</td>\n",
       "    </tr>\n",
       "    <tr>\n",
       "      <th id=\"T_5475f_level0_row1\" class=\"row_heading level0 row1\" >1</th>\n",
       "      <td id=\"T_5475f_row1_col0\" class=\"data row1 col0\" >1</td>\n",
       "      <td id=\"T_5475f_row1_col1\" class=\"data row1 col1\" >2</td>\n",
       "      <td id=\"T_5475f_row1_col2\" class=\"data row1 col2\" >Jakarta</td>\n",
       "      <td id=\"T_5475f_row1_col3\" class=\"data row1 col3\" >High End</td>\n",
       "      <td id=\"T_5475f_row1_col4\" class=\"data row1 col4\" >No</td>\n",
       "      <td id=\"T_5475f_row1_col5\" class=\"data row1 col5\" >No</td>\n",
       "      <td id=\"T_5475f_row1_col6\" class=\"data row1 col6\" >No</td>\n",
       "      <td id=\"T_5475f_row1_col7\" class=\"data row1 col7\" >No</td>\n",
       "      <td id=\"T_5475f_row1_col8\" class=\"data row1 col8\" >No</td>\n",
       "      <td id=\"T_5475f_row1_col9\" class=\"data row1 col9\" >No</td>\n",
       "      <td id=\"T_5475f_row1_col10\" class=\"data row1 col10\" >Pulsa</td>\n",
       "      <td id=\"T_5475f_row1_col11\" class=\"data row1 col11\" >91.910000</td>\n",
       "      <td id=\"T_5475f_row1_col12\" class=\"data row1 col12\" >Yes</td>\n",
       "      <td id=\"T_5475f_row1_col13\" class=\"data row1 col13\" >106.816666</td>\n",
       "      <td id=\"T_5475f_row1_col14\" class=\"data row1 col14\" >-6.200000</td>\n",
       "      <td id=\"T_5475f_row1_col15\" class=\"data row1 col15\" >3511.300000</td>\n",
       "    </tr>\n",
       "    <tr>\n",
       "      <th id=\"T_5475f_level0_row2\" class=\"row_heading level0 row2\" >2</th>\n",
       "      <td id=\"T_5475f_row2_col0\" class=\"data row2 col0\" >2</td>\n",
       "      <td id=\"T_5475f_row2_col1\" class=\"data row2 col1\" >8</td>\n",
       "      <td id=\"T_5475f_row2_col2\" class=\"data row2 col2\" >Jakarta</td>\n",
       "      <td id=\"T_5475f_row2_col3\" class=\"data row2 col3\" >High End</td>\n",
       "      <td id=\"T_5475f_row2_col4\" class=\"data row2 col4\" >No</td>\n",
       "      <td id=\"T_5475f_row2_col5\" class=\"data row2 col5\" >No</td>\n",
       "      <td id=\"T_5475f_row2_col6\" class=\"data row2 col6\" >Yes</td>\n",
       "      <td id=\"T_5475f_row2_col7\" class=\"data row2 col7\" >No</td>\n",
       "      <td id=\"T_5475f_row2_col8\" class=\"data row2 col8\" >Yes</td>\n",
       "      <td id=\"T_5475f_row2_col9\" class=\"data row2 col9\" >Yes</td>\n",
       "      <td id=\"T_5475f_row2_col10\" class=\"data row2 col10\" >Pulsa</td>\n",
       "      <td id=\"T_5475f_row2_col11\" class=\"data row2 col11\" >129.545000</td>\n",
       "      <td id=\"T_5475f_row2_col12\" class=\"data row2 col12\" >Yes</td>\n",
       "      <td id=\"T_5475f_row2_col13\" class=\"data row2 col13\" >106.816666</td>\n",
       "      <td id=\"T_5475f_row2_col14\" class=\"data row2 col14\" >-6.200000</td>\n",
       "      <td id=\"T_5475f_row2_col15\" class=\"data row2 col15\" >6983.600000</td>\n",
       "    </tr>\n",
       "    <tr>\n",
       "      <th id=\"T_5475f_level0_row3\" class=\"row_heading level0 row3\" >3</th>\n",
       "      <td id=\"T_5475f_row3_col0\" class=\"data row3 col0\" >3</td>\n",
       "      <td id=\"T_5475f_row3_col1\" class=\"data row3 col1\" >28</td>\n",
       "      <td id=\"T_5475f_row3_col2\" class=\"data row3 col2\" >Jakarta</td>\n",
       "      <td id=\"T_5475f_row3_col3\" class=\"data row3 col3\" >High End</td>\n",
       "      <td id=\"T_5475f_row3_col4\" class=\"data row3 col4\" >No</td>\n",
       "      <td id=\"T_5475f_row3_col5\" class=\"data row3 col5\" >No</td>\n",
       "      <td id=\"T_5475f_row3_col6\" class=\"data row3 col6\" >Yes</td>\n",
       "      <td id=\"T_5475f_row3_col7\" class=\"data row3 col7\" >Yes</td>\n",
       "      <td id=\"T_5475f_row3_col8\" class=\"data row3 col8\" >Yes</td>\n",
       "      <td id=\"T_5475f_row3_col9\" class=\"data row3 col9\" >Yes</td>\n",
       "      <td id=\"T_5475f_row3_col10\" class=\"data row3 col10\" >Pulsa</td>\n",
       "      <td id=\"T_5475f_row3_col11\" class=\"data row3 col11\" >136.240000</td>\n",
       "      <td id=\"T_5475f_row3_col12\" class=\"data row3 col12\" >Yes</td>\n",
       "      <td id=\"T_5475f_row3_col13\" class=\"data row3 col13\" >106.816666</td>\n",
       "      <td id=\"T_5475f_row3_col14\" class=\"data row3 col14\" >-6.200000</td>\n",
       "      <td id=\"T_5475f_row3_col15\" class=\"data row3 col15\" >6503.900000</td>\n",
       "    </tr>\n",
       "    <tr>\n",
       "      <th id=\"T_5475f_level0_row4\" class=\"row_heading level0 row4\" >4</th>\n",
       "      <td id=\"T_5475f_row4_col0\" class=\"data row4 col0\" >4</td>\n",
       "      <td id=\"T_5475f_row4_col1\" class=\"data row4 col1\" >49</td>\n",
       "      <td id=\"T_5475f_row4_col2\" class=\"data row4 col2\" >Jakarta</td>\n",
       "      <td id=\"T_5475f_row4_col3\" class=\"data row4 col3\" >High End</td>\n",
       "      <td id=\"T_5475f_row4_col4\" class=\"data row4 col4\" >No</td>\n",
       "      <td id=\"T_5475f_row4_col5\" class=\"data row4 col5\" >Yes</td>\n",
       "      <td id=\"T_5475f_row4_col6\" class=\"data row4 col6\" >Yes</td>\n",
       "      <td id=\"T_5475f_row4_col7\" class=\"data row4 col7\" >No</td>\n",
       "      <td id=\"T_5475f_row4_col8\" class=\"data row4 col8\" >Yes</td>\n",
       "      <td id=\"T_5475f_row4_col9\" class=\"data row4 col9\" >Yes</td>\n",
       "      <td id=\"T_5475f_row4_col10\" class=\"data row4 col10\" >Debit</td>\n",
       "      <td id=\"T_5475f_row4_col11\" class=\"data row4 col11\" >134.810000</td>\n",
       "      <td id=\"T_5475f_row4_col12\" class=\"data row4 col12\" >Yes</td>\n",
       "      <td id=\"T_5475f_row4_col13\" class=\"data row4 col13\" >106.816666</td>\n",
       "      <td id=\"T_5475f_row4_col14\" class=\"data row4 col14\" >-6.200000</td>\n",
       "      <td id=\"T_5475f_row4_col15\" class=\"data row4 col15\" >6942.000000</td>\n",
       "    </tr>\n",
       "  </tbody>\n",
       "</table>\n"
      ],
      "text/plain": [
       "<pandas.io.formats.style.Styler at 0x275533e44f0>"
      ]
     },
     "execution_count": 3,
     "metadata": {},
     "output_type": "execute_result"
    }
   ],
   "source": [
    "df.head(5).style.background_gradient()"
   ]
  },
  {
   "cell_type": "code",
   "execution_count": 4,
   "id": "24beb03e",
   "metadata": {},
   "outputs": [
    {
     "data": {
      "text/plain": [
       "No                     3498\n",
       "Yes                    2019\n",
       "No internet service    1526\n",
       "Name: Games Product, dtype: int64"
      ]
     },
     "execution_count": 4,
     "metadata": {},
     "output_type": "execute_result"
    }
   ],
   "source": [
    "df['Games Product'].value_counts()"
   ]
  },
  {
   "cell_type": "markdown",
   "id": "b778bd33",
   "metadata": {},
   "source": [
    "# Preprocessed"
   ]
  },
  {
   "cell_type": "markdown",
   "id": "4d23f291",
   "metadata": {},
   "source": [
    "## Feature Engineering"
   ]
  },
  {
   "cell_type": "markdown",
   "id": "d63664ad",
   "metadata": {},
   "source": [
    "### Create Segment using CLTV"
   ]
  },
  {
   "cell_type": "markdown",
   "id": "3c45644d",
   "metadata": {},
   "source": [
    "#### Using Qcut"
   ]
  },
  {
   "cell_type": "code",
   "execution_count": 5,
   "id": "03b8b91e",
   "metadata": {},
   "outputs": [],
   "source": [
    "#df['Customer Value'] = pd.qcut(df['CLTV (Predicted Thou. IDR)'], 3, labels=['Low-Value', 'Mid-Value', 'High-Value'])"
   ]
  },
  {
   "cell_type": "code",
   "execution_count": 6,
   "id": "edc14a93",
   "metadata": {},
   "outputs": [],
   "source": [
    "#df['Customer Value'] = df['Customer Value'].astype(object)"
   ]
  },
  {
   "cell_type": "markdown",
   "id": "55d8a0fd",
   "metadata": {},
   "source": [
    "#### Using Percentile"
   ]
  },
  {
   "cell_type": "code",
   "execution_count": 7,
   "id": "6a676996",
   "metadata": {},
   "outputs": [
    {
     "name": "stdout",
     "output_type": "stream",
     "text": [
      "0.25    4509.70\n",
      "0.50    5885.10\n",
      "0.75    6994.65\n",
      "Name: CLTV (Predicted Thou. IDR), dtype: float64\n"
     ]
    }
   ],
   "source": [
    "# Calculate CLV Percentiles\n",
    "percentiles = df['CLTV (Predicted Thou. IDR)'].quantile([0.25, 0.5, 0.75])\n",
    "print(percentiles)\n",
    "# Define thresholds\n",
    "low_threshold = percentiles[0.25]\n",
    "mid_threshold = percentiles[0.5]\n",
    "high_threshold = percentiles[0.75]"
   ]
  },
  {
   "cell_type": "code",
   "execution_count": 8,
   "id": "84538362",
   "metadata": {},
   "outputs": [],
   "source": [
    "# Categorize customers\n",
    "def categorize_customer(clv):\n",
    "    if clv <= low_threshold:\n",
    "        return 'Low-Value'\n",
    "    elif clv <= mid_threshold:\n",
    "        return 'Mid-Value'\n",
    "    else:\n",
    "        return 'High-Value'"
   ]
  },
  {
   "cell_type": "code",
   "execution_count": 9,
   "id": "5cd09920",
   "metadata": {},
   "outputs": [],
   "source": [
    "# Apply categorization to the DataFrame\n",
    "df['Customer Value'] = df['CLTV (Predicted Thou. IDR)'].apply(categorize_customer)"
   ]
  },
  {
   "cell_type": "code",
   "execution_count": 10,
   "id": "2506d473",
   "metadata": {},
   "outputs": [
    {
     "data": {
      "text/plain": [
       "High-Value    49.992901\n",
       "Low-Value     25.031947\n",
       "Mid-Value     24.975153\n",
       "Name: Customer Value, dtype: float64"
      ]
     },
     "execution_count": 10,
     "metadata": {},
     "output_type": "execute_result"
    }
   ],
   "source": [
    "df['Customer Value'].value_counts(normalize=True)*100"
   ]
  },
  {
   "cell_type": "markdown",
   "id": "75ceb4fa",
   "metadata": {},
   "source": [
    "### Create Num Product Used"
   ]
  },
  {
   "cell_type": "code",
   "execution_count": 11,
   "id": "b73b70bb",
   "metadata": {},
   "outputs": [],
   "source": [
    "df['Num Product Used'] = (df[['Games Product', 'Music Product', 'Education Product', 'Video Product']]\n",
    "                        .replace({'Yes': 1, 'No': 0, 'No internet service': 0}).sum(axis=1))"
   ]
  },
  {
   "cell_type": "markdown",
   "id": "39829b15",
   "metadata": {},
   "source": [
    "## Feature Transformation"
   ]
  },
  {
   "cell_type": "markdown",
   "id": "89296ba0",
   "metadata": {},
   "source": [
    "- Products from Yes, No, No Internet Service to only Yes and No"
   ]
  },
  {
   "cell_type": "code",
   "execution_count": 12,
   "id": "8cc542ec",
   "metadata": {},
   "outputs": [],
   "source": [
    "df['Internet Access'] = df['Games Product'].replace({'No': 'Yes', 'No internet service': 'No'})\n",
    "\n",
    "df['Games Product'].replace({'No internet service': 'No'}, inplace=True)\n",
    "df['Music Product'].replace({'No internet service': 'No'}, inplace=True)\n",
    "df['Education Product'].replace({'No internet service': 'No'}, inplace=True)\n",
    "df['Video Product'].replace({'No internet service': 'No'}, inplace=True)\n",
    "df['Use MyApp'].replace({'No internet service': 'No'}, inplace=True)"
   ]
  },
  {
   "cell_type": "code",
   "execution_count": 13,
   "id": "5c50ce9d",
   "metadata": {},
   "outputs": [
    {
     "data": {
      "text/plain": [
       "No     5024\n",
       "Yes    2019\n",
       "Name: Games Product, dtype: int64"
      ]
     },
     "execution_count": 13,
     "metadata": {},
     "output_type": "execute_result"
    }
   ],
   "source": [
    "df['Games Product'].value_counts()"
   ]
  },
  {
   "cell_type": "markdown",
   "id": "75381d64",
   "metadata": {},
   "source": [
    "### Encoding"
   ]
  },
  {
   "cell_type": "code",
   "execution_count": 14,
   "id": "b05644a7",
   "metadata": {},
   "outputs": [],
   "source": [
    "model_cols = ['Tenure Months', 'CLTV (Predicted Thou. IDR)', 'Num Product Used',\n",
    "       'Device Class', 'Payment Method', 'Churn Label', 'Music Product', 'Video Product',\n",
    "       'Use MyApp', 'Games Product', 'Call Center']"
   ]
  },
  {
   "cell_type": "code",
   "execution_count": 15,
   "id": "6013d3b4",
   "metadata": {
    "scrolled": false
   },
   "outputs": [
    {
     "data": {
      "text/html": [
       "<div>\n",
       "<style scoped>\n",
       "    .dataframe tbody tr th:only-of-type {\n",
       "        vertical-align: middle;\n",
       "    }\n",
       "\n",
       "    .dataframe tbody tr th {\n",
       "        vertical-align: top;\n",
       "    }\n",
       "\n",
       "    .dataframe thead th {\n",
       "        text-align: right;\n",
       "    }\n",
       "</style>\n",
       "<table border=\"1\" class=\"dataframe\">\n",
       "  <thead>\n",
       "    <tr style=\"text-align: right;\">\n",
       "      <th></th>\n",
       "      <th>Tenure Months</th>\n",
       "      <th>CLTV (Predicted Thou. IDR)</th>\n",
       "      <th>Num Product Used</th>\n",
       "      <th>Device Class</th>\n",
       "      <th>Payment Method</th>\n",
       "      <th>Churn Label</th>\n",
       "      <th>Music Product</th>\n",
       "      <th>Video Product</th>\n",
       "      <th>Use MyApp</th>\n",
       "      <th>Games Product</th>\n",
       "      <th>Call Center</th>\n",
       "    </tr>\n",
       "  </thead>\n",
       "  <tbody>\n",
       "    <tr>\n",
       "      <th>0</th>\n",
       "      <td>2</td>\n",
       "      <td>4210.7</td>\n",
       "      <td>2</td>\n",
       "      <td>Mid End</td>\n",
       "      <td>Digital Wallet</td>\n",
       "      <td>Yes</td>\n",
       "      <td>Yes</td>\n",
       "      <td>No</td>\n",
       "      <td>No</td>\n",
       "      <td>Yes</td>\n",
       "      <td>No</td>\n",
       "    </tr>\n",
       "    <tr>\n",
       "      <th>1</th>\n",
       "      <td>2</td>\n",
       "      <td>3511.3</td>\n",
       "      <td>0</td>\n",
       "      <td>High End</td>\n",
       "      <td>Pulsa</td>\n",
       "      <td>Yes</td>\n",
       "      <td>No</td>\n",
       "      <td>No</td>\n",
       "      <td>No</td>\n",
       "      <td>No</td>\n",
       "      <td>No</td>\n",
       "    </tr>\n",
       "    <tr>\n",
       "      <th>2</th>\n",
       "      <td>8</td>\n",
       "      <td>6983.6</td>\n",
       "      <td>2</td>\n",
       "      <td>High End</td>\n",
       "      <td>Pulsa</td>\n",
       "      <td>Yes</td>\n",
       "      <td>No</td>\n",
       "      <td>Yes</td>\n",
       "      <td>Yes</td>\n",
       "      <td>No</td>\n",
       "      <td>No</td>\n",
       "    </tr>\n",
       "    <tr>\n",
       "      <th>3</th>\n",
       "      <td>28</td>\n",
       "      <td>6503.9</td>\n",
       "      <td>2</td>\n",
       "      <td>High End</td>\n",
       "      <td>Pulsa</td>\n",
       "      <td>Yes</td>\n",
       "      <td>No</td>\n",
       "      <td>Yes</td>\n",
       "      <td>Yes</td>\n",
       "      <td>No</td>\n",
       "      <td>Yes</td>\n",
       "    </tr>\n",
       "    <tr>\n",
       "      <th>4</th>\n",
       "      <td>49</td>\n",
       "      <td>6942.0</td>\n",
       "      <td>3</td>\n",
       "      <td>High End</td>\n",
       "      <td>Debit</td>\n",
       "      <td>Yes</td>\n",
       "      <td>Yes</td>\n",
       "      <td>Yes</td>\n",
       "      <td>Yes</td>\n",
       "      <td>No</td>\n",
       "      <td>No</td>\n",
       "    </tr>\n",
       "  </tbody>\n",
       "</table>\n",
       "</div>"
      ],
      "text/plain": [
       "   Tenure Months  CLTV (Predicted Thou. IDR)  Num Product Used Device Class  \\\n",
       "0              2                      4210.7                 2      Mid End   \n",
       "1              2                      3511.3                 0     High End   \n",
       "2              8                      6983.6                 2     High End   \n",
       "3             28                      6503.9                 2     High End   \n",
       "4             49                      6942.0                 3     High End   \n",
       "\n",
       "   Payment Method Churn Label Music Product Video Product Use MyApp  \\\n",
       "0  Digital Wallet         Yes           Yes            No        No   \n",
       "1           Pulsa         Yes            No            No        No   \n",
       "2           Pulsa         Yes            No           Yes       Yes   \n",
       "3           Pulsa         Yes            No           Yes       Yes   \n",
       "4           Debit         Yes           Yes           Yes       Yes   \n",
       "\n",
       "  Games Product Call Center  \n",
       "0           Yes          No  \n",
       "1            No          No  \n",
       "2            No          No  \n",
       "3            No         Yes  \n",
       "4            No          No  "
      ]
     },
     "execution_count": 15,
     "metadata": {},
     "output_type": "execute_result"
    }
   ],
   "source": [
    "df[model_cols].head(5)"
   ]
  },
  {
   "cell_type": "code",
   "execution_count": 16,
   "id": "e7b63962",
   "metadata": {},
   "outputs": [
    {
     "data": {
      "text/plain": [
       "['Device Class',\n",
       " 'Payment Method',\n",
       " 'Churn Label',\n",
       " 'Music Product',\n",
       " 'Video Product',\n",
       " 'Use MyApp',\n",
       " 'Games Product',\n",
       " 'Call Center']"
      ]
     },
     "execution_count": 16,
     "metadata": {},
     "output_type": "execute_result"
    }
   ],
   "source": [
    "model_cat_cols = list(df[model_cols].select_dtypes(include='object').columns)\n",
    "model_cat_cols"
   ]
  },
  {
   "cell_type": "code",
   "execution_count": 17,
   "id": "91484a03",
   "metadata": {},
   "outputs": [
    {
     "data": {
      "text/plain": [
       "['Tenure Months', 'CLTV (Predicted Thou. IDR)', 'Num Product Used']"
      ]
     },
     "execution_count": 17,
     "metadata": {},
     "output_type": "execute_result"
    }
   ],
   "source": [
    "model_num_cols = list(df[model_cols].select_dtypes(exclude='object').columns)\n",
    "model_num_cols"
   ]
  },
  {
   "cell_type": "code",
   "execution_count": 18,
   "id": "19465449",
   "metadata": {},
   "outputs": [],
   "source": [
    "# Ordinal Encoding\n",
    "categorical_encoded_ord = (df['Device Class'].map({'Low End': 0,\n",
    "                                                  'Mid End': 1,\n",
    "                                                  'High End': 2}))\n",
    "# One Hot Encoding\n",
    "sub_cat_cols = list(set(model_cat_cols)-set(['Device Class', 'Churn Label', 'Music Product',\n",
    "                                             'Video Product', 'Use MyApp', 'Games Product',\n",
    "                                             'Call Center']))\n",
    "categorical_encoded_nom = pd.get_dummies(df[sub_cat_cols], drop_first=True)\n",
    "\n",
    "binary_cols = ['Churn Label', 'Games Product', 'Video Product', \n",
    "                  'Music Product', 'Use MyApp', 'Call Center']\n",
    "\n",
    "binary_encoded = df[binary_cols].replace({'Yes': 1, 'No': 0, 'No internet service': 0})"
   ]
  },
  {
   "cell_type": "code",
   "execution_count": 19,
   "id": "4e266e8f",
   "metadata": {},
   "outputs": [
    {
     "data": {
      "text/plain": [
       "Index(['Tenure Months', 'CLTV (Predicted Thou. IDR)', 'Num Product Used',\n",
       "       'Device Class', 'Payment Method_Debit', 'Payment Method_Digital Wallet',\n",
       "       'Payment Method_Pulsa', 'Churn Label', 'Games Product', 'Video Product',\n",
       "       'Music Product', 'Use MyApp', 'Call Center'],\n",
       "      dtype='object')"
      ]
     },
     "execution_count": 19,
     "metadata": {},
     "output_type": "execute_result"
    }
   ],
   "source": [
    "df_final = pd.concat([df[model_num_cols], categorical_encoded_ord, categorical_encoded_nom, binary_encoded], axis=1)\n",
    "df_final.columns"
   ]
  },
  {
   "cell_type": "markdown",
   "id": "6464529b",
   "metadata": {},
   "source": [
    "## Model Prediction"
   ]
  },
  {
   "cell_type": "code",
   "execution_count": 20,
   "id": "48a7954a",
   "metadata": {},
   "outputs": [],
   "source": [
    "X = df_final.drop(columns=['Churn Label'], axis=1)\n",
    "y= df_final['Churn Label']"
   ]
  },
  {
   "cell_type": "markdown",
   "id": "892bbe1a",
   "metadata": {},
   "source": [
    "### Scaling"
   ]
  },
  {
   "cell_type": "code",
   "execution_count": 21,
   "id": "0abe45f0",
   "metadata": {},
   "outputs": [],
   "source": [
    "# Read Scaler\n",
    "path = './output'\n",
    "with open(path+'/scaler.pickle', 'rb') as file:\n",
    "    scaler = pickle.load(file)"
   ]
  },
  {
   "cell_type": "code",
   "execution_count": 22,
   "id": "f6d24c8e",
   "metadata": {},
   "outputs": [
    {
     "data": {
      "text/plain": [
       "Index(['Tenure Months', 'CLTV (Predicted Thou. IDR)', 'Num Product Used',\n",
       "       'Device Class', 'Payment Method_Debit', 'Payment Method_Digital Wallet',\n",
       "       'Payment Method_Pulsa', 'Music Product', 'Video Product', 'Use MyApp',\n",
       "       'Games Product', 'Call Center'],\n",
       "      dtype='object')"
      ]
     },
     "execution_count": 22,
     "metadata": {},
     "output_type": "execute_result"
    }
   ],
   "source": [
    "X_column_order = ['Tenure Months', 'CLTV (Predicted Thou. IDR)', 'Num Product Used',\n",
    "       'Device Class', 'Payment Method_Debit', 'Payment Method_Digital Wallet',\n",
    "       'Payment Method_Pulsa', 'Music Product', 'Video Product', 'Use MyApp',\n",
    "       'Games Product', 'Call Center']\n",
    "\n",
    "X_ordered = X[X_column_order]\n",
    "X_ordered.columns"
   ]
  },
  {
   "cell_type": "code",
   "execution_count": 23,
   "id": "05891558",
   "metadata": {},
   "outputs": [],
   "source": [
    "X_scaled = scaler.transform(X_ordered)"
   ]
  },
  {
   "cell_type": "markdown",
   "id": "18a3f09c",
   "metadata": {},
   "source": [
    "### Load Model"
   ]
  },
  {
   "cell_type": "code",
   "execution_count": 24,
   "id": "0c045d54",
   "metadata": {},
   "outputs": [],
   "source": [
    "# Read Scaler\n",
    "path = './saved_model'\n",
    "with open(path+'/lgr_final_model.pickle', 'rb') as file:\n",
    "    lgr = pickle.load(file)"
   ]
  },
  {
   "cell_type": "code",
   "execution_count": 25,
   "id": "02947a76",
   "metadata": {},
   "outputs": [],
   "source": [
    "df['Churn Probability'] = lgr.predict_proba(X_scaled)[:, 1]"
   ]
  },
  {
   "cell_type": "code",
   "execution_count": 26,
   "id": "940e29ba",
   "metadata": {},
   "outputs": [],
   "source": [
    "df['Churn Predicted'] = lgr.predict(X_scaled)"
   ]
  },
  {
   "cell_type": "code",
   "execution_count": 27,
   "id": "04f4759d",
   "metadata": {},
   "outputs": [
    {
     "data": {
      "text/html": [
       "<div>\n",
       "<style scoped>\n",
       "    .dataframe tbody tr th:only-of-type {\n",
       "        vertical-align: middle;\n",
       "    }\n",
       "\n",
       "    .dataframe tbody tr th {\n",
       "        vertical-align: top;\n",
       "    }\n",
       "\n",
       "    .dataframe thead th {\n",
       "        text-align: right;\n",
       "    }\n",
       "</style>\n",
       "<table border=\"1\" class=\"dataframe\">\n",
       "  <thead>\n",
       "    <tr style=\"text-align: right;\">\n",
       "      <th></th>\n",
       "      <th>Churn Label</th>\n",
       "      <th>Churn Predicted</th>\n",
       "      <th>Churn Probability</th>\n",
       "    </tr>\n",
       "  </thead>\n",
       "  <tbody>\n",
       "    <tr>\n",
       "      <th>0</th>\n",
       "      <td>Yes</td>\n",
       "      <td>0</td>\n",
       "      <td>0.424499</td>\n",
       "    </tr>\n",
       "    <tr>\n",
       "      <th>1</th>\n",
       "      <td>Yes</td>\n",
       "      <td>1</td>\n",
       "      <td>0.879698</td>\n",
       "    </tr>\n",
       "    <tr>\n",
       "      <th>2</th>\n",
       "      <td>Yes</td>\n",
       "      <td>1</td>\n",
       "      <td>0.902525</td>\n",
       "    </tr>\n",
       "    <tr>\n",
       "      <th>3</th>\n",
       "      <td>Yes</td>\n",
       "      <td>1</td>\n",
       "      <td>0.748442</td>\n",
       "    </tr>\n",
       "    <tr>\n",
       "      <th>4</th>\n",
       "      <td>Yes</td>\n",
       "      <td>1</td>\n",
       "      <td>0.521316</td>\n",
       "    </tr>\n",
       "    <tr>\n",
       "      <th>...</th>\n",
       "      <td>...</td>\n",
       "      <td>...</td>\n",
       "      <td>...</td>\n",
       "    </tr>\n",
       "    <tr>\n",
       "      <th>7038</th>\n",
       "      <td>No</td>\n",
       "      <td>0</td>\n",
       "      <td>0.042538</td>\n",
       "    </tr>\n",
       "    <tr>\n",
       "      <th>7039</th>\n",
       "      <td>No</td>\n",
       "      <td>0</td>\n",
       "      <td>0.296218</td>\n",
       "    </tr>\n",
       "    <tr>\n",
       "      <th>7040</th>\n",
       "      <td>No</td>\n",
       "      <td>0</td>\n",
       "      <td>0.320128</td>\n",
       "    </tr>\n",
       "    <tr>\n",
       "      <th>7041</th>\n",
       "      <td>No</td>\n",
       "      <td>1</td>\n",
       "      <td>0.524161</td>\n",
       "    </tr>\n",
       "    <tr>\n",
       "      <th>7042</th>\n",
       "      <td>No</td>\n",
       "      <td>0</td>\n",
       "      <td>0.211138</td>\n",
       "    </tr>\n",
       "  </tbody>\n",
       "</table>\n",
       "<p>7043 rows × 3 columns</p>\n",
       "</div>"
      ],
      "text/plain": [
       "     Churn Label  Churn Predicted  Churn Probability\n",
       "0            Yes                0           0.424499\n",
       "1            Yes                1           0.879698\n",
       "2            Yes                1           0.902525\n",
       "3            Yes                1           0.748442\n",
       "4            Yes                1           0.521316\n",
       "...          ...              ...                ...\n",
       "7038          No                0           0.042538\n",
       "7039          No                0           0.296218\n",
       "7040          No                0           0.320128\n",
       "7041          No                1           0.524161\n",
       "7042          No                0           0.211138\n",
       "\n",
       "[7043 rows x 3 columns]"
      ]
     },
     "execution_count": 27,
     "metadata": {},
     "output_type": "execute_result"
    }
   ],
   "source": [
    "df[['Churn Label', 'Churn Predicted', 'Churn Probability']]"
   ]
  },
  {
   "cell_type": "code",
   "execution_count": 28,
   "id": "80756cee",
   "metadata": {},
   "outputs": [
    {
     "data": {
      "text/plain": [
       "count    7043.000000\n",
       "mean        0.425357\n",
       "std         0.271788\n",
       "min         0.034899\n",
       "25%         0.184122\n",
       "50%         0.364874\n",
       "75%         0.668660\n",
       "max         0.929290\n",
       "Name: Churn Probability, dtype: float64"
      ]
     },
     "execution_count": 28,
     "metadata": {},
     "output_type": "execute_result"
    }
   ],
   "source": [
    "df['Churn Probability'].describe()"
   ]
  },
  {
   "cell_type": "code",
   "execution_count": 29,
   "id": "13b8c31f",
   "metadata": {},
   "outputs": [
    {
     "data": {
      "text/html": [
       "<div>\n",
       "<style scoped>\n",
       "    .dataframe tbody tr th:only-of-type {\n",
       "        vertical-align: middle;\n",
       "    }\n",
       "\n",
       "    .dataframe tbody tr th {\n",
       "        vertical-align: top;\n",
       "    }\n",
       "\n",
       "    .dataframe thead th {\n",
       "        text-align: right;\n",
       "    }\n",
       "</style>\n",
       "<table border=\"1\" class=\"dataframe\">\n",
       "  <thead>\n",
       "    <tr style=\"text-align: right;\">\n",
       "      <th></th>\n",
       "      <th>Churn Label</th>\n",
       "      <th>Churn Predicted</th>\n",
       "      <th>Churn Probability</th>\n",
       "    </tr>\n",
       "  </thead>\n",
       "  <tbody>\n",
       "    <tr>\n",
       "      <th>2779</th>\n",
       "      <td>No</td>\n",
       "      <td>0</td>\n",
       "      <td>0.363980</td>\n",
       "    </tr>\n",
       "    <tr>\n",
       "      <th>3006</th>\n",
       "      <td>No</td>\n",
       "      <td>0</td>\n",
       "      <td>0.042764</td>\n",
       "    </tr>\n",
       "    <tr>\n",
       "      <th>6347</th>\n",
       "      <td>No</td>\n",
       "      <td>0</td>\n",
       "      <td>0.407205</td>\n",
       "    </tr>\n",
       "    <tr>\n",
       "      <th>4275</th>\n",
       "      <td>No</td>\n",
       "      <td>0</td>\n",
       "      <td>0.190477</td>\n",
       "    </tr>\n",
       "    <tr>\n",
       "      <th>4403</th>\n",
       "      <td>No</td>\n",
       "      <td>0</td>\n",
       "      <td>0.290791</td>\n",
       "    </tr>\n",
       "    <tr>\n",
       "      <th>...</th>\n",
       "      <td>...</td>\n",
       "      <td>...</td>\n",
       "      <td>...</td>\n",
       "    </tr>\n",
       "    <tr>\n",
       "      <th>4180</th>\n",
       "      <td>No</td>\n",
       "      <td>0</td>\n",
       "      <td>0.049532</td>\n",
       "    </tr>\n",
       "    <tr>\n",
       "      <th>3925</th>\n",
       "      <td>No</td>\n",
       "      <td>1</td>\n",
       "      <td>0.738467</td>\n",
       "    </tr>\n",
       "    <tr>\n",
       "      <th>2554</th>\n",
       "      <td>No</td>\n",
       "      <td>1</td>\n",
       "      <td>0.654975</td>\n",
       "    </tr>\n",
       "    <tr>\n",
       "      <th>4417</th>\n",
       "      <td>No</td>\n",
       "      <td>0</td>\n",
       "      <td>0.315353</td>\n",
       "    </tr>\n",
       "    <tr>\n",
       "      <th>4245</th>\n",
       "      <td>No</td>\n",
       "      <td>0</td>\n",
       "      <td>0.343843</td>\n",
       "    </tr>\n",
       "  </tbody>\n",
       "</table>\n",
       "<p>1000 rows × 3 columns</p>\n",
       "</div>"
      ],
      "text/plain": [
       "     Churn Label  Churn Predicted  Churn Probability\n",
       "2779          No                0           0.363980\n",
       "3006          No                0           0.042764\n",
       "6347          No                0           0.407205\n",
       "4275          No                0           0.190477\n",
       "4403          No                0           0.290791\n",
       "...          ...              ...                ...\n",
       "4180          No                0           0.049532\n",
       "3925          No                1           0.738467\n",
       "2554          No                1           0.654975\n",
       "4417          No                0           0.315353\n",
       "4245          No                0           0.343843\n",
       "\n",
       "[1000 rows x 3 columns]"
      ]
     },
     "execution_count": 29,
     "metadata": {},
     "output_type": "execute_result"
    }
   ],
   "source": [
    "df[['Churn Label', 'Churn Predicted', 'Churn Probability']].sample(1000)"
   ]
  },
  {
   "cell_type": "code",
   "execution_count": 30,
   "id": "6e3f5e5a",
   "metadata": {},
   "outputs": [
    {
     "data": {
      "text/plain": [
       "0    0.613801\n",
       "1    0.386199\n",
       "Name: Churn Predicted, dtype: float64"
      ]
     },
     "execution_count": 30,
     "metadata": {},
     "output_type": "execute_result"
    }
   ],
   "source": [
    "df['Churn Predicted'].value_counts(normalize=True)"
   ]
  },
  {
   "cell_type": "code",
   "execution_count": 31,
   "id": "1b059878",
   "metadata": {},
   "outputs": [
    {
     "data": {
      "text/html": [
       "<div>\n",
       "<style scoped>\n",
       "    .dataframe tbody tr th:only-of-type {\n",
       "        vertical-align: middle;\n",
       "    }\n",
       "\n",
       "    .dataframe tbody tr th {\n",
       "        vertical-align: top;\n",
       "    }\n",
       "\n",
       "    .dataframe thead th {\n",
       "        text-align: right;\n",
       "    }\n",
       "</style>\n",
       "<table border=\"1\" class=\"dataframe\">\n",
       "  <thead>\n",
       "    <tr style=\"text-align: right;\">\n",
       "      <th>Churn Predicted</th>\n",
       "      <th>0</th>\n",
       "      <th>1</th>\n",
       "    </tr>\n",
       "    <tr>\n",
       "      <th>Churn Label</th>\n",
       "      <th></th>\n",
       "      <th></th>\n",
       "    </tr>\n",
       "  </thead>\n",
       "  <tbody>\n",
       "    <tr>\n",
       "      <th>No</th>\n",
       "      <td>3880</td>\n",
       "      <td>1294</td>\n",
       "    </tr>\n",
       "    <tr>\n",
       "      <th>Yes</th>\n",
       "      <td>443</td>\n",
       "      <td>1426</td>\n",
       "    </tr>\n",
       "  </tbody>\n",
       "</table>\n",
       "</div>"
      ],
      "text/plain": [
       "Churn Predicted     0     1\n",
       "Churn Label                \n",
       "No               3880  1294\n",
       "Yes               443  1426"
      ]
     },
     "execution_count": 31,
     "metadata": {},
     "output_type": "execute_result"
    }
   ],
   "source": [
    " pd.crosstab(df['Churn Label'], df['Churn Predicted'])"
   ]
  },
  {
   "cell_type": "code",
   "execution_count": 32,
   "id": "283fc519",
   "metadata": {},
   "outputs": [
    {
     "data": {
      "text/html": [
       "<div>\n",
       "<style scoped>\n",
       "    .dataframe tbody tr th:only-of-type {\n",
       "        vertical-align: middle;\n",
       "    }\n",
       "\n",
       "    .dataframe tbody tr th {\n",
       "        vertical-align: top;\n",
       "    }\n",
       "\n",
       "    .dataframe thead th {\n",
       "        text-align: right;\n",
       "    }\n",
       "</style>\n",
       "<table border=\"1\" class=\"dataframe\">\n",
       "  <thead>\n",
       "    <tr style=\"text-align: right;\">\n",
       "      <th>Customer Value</th>\n",
       "      <th>High-Value</th>\n",
       "      <th>Low-Value</th>\n",
       "      <th>Mid-Value</th>\n",
       "    </tr>\n",
       "    <tr>\n",
       "      <th>Churn Label</th>\n",
       "      <th></th>\n",
       "      <th></th>\n",
       "      <th></th>\n",
       "    </tr>\n",
       "  </thead>\n",
       "  <tbody>\n",
       "    <tr>\n",
       "      <th>No</th>\n",
       "      <td>2731</td>\n",
       "      <td>1156</td>\n",
       "      <td>1287</td>\n",
       "    </tr>\n",
       "    <tr>\n",
       "      <th>Yes</th>\n",
       "      <td>790</td>\n",
       "      <td>607</td>\n",
       "      <td>472</td>\n",
       "    </tr>\n",
       "  </tbody>\n",
       "</table>\n",
       "</div>"
      ],
      "text/plain": [
       "Customer Value  High-Value  Low-Value  Mid-Value\n",
       "Churn Label                                     \n",
       "No                    2731       1156       1287\n",
       "Yes                    790        607        472"
      ]
     },
     "execution_count": 32,
     "metadata": {},
     "output_type": "execute_result"
    }
   ],
   "source": [
    " pd.crosstab(df['Churn Label'], df['Customer Value'])"
   ]
  },
  {
   "cell_type": "markdown",
   "id": "5c906617",
   "metadata": {},
   "source": [
    "## Risk Assessment"
   ]
  },
  {
   "cell_type": "markdown",
   "id": "c1c4f02c",
   "metadata": {},
   "source": [
    "### Using Qcut"
   ]
  },
  {
   "cell_type": "code",
   "execution_count": 33,
   "id": "85ba8634",
   "metadata": {},
   "outputs": [
    {
     "data": {
      "text/plain": [
       "(0.0339, 0.249]    2348\n",
       "(0.566, 0.929]     2348\n",
       "(0.249, 0.566]     2347\n",
       "Name: Churn Probability, dtype: int64"
      ]
     },
     "execution_count": 33,
     "metadata": {},
     "output_type": "execute_result"
    }
   ],
   "source": [
    "pd.qcut(df['Churn Probability'], 3).value_counts()"
   ]
  },
  {
   "cell_type": "markdown",
   "id": "87038cf9",
   "metadata": {},
   "source": [
    "### Using Percentile"
   ]
  },
  {
   "cell_type": "code",
   "execution_count": 34,
   "id": "ae2607b9",
   "metadata": {},
   "outputs": [
    {
     "name": "stdout",
     "output_type": "stream",
     "text": [
      "0.25    0.184122\n",
      "0.50    0.364874\n",
      "0.75    0.668660\n",
      "Name: Churn Probability, dtype: float64\n"
     ]
    }
   ],
   "source": [
    "# Calculate CLV Percentiles\n",
    "percentiles = df['Churn Probability'].quantile([0.25, 0.5, 0.75])\n",
    "print(percentiles)\n",
    "#Define thresholds\n",
    "low_threshold = percentiles[0.25]\n",
    "mid_threshold = percentiles[0.5]\n",
    "high_threshold = percentiles[0.75]"
   ]
  },
  {
   "cell_type": "code",
   "execution_count": 35,
   "id": "812ce092",
   "metadata": {},
   "outputs": [],
   "source": [
    "low_threshold = 0.30\n",
    "mid_threshold = 0.70\n",
    "high_threshold = 1.00"
   ]
  },
  {
   "cell_type": "code",
   "execution_count": 36,
   "id": "6ec43642",
   "metadata": {},
   "outputs": [],
   "source": [
    "def categorize_customer_risk(probability):\n",
    "    if probability <= low_threshold:\n",
    "        return 'Low-Risk'\n",
    "    elif probability <= mid_threshold:\n",
    "        return 'Mid-Risk'\n",
    "    else:\n",
    "        return 'High-Risk'"
   ]
  },
  {
   "cell_type": "code",
   "execution_count": 37,
   "id": "c7fb8317",
   "metadata": {},
   "outputs": [],
   "source": [
    "# Apply categorization to the DataFrame\n",
    "df['Customer Risk'] = df['Churn Probability'].apply(categorize_customer_risk)"
   ]
  },
  {
   "cell_type": "code",
   "execution_count": 38,
   "id": "8a7ce63e",
   "metadata": {},
   "outputs": [
    {
     "data": {
      "text/plain": [
       "Low-Risk     2809\n",
       "Mid-Risk     2637\n",
       "High-Risk    1597\n",
       "Name: Customer Risk, dtype: int64"
      ]
     },
     "execution_count": 38,
     "metadata": {},
     "output_type": "execute_result"
    }
   ],
   "source": [
    "df['Customer Risk'].value_counts()"
   ]
  },
  {
   "cell_type": "code",
   "execution_count": 39,
   "id": "53b980ba",
   "metadata": {},
   "outputs": [],
   "source": [
    "#df.to_csv('')"
   ]
  },
  {
   "cell_type": "markdown",
   "id": "ae820b66",
   "metadata": {},
   "source": [
    "#### Analyze Count"
   ]
  },
  {
   "cell_type": "code",
   "execution_count": 40,
   "id": "223bbbbc",
   "metadata": {},
   "outputs": [
    {
     "data": {
      "text/html": [
       "<style type=\"text/css\">\n",
       "#T_bdbc3_row0_col0, #T_bdbc3_row0_col1, #T_bdbc3_row0_col2 {\n",
       "  background-color: #023858;\n",
       "  color: #f1f1f1;\n",
       "}\n",
       "#T_bdbc3_row1_col0 {\n",
       "  background-color: #046198;\n",
       "  color: #f1f1f1;\n",
       "}\n",
       "#T_bdbc3_row1_col1, #T_bdbc3_row2_col0, #T_bdbc3_row2_col2 {\n",
       "  background-color: #fff7fb;\n",
       "  color: #000000;\n",
       "}\n",
       "#T_bdbc3_row1_col2 {\n",
       "  background-color: #e0dded;\n",
       "  color: #000000;\n",
       "}\n",
       "#T_bdbc3_row2_col1 {\n",
       "  background-color: #dcdaeb;\n",
       "  color: #000000;\n",
       "}\n",
       "</style>\n",
       "<table id=\"T_bdbc3\">\n",
       "  <thead>\n",
       "    <tr>\n",
       "      <th class=\"index_name level0\" >Customer Risk</th>\n",
       "      <th id=\"T_bdbc3_level0_col0\" class=\"col_heading level0 col0\" >High-Risk</th>\n",
       "      <th id=\"T_bdbc3_level0_col1\" class=\"col_heading level0 col1\" >Low-Risk</th>\n",
       "      <th id=\"T_bdbc3_level0_col2\" class=\"col_heading level0 col2\" >Mid-Risk</th>\n",
       "    </tr>\n",
       "    <tr>\n",
       "      <th class=\"index_name level0\" >Customer Value</th>\n",
       "      <th class=\"blank col0\" >&nbsp;</th>\n",
       "      <th class=\"blank col1\" >&nbsp;</th>\n",
       "      <th class=\"blank col2\" >&nbsp;</th>\n",
       "    </tr>\n",
       "  </thead>\n",
       "  <tbody>\n",
       "    <tr>\n",
       "      <th id=\"T_bdbc3_level0_row0\" class=\"row_heading level0 row0\" >High-Value</th>\n",
       "      <td id=\"T_bdbc3_row0_col0\" class=\"data row0 col0\" >602</td>\n",
       "      <td id=\"T_bdbc3_row0_col1\" class=\"data row0 col1\" >1697</td>\n",
       "      <td id=\"T_bdbc3_row0_col2\" class=\"data row0 col2\" >1222</td>\n",
       "    </tr>\n",
       "    <tr>\n",
       "      <th id=\"T_bdbc3_level0_row1\" class=\"row_heading level0 row1\" >Low-Value</th>\n",
       "      <td id=\"T_bdbc3_row1_col0\" class=\"data row1 col0\" >572</td>\n",
       "      <td id=\"T_bdbc3_row1_col1\" class=\"data row1 col1\" >432</td>\n",
       "      <td id=\"T_bdbc3_row1_col2\" class=\"data row1 col2\" >759</td>\n",
       "    </tr>\n",
       "    <tr>\n",
       "      <th id=\"T_bdbc3_level0_row2\" class=\"row_heading level0 row2\" >Mid-Value</th>\n",
       "      <td id=\"T_bdbc3_row2_col0\" class=\"data row2 col0\" >423</td>\n",
       "      <td id=\"T_bdbc3_row2_col1\" class=\"data row2 col1\" >680</td>\n",
       "      <td id=\"T_bdbc3_row2_col2\" class=\"data row2 col2\" >656</td>\n",
       "    </tr>\n",
       "  </tbody>\n",
       "</table>\n"
      ],
      "text/plain": [
       "<pandas.io.formats.style.Styler at 0x275535ffdf0>"
      ]
     },
     "execution_count": 40,
     "metadata": {},
     "output_type": "execute_result"
    }
   ],
   "source": [
    "pd.crosstab(df['Customer Value'], df['Customer Risk']).style.background_gradient()"
   ]
  },
  {
   "cell_type": "code",
   "execution_count": 41,
   "id": "c3c64886",
   "metadata": {},
   "outputs": [
    {
     "data": {
      "text/html": [
       "<style type=\"text/css\">\n",
       "#T_eb6a4_row0_col0, #T_eb6a4_row0_col1, #T_eb6a4_row0_col2 {\n",
       "  background-color: #023858;\n",
       "  color: #f1f1f1;\n",
       "}\n",
       "#T_eb6a4_row1_col0 {\n",
       "  background-color: #046198;\n",
       "  color: #f1f1f1;\n",
       "}\n",
       "#T_eb6a4_row1_col1, #T_eb6a4_row2_col0, #T_eb6a4_row2_col2 {\n",
       "  background-color: #fff7fb;\n",
       "  color: #000000;\n",
       "}\n",
       "#T_eb6a4_row1_col2 {\n",
       "  background-color: #e0dded;\n",
       "  color: #000000;\n",
       "}\n",
       "#T_eb6a4_row2_col1 {\n",
       "  background-color: #dcdaeb;\n",
       "  color: #000000;\n",
       "}\n",
       "</style>\n",
       "<table id=\"T_eb6a4\">\n",
       "  <thead>\n",
       "    <tr>\n",
       "      <th class=\"index_name level0\" >Customer Risk</th>\n",
       "      <th id=\"T_eb6a4_level0_col0\" class=\"col_heading level0 col0\" >High-Risk</th>\n",
       "      <th id=\"T_eb6a4_level0_col1\" class=\"col_heading level0 col1\" >Low-Risk</th>\n",
       "      <th id=\"T_eb6a4_level0_col2\" class=\"col_heading level0 col2\" >Mid-Risk</th>\n",
       "    </tr>\n",
       "    <tr>\n",
       "      <th class=\"index_name level0\" >Customer Value</th>\n",
       "      <th class=\"blank col0\" >&nbsp;</th>\n",
       "      <th class=\"blank col1\" >&nbsp;</th>\n",
       "      <th class=\"blank col2\" >&nbsp;</th>\n",
       "    </tr>\n",
       "  </thead>\n",
       "  <tbody>\n",
       "    <tr>\n",
       "      <th id=\"T_eb6a4_level0_row0\" class=\"row_heading level0 row0\" >High-Value</th>\n",
       "      <td id=\"T_eb6a4_row0_col0\" class=\"data row0 col0\" >0.085475</td>\n",
       "      <td id=\"T_eb6a4_row0_col1\" class=\"data row0 col1\" >0.240948</td>\n",
       "      <td id=\"T_eb6a4_row0_col2\" class=\"data row0 col2\" >0.173506</td>\n",
       "    </tr>\n",
       "    <tr>\n",
       "      <th id=\"T_eb6a4_level0_row1\" class=\"row_heading level0 row1\" >Low-Value</th>\n",
       "      <td id=\"T_eb6a4_row1_col0\" class=\"data row1 col0\" >0.081215</td>\n",
       "      <td id=\"T_eb6a4_row1_col1\" class=\"data row1 col1\" >0.061337</td>\n",
       "      <td id=\"T_eb6a4_row1_col2\" class=\"data row1 col2\" >0.107767</td>\n",
       "    </tr>\n",
       "    <tr>\n",
       "      <th id=\"T_eb6a4_level0_row2\" class=\"row_heading level0 row2\" >Mid-Value</th>\n",
       "      <td id=\"T_eb6a4_row2_col0\" class=\"data row2 col0\" >0.060060</td>\n",
       "      <td id=\"T_eb6a4_row2_col1\" class=\"data row2 col1\" >0.096550</td>\n",
       "      <td id=\"T_eb6a4_row2_col2\" class=\"data row2 col2\" >0.093142</td>\n",
       "    </tr>\n",
       "  </tbody>\n",
       "</table>\n"
      ],
      "text/plain": [
       "<pandas.io.formats.style.Styler at 0x275556b2ee0>"
      ]
     },
     "execution_count": 41,
     "metadata": {},
     "output_type": "execute_result"
    }
   ],
   "source": [
    "pd.crosstab(df['Customer Value'], df['Customer Risk'], normalize='all').style.background_gradient()"
   ]
  },
  {
   "cell_type": "code",
   "execution_count": 42,
   "id": "d0d6a2dd",
   "metadata": {},
   "outputs": [
    {
     "data": {
      "text/html": [
       "<style type=\"text/css\">\n",
       "#T_a54ff_row0_col0, #T_a54ff_row0_col2, #T_a54ff_row1_col1 {\n",
       "  background-color: #fff7fb;\n",
       "  color: #000000;\n",
       "}\n",
       "#T_a54ff_row0_col1, #T_a54ff_row1_col0, #T_a54ff_row1_col2 {\n",
       "  background-color: #023858;\n",
       "  color: #f1f1f1;\n",
       "}\n",
       "#T_a54ff_row2_col0 {\n",
       "  background-color: #88b1d4;\n",
       "  color: #000000;\n",
       "}\n",
       "#T_a54ff_row2_col1 {\n",
       "  background-color: #4496c3;\n",
       "  color: #f1f1f1;\n",
       "}\n",
       "#T_a54ff_row2_col2 {\n",
       "  background-color: #bcc7e1;\n",
       "  color: #000000;\n",
       "}\n",
       "</style>\n",
       "<table id=\"T_a54ff\">\n",
       "  <thead>\n",
       "    <tr>\n",
       "      <th class=\"index_name level0\" >Customer Risk</th>\n",
       "      <th id=\"T_a54ff_level0_col0\" class=\"col_heading level0 col0\" >High-Risk</th>\n",
       "      <th id=\"T_a54ff_level0_col1\" class=\"col_heading level0 col1\" >Low-Risk</th>\n",
       "      <th id=\"T_a54ff_level0_col2\" class=\"col_heading level0 col2\" >Mid-Risk</th>\n",
       "    </tr>\n",
       "    <tr>\n",
       "      <th class=\"index_name level0\" >Customer Value</th>\n",
       "      <th class=\"blank col0\" >&nbsp;</th>\n",
       "      <th class=\"blank col1\" >&nbsp;</th>\n",
       "      <th class=\"blank col2\" >&nbsp;</th>\n",
       "    </tr>\n",
       "  </thead>\n",
       "  <tbody>\n",
       "    <tr>\n",
       "      <th id=\"T_a54ff_level0_row0\" class=\"row_heading level0 row0\" >High-Value</th>\n",
       "      <td id=\"T_a54ff_row0_col0\" class=\"data row0 col0\" >0.170974</td>\n",
       "      <td id=\"T_a54ff_row0_col1\" class=\"data row0 col1\" >0.481965</td>\n",
       "      <td id=\"T_a54ff_row0_col2\" class=\"data row0 col2\" >0.347060</td>\n",
       "    </tr>\n",
       "    <tr>\n",
       "      <th id=\"T_a54ff_level0_row1\" class=\"row_heading level0 row1\" >Low-Value</th>\n",
       "      <td id=\"T_a54ff_row1_col0\" class=\"data row1 col0\" >0.324447</td>\n",
       "      <td id=\"T_a54ff_row1_col1\" class=\"data row1 col1\" >0.245037</td>\n",
       "      <td id=\"T_a54ff_row1_col2\" class=\"data row1 col2\" >0.430516</td>\n",
       "    </tr>\n",
       "    <tr>\n",
       "      <th id=\"T_a54ff_level0_row2\" class=\"row_heading level0 row2\" >Mid-Value</th>\n",
       "      <td id=\"T_a54ff_row2_col0\" class=\"data row2 col0\" >0.240478</td>\n",
       "      <td id=\"T_a54ff_row2_col1\" class=\"data row2 col1\" >0.386583</td>\n",
       "      <td id=\"T_a54ff_row2_col2\" class=\"data row2 col2\" >0.372939</td>\n",
       "    </tr>\n",
       "  </tbody>\n",
       "</table>\n"
      ],
      "text/plain": [
       "<pandas.io.formats.style.Styler at 0x275556e3d60>"
      ]
     },
     "execution_count": 42,
     "metadata": {},
     "output_type": "execute_result"
    }
   ],
   "source": [
    "pd.crosstab(df['Customer Value'], df['Customer Risk'], normalize='index').style.background_gradient()"
   ]
  },
  {
   "cell_type": "code",
   "execution_count": 43,
   "id": "c0817d6a",
   "metadata": {},
   "outputs": [
    {
     "data": {
      "text/html": [
       "<style type=\"text/css\">\n",
       "#T_0b7cc_row0_col0, #T_0b7cc_row0_col1, #T_0b7cc_row0_col2 {\n",
       "  background-color: #023858;\n",
       "  color: #f1f1f1;\n",
       "}\n",
       "#T_0b7cc_row1_col0 {\n",
       "  background-color: #046198;\n",
       "  color: #f1f1f1;\n",
       "}\n",
       "#T_0b7cc_row1_col1, #T_0b7cc_row2_col0, #T_0b7cc_row2_col2 {\n",
       "  background-color: #fff7fb;\n",
       "  color: #000000;\n",
       "}\n",
       "#T_0b7cc_row1_col2 {\n",
       "  background-color: #e0dded;\n",
       "  color: #000000;\n",
       "}\n",
       "#T_0b7cc_row2_col1 {\n",
       "  background-color: #dcdaeb;\n",
       "  color: #000000;\n",
       "}\n",
       "</style>\n",
       "<table id=\"T_0b7cc\">\n",
       "  <thead>\n",
       "    <tr>\n",
       "      <th class=\"index_name level0\" >Customer Risk</th>\n",
       "      <th id=\"T_0b7cc_level0_col0\" class=\"col_heading level0 col0\" >High-Risk</th>\n",
       "      <th id=\"T_0b7cc_level0_col1\" class=\"col_heading level0 col1\" >Low-Risk</th>\n",
       "      <th id=\"T_0b7cc_level0_col2\" class=\"col_heading level0 col2\" >Mid-Risk</th>\n",
       "    </tr>\n",
       "    <tr>\n",
       "      <th class=\"index_name level0\" >Customer Value</th>\n",
       "      <th class=\"blank col0\" >&nbsp;</th>\n",
       "      <th class=\"blank col1\" >&nbsp;</th>\n",
       "      <th class=\"blank col2\" >&nbsp;</th>\n",
       "    </tr>\n",
       "  </thead>\n",
       "  <tbody>\n",
       "    <tr>\n",
       "      <th id=\"T_0b7cc_level0_row0\" class=\"row_heading level0 row0\" >High-Value</th>\n",
       "      <td id=\"T_0b7cc_row0_col0\" class=\"data row0 col0\" >0.376957</td>\n",
       "      <td id=\"T_0b7cc_row0_col1\" class=\"data row0 col1\" >0.604130</td>\n",
       "      <td id=\"T_0b7cc_row0_col2\" class=\"data row0 col2\" >0.463405</td>\n",
       "    </tr>\n",
       "    <tr>\n",
       "      <th id=\"T_0b7cc_level0_row1\" class=\"row_heading level0 row1\" >Low-Value</th>\n",
       "      <td id=\"T_0b7cc_row1_col0\" class=\"data row1 col0\" >0.358172</td>\n",
       "      <td id=\"T_0b7cc_row1_col1\" class=\"data row1 col1\" >0.153791</td>\n",
       "      <td id=\"T_0b7cc_row1_col2\" class=\"data row1 col2\" >0.287827</td>\n",
       "    </tr>\n",
       "    <tr>\n",
       "      <th id=\"T_0b7cc_level0_row2\" class=\"row_heading level0 row2\" >Mid-Value</th>\n",
       "      <td id=\"T_0b7cc_row2_col0\" class=\"data row2 col0\" >0.264872</td>\n",
       "      <td id=\"T_0b7cc_row2_col1\" class=\"data row2 col1\" >0.242079</td>\n",
       "      <td id=\"T_0b7cc_row2_col2\" class=\"data row2 col2\" >0.248768</td>\n",
       "    </tr>\n",
       "  </tbody>\n",
       "</table>\n"
      ],
      "text/plain": [
       "<pandas.io.formats.style.Styler at 0x27555719a60>"
      ]
     },
     "execution_count": 43,
     "metadata": {},
     "output_type": "execute_result"
    }
   ],
   "source": [
    "pd.crosstab(df['Customer Value'], df['Customer Risk'], normalize='columns').style.background_gradient()"
   ]
  },
  {
   "cell_type": "code",
   "execution_count": 44,
   "id": "0c76bb05",
   "metadata": {},
   "outputs": [
    {
     "data": {
      "text/html": [
       "<style type=\"text/css\">\n",
       "#T_3d9b1_row0_col0, #T_3d9b1_row1_col1 {\n",
       "  background-color: #fff7fb;\n",
       "  color: #000000;\n",
       "}\n",
       "#T_3d9b1_row0_col1, #T_3d9b1_row1_col0 {\n",
       "  background-color: #023858;\n",
       "  color: #f1f1f1;\n",
       "}\n",
       "#T_3d9b1_row2_col0 {\n",
       "  background-color: #2c89bd;\n",
       "  color: #f1f1f1;\n",
       "}\n",
       "#T_3d9b1_row2_col1 {\n",
       "  background-color: #308cbe;\n",
       "  color: #f1f1f1;\n",
       "}\n",
       "</style>\n",
       "<table id=\"T_3d9b1\">\n",
       "  <thead>\n",
       "    <tr>\n",
       "      <th class=\"index_name level0\" >Churn Label</th>\n",
       "      <th id=\"T_3d9b1_level0_col0\" class=\"col_heading level0 col0\" >No</th>\n",
       "      <th id=\"T_3d9b1_level0_col1\" class=\"col_heading level0 col1\" >Yes</th>\n",
       "    </tr>\n",
       "    <tr>\n",
       "      <th class=\"index_name level0\" >Customer Risk</th>\n",
       "      <th class=\"blank col0\" >&nbsp;</th>\n",
       "      <th class=\"blank col1\" >&nbsp;</th>\n",
       "    </tr>\n",
       "  </thead>\n",
       "  <tbody>\n",
       "    <tr>\n",
       "      <th id=\"T_3d9b1_level0_row0\" class=\"row_heading level0 row0\" >High-Risk</th>\n",
       "      <td id=\"T_3d9b1_row0_col0\" class=\"data row0 col0\" >0.081641</td>\n",
       "      <td id=\"T_3d9b1_row0_col1\" class=\"data row0 col1\" >0.145109</td>\n",
       "    </tr>\n",
       "    <tr>\n",
       "      <th id=\"T_3d9b1_level0_row1\" class=\"row_heading level0 row1\" >Low-Risk</th>\n",
       "      <td id=\"T_3d9b1_row1_col0\" class=\"data row1 col0\" >0.378674</td>\n",
       "      <td id=\"T_3d9b1_row1_col1\" class=\"data row1 col1\" >0.020162</td>\n",
       "    </tr>\n",
       "    <tr>\n",
       "      <th id=\"T_3d9b1_level0_row2\" class=\"row_heading level0 row2\" >Mid-Risk</th>\n",
       "      <td id=\"T_3d9b1_row2_col0\" class=\"data row2 col0\" >0.274315</td>\n",
       "      <td id=\"T_3d9b1_row2_col1\" class=\"data row2 col1\" >0.100099</td>\n",
       "    </tr>\n",
       "  </tbody>\n",
       "</table>\n"
      ],
      "text/plain": [
       "<pandas.io.formats.style.Styler at 0x27555719fa0>"
      ]
     },
     "execution_count": 44,
     "metadata": {},
     "output_type": "execute_result"
    }
   ],
   "source": [
    "pd.crosstab(df['Customer Risk'], df['Churn Label'], normalize='all').style.background_gradient()"
   ]
  },
  {
   "cell_type": "code",
   "execution_count": 45,
   "id": "9b8de7fe",
   "metadata": {},
   "outputs": [],
   "source": [
    "df.to_csv('Telco_Customer_ValueandRisk_Segmented_Final1.csv', index=False)"
   ]
  },
  {
   "cell_type": "code",
   "execution_count": 46,
   "id": "61c5e4b3",
   "metadata": {},
   "outputs": [],
   "source": [
    "#test = pd.read_csv('Telco_Customer_ValueandRisk_Segmented_Final1.csv')"
   ]
  },
  {
   "cell_type": "code",
   "execution_count": 47,
   "id": "4ce09947",
   "metadata": {},
   "outputs": [
    {
     "data": {
      "text/plain": [
       "0    61.380094\n",
       "1    38.619906\n",
       "Name: Churn Predicted, dtype: float64"
      ]
     },
     "execution_count": 47,
     "metadata": {},
     "output_type": "execute_result"
    }
   ],
   "source": [
    "df['Churn Predicted'].value_counts(normalize=True)*100"
   ]
  },
  {
   "cell_type": "code",
   "execution_count": 48,
   "id": "dd031fac",
   "metadata": {
    "scrolled": true
   },
   "outputs": [
    {
     "data": {
      "text/plain": [
       "No     73.463013\n",
       "Yes    26.536987\n",
       "Name: Churn Label, dtype: float64"
      ]
     },
     "execution_count": 48,
     "metadata": {},
     "output_type": "execute_result"
    }
   ],
   "source": [
    "df['Churn Label'].value_counts(normalize=True)*100"
   ]
  },
  {
   "cell_type": "markdown",
   "id": "0043ddb9",
   "metadata": {},
   "source": [
    "## Decision Threshold (probs >= 0.65)"
   ]
  },
  {
   "cell_type": "code",
   "execution_count": 49,
   "id": "13f93e9b",
   "metadata": {},
   "outputs": [],
   "source": [
    "from sklearn.metrics import PrecisionRecallDisplay, f1_score, precision_recall_curve, precision_score, recall_score"
   ]
  },
  {
   "cell_type": "code",
   "execution_count": 50,
   "id": "a987539a",
   "metadata": {
    "scrolled": false
   },
   "outputs": [
    {
     "data": {
      "image/png": "[encoded data removed]",
      "text/plain": [
       "<Figure size 640x480 with 1 Axes>"
      ]
     },
     "metadata": {},
     "output_type": "display_data"
    }
   ],
   "source": [
    "display = PrecisionRecallDisplay.from_estimator(lgr, X_scaled, y, name='LGR')"
   ]
  },
  {
   "cell_type": "code",
   "execution_count": 51,
   "id": "346c8785",
   "metadata": {},
   "outputs": [
    {
     "name": "stdout",
     "output_type": "stream",
     "text": [
      "Chosen Threshold: 0.6564039185262552\n",
      "Precision at Chosen Threshold: 0.6149204607789358\n"
     ]
    }
   ],
   "source": [
    "# Assuming you have already computed precision_recall_curve\n",
    "precision, recall, thresholds = precision_recall_curve(df['Churn Label'].replace({'Yes': 1, 'No': 0})\n",
    "                                                       , lgr.predict_proba(X_scaled)[:, 1])\n",
    "\n",
    "# Find the index of the threshold where recall is closest to X\n",
    "recall_threshold = 0.6\n",
    "closest_recall_idx = np.argmin(np.abs(recall - recall_threshold))\n",
    "\n",
    "# Get the corresponding threshold value\n",
    "chosen_threshold = thresholds[closest_recall_idx]\n",
    "\n",
    "# Calculate precision at the chosen threshold\n",
    "chosen_precision = precision[closest_recall_idx]\n",
    "\n",
    "print(f\"Chosen Threshold: {chosen_threshold}\")\n",
    "print(f\"Precision at Chosen Threshold: {chosen_precision}\")"
   ]
  },
  {
   "cell_type": "code",
   "execution_count": 52,
   "id": "595920e9",
   "metadata": {},
   "outputs": [
    {
     "data": {
      "text/plain": [
       "array([0, 1, 1, ..., 0, 0, 0])"
      ]
     },
     "execution_count": 52,
     "metadata": {},
     "output_type": "execute_result"
    }
   ],
   "source": [
    "# Apply Desired Threshold\n",
    "predict_thresholded = (lgr.predict_proba(X_scaled)[:, 1] >= 0.65).astype(int)\n",
    "predict_thresholded"
   ]
  },
  {
   "cell_type": "code",
   "execution_count": 53,
   "id": "ee0a7dfa",
   "metadata": {},
   "outputs": [
    {
     "data": {
      "text/plain": [
       "Churn Predicted\n",
       "0                  0.736902\n",
       "1                  0.263098\n",
       "dtype: float64"
      ]
     },
     "execution_count": 53,
     "metadata": {},
     "output_type": "execute_result"
    }
   ],
   "source": [
    "pd.DataFrame({'Churn Predicted': predict_thresholded}).value_counts(normalize=True)"
   ]
  },
  {
   "cell_type": "code",
   "execution_count": 54,
   "id": "86af6cef",
   "metadata": {},
   "outputs": [
    {
     "name": "stdout",
     "output_type": "stream",
     "text": [
      "0.6130599028602267\n",
      "0.6078116639914393\n"
     ]
    }
   ],
   "source": [
    "print(precision_score(y, predict_thresholded))\n",
    "print(recall_score(y, predict_thresholded))"
   ]
  },
  {
   "cell_type": "markdown",
   "id": "d6e9f028",
   "metadata": {},
   "source": [
    "#### F1 score for normal vs custom threshold"
   ]
  },
  {
   "cell_type": "code",
   "execution_count": 55,
   "id": "70b957a2",
   "metadata": {},
   "outputs": [
    {
     "data": {
      "text/plain": [
       "0.6104245029554004"
      ]
     },
     "execution_count": 55,
     "metadata": {},
     "output_type": "execute_result"
    }
   ],
   "source": [
    "f1_score(df['Churn Label'].replace({'Yes': 1, 'No': 0}), predict_thresholded, pos_label=1)"
   ]
  },
  {
   "cell_type": "code",
   "execution_count": 56,
   "id": "465a1def",
   "metadata": {
    "scrolled": true
   },
   "outputs": [
    {
     "data": {
      "text/plain": [
       "0.6214861625626498"
      ]
     },
     "execution_count": 56,
     "metadata": {},
     "output_type": "execute_result"
    }
   ],
   "source": [
    "f1_score(df['Churn Label'].replace({'Yes': 1, 'No': 0}), df['Churn Predicted'], pos_label=1)"
   ]
  },
  {
   "cell_type": "markdown",
   "id": "1574391d",
   "metadata": {},
   "source": [
    "# Business Simulations"
   ]
  },
  {
   "cell_type": "markdown",
   "id": "8ef7cada",
   "metadata": {},
   "source": [
    "## Confusion Matrix"
   ]
  },
  {
   "cell_type": "code",
   "execution_count": 57,
   "id": "82d4b62b",
   "metadata": {},
   "outputs": [],
   "source": [
    "from sklearn.metrics import confusion_matrix\n",
    "\n",
    "import matplotlib.pyplot as plt"
   ]
  },
  {
   "cell_type": "code",
   "execution_count": 58,
   "id": "6a861781",
   "metadata": {},
   "outputs": [],
   "source": [
    "cf_matrix = confusion_matrix(df['Churn Label'].replace({'Yes': 1, 'No': 0}), predict_thresholded)"
   ]
  },
  {
   "cell_type": "code",
   "execution_count": 59,
   "id": "5f0929f4",
   "metadata": {},
   "outputs": [
    {
     "data": {
      "image/png": "[encoded data removed]",
      "text/plain": [
       "<Figure size 700x500 with 2 Axes>"
      ]
     },
     "metadata": {},
     "output_type": "display_data"
    }
   ],
   "source": [
    "group_names = [\"True Positive\", \"False Negative\", \"False Positive\", \"True Negative\"]\n",
    "group_counts = [\"{0:0.0f}\".format(value) for value in cf_matrix.flatten()]\n",
    "group_percentages = [\"{0:.2%}\".format(value) for value in cf_matrix.flatten()/np.sum(cf_matrix)]\n",
    "\n",
    "labels = [f\"{v1}\\n{v2}\\n{v3}\" for v1, v2, v3 in zip(group_names,group_counts,group_percentages)]\n",
    "labels = np.asarray(labels).reshape(2,2)\n",
    "\n",
    "plt.figure(figsize=(7, 5))\n",
    "sns.heatmap(cf_matrix, annot=labels, fmt='', cmap='Blues', annot_kws={\"fontsize\":12})\n",
    "plt.savefig('cm', dpi=500)"
   ]
  },
  {
   "cell_type": "code",
   "execution_count": 60,
   "id": "a83f0f66",
   "metadata": {},
   "outputs": [],
   "source": [
    "tp, fn, fp, tn = cf_matrix.flatten()"
   ]
  },
  {
   "cell_type": "markdown",
   "id": "18672b9e",
   "metadata": {},
   "source": [
    "## Feature Simulation"
   ]
  },
  {
   "cell_type": "code",
   "execution_count": 61,
   "id": "115a4e87",
   "metadata": {},
   "outputs": [],
   "source": [
    "simulation_features = ['Tenure Months', 'Device Class', 'Payment Method_Pulsa', 'Games Product']"
   ]
  },
  {
   "cell_type": "code",
   "execution_count": 84,
   "id": "39483676",
   "metadata": {},
   "outputs": [],
   "source": [
    "# Create Simulation Function\n",
    "def simulation(feature, sample_percentage):\n",
    "    # Define TP FN FP TN var\n",
    "    tp, fn, fp, tn = cf_matrix.flatten()\n",
    "\n",
    "    # Create Simulation Data\n",
    "    df_churn = df_final[df_final['Churn Label'] == 1]\n",
    "    df_not_churn = df_final[df_final['Churn Label'] == 0]\n",
    "\n",
    "    cr_list = []\n",
    "\n",
    "    # Create Improvement Experiments\n",
    "    experiments = np.arange(-1,1.05,0.05)\n",
    "    experiments[20] = 0\n",
    "    for i in experiments:\n",
    "        # Take sample for experiment dataset churn and not churn n% each.\n",
    "        df_simulation = (pd.concat([df_churn.sample(int(np.ceil(sample_percentage*df_churn.shape[0])), random_state=42)\n",
    "                                    ,df_not_churn.sample(int(np.ceil(sample_percentage*df_not_churn.shape[0])), random_state=42)])\n",
    "                         .reset_index(drop=True))\n",
    "        # Increase or decrease the variable of intereset (simulation feature).\n",
    "        df_simulation[feature] = df_simulation[feature]*(1+i)\n",
    "        \n",
    "        # Replace 0 Value to Small Value\n",
    "        for i in simulation_features:\n",
    "            # Replace with minimum value that isnt zero and divide by 10\n",
    "            df_simulation[i].replace(0, (df_final[df_final[i] > 0][i].min())/10, inplace = True)\n",
    "\n",
    "        # Feature Scaling\n",
    "        df_simulation = df_simulation[X_column_order]\n",
    "        df_simulation = scaler.transform(df_simulation)\n",
    "        df_simulation = pd.DataFrame(df_simulation, columns=X_column_order)\n",
    "\n",
    "        # Predict Simulation Values\n",
    "        simulation_pred = (lgr.predict_proba(df_simulation)[:, 1] >= 0.65).astype(int)\n",
    "\n",
    "\n",
    "        # Calculate Simulation Conversion Rate\n",
    "        cr = simulation_pred[simulation_pred==1].size/simulation_pred.size\n",
    "        cr_list.append(cr)\n",
    "\n",
    "    # Create CR Plot\n",
    "    print(f'Current Churn Rate: {cr_list[20]}')\n",
    "    print(cr_list)\n",
    "    plt.plot(experiments, cr_list, marker='o', linewidth=1)\n",
    "    plt.ylabel('Churn Rate')\n",
    "    plt.xlabel(str(feature) + ' Increased')\n",
    "    plt.title('Churn Rate by ' + str(feature))\n",
    "    plt.axvline(linewidth=1, color='r', label = 'Current Condition')\n",
    "    plt.legend()\n",
    "    plt.show()"
   ]
  },
  {
   "cell_type": "markdown",
   "id": "d638923f",
   "metadata": {},
   "source": [
    "### Tenure Months (Nominal)"
   ]
  },
  {
   "cell_type": "code",
   "execution_count": 85,
   "id": "1f0b1af6",
   "metadata": {},
   "outputs": [],
   "source": [
    "import warnings"
   ]
  },
  {
   "cell_type": "code",
   "execution_count": 86,
   "id": "09a8e4d4",
   "metadata": {},
   "outputs": [
    {
     "name": "stdout",
     "output_type": "stream",
     "text": [
      "Current Churn Rate: 0.26224620190259834\n",
      "[0.5094419991480903, 0.5036206162146812, 0.4838847082209286, 0.46713048416867814, 0.45335794405792984, 0.44214113303989777, 0.4266647735340054, 0.40891665483458756, 0.3925883856311231, 0.3803776799659236, 0.36532727530881726, 0.3502768706517109, 0.3357944057929859, 0.3250035496237399, 0.3115149794121823, 0.3005821382933409, 0.291921056368025, 0.28382791424109044, 0.2757347721141559, 0.2680675848360074, 0.26224620190259834, 0.2552889393724265, 0.24875763169104076, 0.24307823370722703, 0.23739883572341333, 0.23413318188272042, 0.2297316484452648, 0.22547209995740453, 0.22107056651994889, 0.2168110180320886, 0.21198352974584694, 0.20800795115717735, 0.20403237256850773, 0.19934686923186143, 0.1966491551895499, 0.19309953144966632, 0.1902598324577595, 0.18742013346585262, 0.18500638932273178, 0.18259264517961096, 0.1810308107340622]\n"
     ]
    },
    {
     "data": {
      "image/png": "[encoded data removed]",
      "text/plain": [
       "<Figure size 640x480 with 1 Axes>"
      ]
     },
     "metadata": {},
     "output_type": "display_data"
    }
   ],
   "source": [
    "with warnings.catch_warnings():\n",
    "    warnings.simplefilter(\"ignore\")\n",
    "    simulation('Tenure Months', 1)"
   ]
  },
  {
   "cell_type": "code",
   "execution_count": 83,
   "id": "c554fa03",
   "metadata": {},
   "outputs": [
    {
     "data": {
      "text/plain": [
       "1.916796819537131"
      ]
     },
     "execution_count": 83,
     "metadata": {},
     "output_type": "execute_result"
    }
   ],
   "source": [
    "# 15% increased\n",
    "(0.26224620190259834-0.24307823370722703)*100"
   ]
  },
  {
   "cell_type": "markdown",
   "id": "5194ec5d",
   "metadata": {},
   "source": [
    "If we increased tenure months by 15% churn rate is decreased by 0.6%"
   ]
  },
  {
   "cell_type": "markdown",
   "id": "ab4c54d0",
   "metadata": {},
   "source": [
    "### Device Class (Ordinal)"
   ]
  },
  {
   "cell_type": "markdown",
   "id": "9479a8df",
   "metadata": {},
   "source": [
    "Since manipulating customers device class is not realistic, we're not conducting experiments for this one. But we can stil conduct further analysis for this one."
   ]
  },
  {
   "cell_type": "markdown",
   "id": "c19318e1",
   "metadata": {},
   "source": [
    "### Payment Method_Pulsa (Binary from Ordinal)"
   ]
  },
  {
   "cell_type": "markdown",
   "id": "126e514b",
   "metadata": {},
   "source": [
    "This experiment can be conducted by increase or decrease the number of those who use pulsa as a payment method."
   ]
  },
  {
   "cell_type": "markdown",
   "id": "530628cc",
   "metadata": {},
   "source": [
    "We can see that there are 33.5 % of those who use pulsa as payment method. Decreasing this number would lead to decrease in the churn rate of our customers."
   ]
  },
  {
   "cell_type": "markdown",
   "id": "23356adb",
   "metadata": {},
   "source": [
    "Example:\n",
    "Current Customers who use pulsa = 1000\n",
    "\n",
    "Scenario Increase\n",
    "- 15% increase = 1000 + 1000*0.15 = 1000 + 150 = 1150.\n",
    "- Set 150 non pulsa to pulsa.\n",
    "\n",
    "======================================\n",
    "\n",
    "- 95% decrease = 1000 + 1000*-0.95 = 1000 + (-950) = 50.\n",
    "- set 950 pulsa to non pulsa."
   ]
  },
  {
   "cell_type": "code",
   "execution_count": 751,
   "id": "3edd133b",
   "metadata": {},
   "outputs": [],
   "source": [
    "def simulation_binary_feature(feature, sample_percentage):\n",
    "    # get churn customers\n",
    "    df_churn = df_final[df_final['Churn Label'] == 1]\n",
    "    # get non churn customers\n",
    "    df_not_churn = df_final[df_final['Churn Label'] == 0]\n",
    "    \n",
    "    # create experiment improvement from 100 decrease to 100 increase.\n",
    "    experiments = np.arange(-1, 1.05, 0.05)\n",
    "    experiments[20] = 0\n",
    "    \n",
    "    # calculate current (variable of interest) rate\n",
    "    curr_feature_pos = df_final[df_final[feature] == 1].shape[0]\n",
    "    \n",
    "    cr_list = []\n",
    "    \n",
    "    for experiment in experiments:\n",
    "        # using n% sample\n",
    "        sample_size_pos = int(np.ceil(sample_percentage*df_churn.shape[0]))\n",
    "        sample_size_neg = int(np.ceil(sample_percentage*df_not_churn.shape[0]))\n",
    "        df_simulation = (pd.concat([df_churn.sample(sample_size_pos, random_state=42),\n",
    "                                   df_not_churn.sample(sample_size_neg, random_state=42)\n",
    "                                   ]))\n",
    "        \n",
    "        # Apply experiment\n",
    "        # get feature positive and negative\n",
    "        df_feature_pos = df_simulation[df_simulation[feature] == 1]\n",
    "        df_feature_neg = df_simulation[df_simulation[feature] == 0]\n",
    "        # calculate the change (increase or decrease) on the feature of interest.\n",
    "        if experiment < 0:\n",
    "            # calculate the number of decrease on positive class\n",
    "            decrease_number = np.ceil(abs(curr_feature_pos*experiment))\n",
    "            # set positive class (1) to negative class (0)\n",
    "            df_feature_pos.iloc[:int(decrease_number), df_feature_pos.columns.get_loc(feature)] = 0\n",
    "        elif experiment > 0:\n",
    "            # calculate the number of increase on positive class\n",
    "            increase_number = np.ceil(curr_feature_pos*experiment)\n",
    "            # set negative class (0) to positive (1)\n",
    "            df_feature_neg.iloc[:int(increase_number), df_feature_neg.columns.get_loc(feature)] = 1\n",
    "        \n",
    "        # Save the experiment\n",
    "        df_simulation = pd.concat([df_feature_pos, df_feature_neg], axis=0)\n",
    "        df_simulation = scaler.transform(df_simulation[X_column_order])\n",
    "        df_simulation = pd.DataFrame(df_simulation, columns=X_column_order)\n",
    "\n",
    "        # Predict Simulation Values\n",
    "        simulation_pred = (lgr.predict_proba(df_simulation)[:, 1] >= 0.65).astype(int)\n",
    "        \n",
    "        # Calculate Simulation Conversion Rate\n",
    "        cr = simulation_pred[simulation_pred==1].size/simulation_pred.size\n",
    "        cr_list.append(cr)\n",
    "    \n",
    "    # Create CR Plot\n",
    "    print(f'Current Churn Rate: {cr_list[20]}')\n",
    "    print(cr_list)\n",
    "    plt.plot(experiments, cr_list, marker='o', linewidth=1)\n",
    "    plt.ylabel('Churn Rate')\n",
    "    plt.xlabel(str(feature) + ' Increased')\n",
    "    plt.title('Churn Rate by ' + str(feature))\n",
    "    plt.axvline(linewidth=1, color='r', label = 'Current Condition')\n",
    "    plt.legend()\n",
    "    plt.show()"
   ]
  },
  {
   "cell_type": "code",
   "execution_count": 752,
   "id": "6d3ea7c2",
   "metadata": {},
   "outputs": [
    {
     "name": "stdout",
     "output_type": "stream",
     "text": [
      "Current Churn Rate: 0.2630981116001704\n",
      "[0.20133465852619623, 0.2031804628709357, 0.2065881016612239, 0.20942780065313077, 0.21155757489706092, 0.21496521368734914, 0.217804912679256, 0.22036064177197218, 0.22305835581428368, 0.2267499645037626, 0.22958966349566945, 0.2324293624875763, 0.23583700127786456, 0.23910265511855744, 0.24350418855601305, 0.2466278574471106, 0.25074542098537556, 0.2537271049268778, 0.2568507738179753, 0.2598324577594775, 0.2630981116001704, 0.26622178049126793, 0.2701973590799375, 0.27317904302143975, 0.27758057645889533, 0.2809882152491836, 0.2843958540394718, 0.2876615078801647, 0.28922334232571345, 0.2903592219224762, 0.291921056368025, 0.2937668607127644, 0.2944767854607412, 0.29547068010790856, 0.2963225898054806, 0.29745846940224335, 0.29944625869657815, 0.30086610819253157, 0.30242794263808037, 0.30342183728524774, 0.30469970183160583]\n"
     ]
    },
    {
     "data": {
      "image/png": "[encoded data removed]",
      "text/plain": [
       "<Figure size 640x480 with 1 Axes>"
      ]
     },
     "metadata": {},
     "output_type": "display_data"
    }
   ],
   "source": [
    "with warnings.catch_warnings():\n",
    "    warnings.simplefilter(\"ignore\")\n",
    "    simulation_binary_feature('Payment Method_Pulsa', 1)"
   ]
  },
  {
   "cell_type": "code",
   "execution_count": 637,
   "id": "9ba19b63",
   "metadata": {},
   "outputs": [
    {
     "data": {
      "text/plain": [
       "0.46855033366463017"
      ]
     },
     "execution_count": 637,
     "metadata": {},
     "output_type": "execute_result"
    }
   ],
   "source": [
    "# 10% decrease\n",
    "abs(0.2653698707936959-0.2700553741303422)*100"
   ]
  },
  {
   "cell_type": "markdown",
   "id": "040c4773",
   "metadata": {},
   "source": [
    "### Games Product (Binary)"
   ]
  },
  {
   "cell_type": "code",
   "execution_count": 638,
   "id": "f7cd9381",
   "metadata": {
    "scrolled": false
   },
   "outputs": [
    {
     "name": "stdout",
     "output_type": "stream",
     "text": [
      "Current Churn Rate: 0.2653698707936959\n",
      "[0.2734630129206304, 0.27261110322305837, 0.27246911827346304, 0.272043163424677, 0.272043163424677, 0.2713332386767003, 0.27104926877750957, 0.2707652988783189, 0.2704813289791282, 0.27033934402953286, 0.2701973590799375, 0.2700553741303422, 0.26962941928155615, 0.26906147948317477, 0.2692034644327701, 0.2684935396847934, 0.26820956978560273, 0.267925599886412, 0.267499645037626, 0.2665057503904586, 0.2653698707936959, 0.26437597614652847, 0.2632400965497657, 0.26224620190259834, 0.26153627715462163, 0.26068436745704954, 0.25969047280988217, 0.2585545932131194, 0.257560698565952, 0.2564248189691893, 0.2557148942212126, 0.2548629845236405, 0.25401107482606844, 0.25273321027971035, 0.2515973306829476, 0.2506034360357802, 0.2496095413886128, 0.24904160159023145, 0.2483316768422547, 0.24818969189265938, 0.24776373704387336]\n"
     ]
    },
    {
     "data": {
      "image/png": "[encoded data removed]",
      "text/plain": [
       "<Figure size 640x480 with 1 Axes>"
      ]
     },
     "metadata": {},
     "output_type": "display_data"
    }
   ],
   "source": [
    "with warnings.catch_warnings():\n",
    "    warnings.simplefilter(\"ignore\")\n",
    "    simulation_binary_feature('Games Product', 1)"
   ]
  },
  {
   "cell_type": "code",
   "execution_count": 639,
   "id": "e2f47863",
   "metadata": {},
   "outputs": [
    {
     "data": {
      "text/plain": [
       "0.21297742439301826"
      ]
     },
     "execution_count": 639,
     "metadata": {},
     "output_type": "execute_result"
    }
   ],
   "source": [
    "# Increase by 10%\n",
    "(0.2653698707936959-0.2632400965497657)*100"
   ]
  },
  {
   "cell_type": "markdown",
   "id": "41d5a052",
   "metadata": {},
   "source": [
    "### Call Center (Binary)"
   ]
  },
  {
   "cell_type": "code",
   "execution_count": 746,
   "id": "27e6a285",
   "metadata": {},
   "outputs": [
    {
     "name": "stdout",
     "output_type": "stream",
     "text": [
      "Current Churn Rate: 0.2653698707936959\n",
      "[0.2734630129206304, 0.27289507312224903, 0.27246911827346304, 0.272043163424677, 0.27161720857589094, 0.2713332386767003, 0.27119125372710495, 0.2706233139287236, 0.27033934402953286, 0.2700553741303422, 0.26962941928155615, 0.26962941928155615, 0.26906147948317477, 0.2686355246343888, 0.2684935396847934, 0.26820956978560273, 0.2677836149368167, 0.26764162998722135, 0.2667897202896493, 0.26622178049126793, 0.2653698707936959, 0.26437597614652847, 0.26352406644895643, 0.262530171801789, 0.2619622320034076, 0.2611103223058356, 0.26025841260826355, 0.25954848786028684, 0.2585545932131194, 0.257560698565952, 0.25670878886837994, 0.25543092432202186, 0.2545790146244498, 0.25330115007809173, 0.2524492403805197, 0.25131336078375693, 0.2506034360357802, 0.24975152633820816, 0.2496095413886128, 0.2493255714894221, 0.24875763169104076]\n"
     ]
    },
    {
     "data": {
      "image/png": "[encoded data removed]",
      "text/plain": [
       "<Figure size 640x480 with 1 Axes>"
      ]
     },
     "metadata": {},
     "output_type": "display_data"
    }
   ],
   "source": [
    "with warnings.catch_warnings():\n",
    "    warnings.simplefilter(\"ignore\")\n",
    "    simulation_binary_feature('Call Center', 1)"
   ]
  },
  {
   "cell_type": "markdown",
   "id": "f1f22d5a",
   "metadata": {},
   "source": [
    "## Apply Recommendations Simulation"
   ]
  },
  {
   "cell_type": "code",
   "execution_count": 674,
   "id": "caa33aca",
   "metadata": {},
   "outputs": [],
   "source": [
    "def binary_simulation(feature, improvement):\n",
    "    df_feature_pos = df_simulation[df_simulation[feature] == 1]\n",
    "    df_feature_neg = df_simulation[df_simulation[feature] == 0]\n",
    " \n",
    "    # increase point\n",
    "    if improvement > 0:\n",
    "        # calculate feature negative class\n",
    "        curr_neg = df_simulation[df_simulation[feature] == 0].shape[0]\n",
    "        # calculate number of observations by 10% increased\n",
    "        increased_number = np.ceil(curr_neg*improvement)\n",
    "        # randomly select n number of dataset and set the value from 0 to 1\n",
    "        df_feature_sample_neg = df_feature_neg.sample(n=int(increased_number), random_state=42)\n",
    "        df_feature_sample_neg[feature] = 1\n",
    "        # apply change on sample to the population of positive class\n",
    "        df_feature_neg.loc[df_feature_sample_neg.index] = df_feature_sample_neg\n",
    "        \n",
    "        return pd.concat([df_feature_pos, df_feature_neg], axis=0)\n",
    "    \n",
    "    # decrease point\n",
    "    elif improvement < 0:\n",
    "        # calculate feature positive class\n",
    "        curr_pos = df_simulation[df_simulation[feature] == 1].shape[0]\n",
    "        # calculate number of observations by 10% decreased\n",
    "        decreased_number = np.ceil(abs(curr_pos*improvement))\n",
    "        # randomly select n number of dataset and set the value from 1 to 0\n",
    "        df_feature_sample_pos = df_feature_pos.sample(n=int(decreased_number), random_state=42)\n",
    "        df_feature_sample_pos[feature] = 0\n",
    "        # apply change on sample to the population of positive class\n",
    "        df_feature_pos.loc[df_feature_sample_pos.index] = df_feature_sample_pos\n",
    "        \n",
    "        return pd.concat([df_feature_pos, df_feature_neg], axis=0)"
   ]
  },
  {
   "cell_type": "code",
   "execution_count": 761,
   "id": "7c1781a8",
   "metadata": {
    "scrolled": true
   },
   "outputs": [
    {
     "name": "stdout",
     "output_type": "stream",
     "text": [
      "Initial Churn Rate = 26.54%\n",
      "Churn Rate After All Recommendations = 21.18%\n"
     ]
    }
   ],
   "source": [
    "init_cr = (df_final[df_final['Churn Label'] == 1].shape[0]/df_final.shape[0])*100\n",
    "print(f'Initial Churn Rate = {init_cr:.2f}%')\n",
    "\n",
    "# Define TP FN FP TN var\n",
    "tp, fn, fp, tn = cf_matrix.flatten()\n",
    "\n",
    "# Create Simulation Data\n",
    "df_churn = df_final[df_final['Churn Label'] == 1]\n",
    "df_not_churn = df_final[df_final['Churn Label'] == 0]\n",
    "\n",
    "# Create Improvement Experiments\n",
    "df_simulation = pd.concat([df_churn, df_not_churn], axis=0)\n",
    "\n",
    "# 1. Increased Tenure Months by 20%\n",
    "df_simulation['Tenure Months'] = df_simulation['Tenure Months']*1.20\n",
    "#Replace 0 with small value\n",
    "(df_simulation['Tenure Months'].replace({0, \n",
    "        df_simulation[df_simulation['Tenure Months']> 0]['Tenure Months'].min()/10}, inplace=True))\n",
    "\n",
    "# 2. Decreased Payment Method_Pulsa by 15%\n",
    "df_simulation = binary_simulation('Payment Method_Pulsa', -0.15)\n",
    "\n",
    "# 3. Increased Games Product by 15%\n",
    "df_simulation = binary_simulation('Games Product', 0.15)\n",
    "\n",
    "# 4. Increased Call Center by 15%\n",
    "df_simulation = binary_simulation('Call Center', 0.15)\n",
    "\n",
    "# Feature Scaling\n",
    "df_simulation = scaler.transform(df_simulation[X_column_order])\n",
    "df_simulation = pd.DataFrame(df_simulation, columns=X_column_order)\n",
    "\n",
    "# Predict Simulation Values\n",
    "with warnings.catch_warnings():\n",
    "    warnings.simplefilter(\"ignore\")\n",
    "    simulation_pred = (lgr.predict_proba(df_simulation)[:, 1] >= 0.65).astype(int)\n",
    "    #simulation_pred = lgr.predict(df_simulation)\n",
    "\n",
    "cr = (simulation_pred[simulation_pred==1].shape[0]/simulation_pred.shape[0])*100\n",
    "print(f'Churn Rate After All Recommendations = {cr:.2f}%')"
   ]
  },
  {
   "cell_type": "code",
   "execution_count": 757,
   "id": "ae1356fa",
   "metadata": {},
   "outputs": [
    {
     "data": {
      "text/plain": [
       "5.359999999999999"
      ]
     },
     "execution_count": 757,
     "metadata": {},
     "output_type": "execute_result"
    }
   ],
   "source": [
    "26.54-21.18"
   ]
  },
  {
   "cell_type": "markdown",
   "id": "5c00457e",
   "metadata": {},
   "source": [
    "## Sensitivity Analysis"
   ]
  },
  {
   "cell_type": "markdown",
   "id": "79359caa",
   "metadata": {},
   "source": [
    "### Payment Pulsa"
   ]
  },
  {
   "cell_type": "code",
   "execution_count": 645,
   "id": "07c6d32a",
   "metadata": {},
   "outputs": [
    {
     "name": "stderr",
     "output_type": "stream",
     "text": [
      "C:\\Users\\ASUS\\anaconda3\\envs\\loan_prediction_env\\lib\\site-packages\\sklearn\\base.py:464: UserWarning: X does not have valid feature names, but MinMaxScaler was fitted with feature names\n",
      "  warnings.warn(\n"
     ]
    },
    {
     "data": {
      "text/plain": [
       "array([0.8917446])"
      ]
     },
     "execution_count": 645,
     "metadata": {},
     "output_type": "execute_result"
    }
   ],
   "source": [
    "predict_row = np.array([[2, 4210.7, 2, 2, 0, 1, 1, 1, 0, 1, 0, 0]])\n",
    "predict_scaled = scaler.transform(predict_row)\n",
    "lgr.predict_proba(predict_scaled)[:, 1]"
   ]
  },
  {
   "cell_type": "markdown",
   "id": "44c955d8",
   "metadata": {},
   "source": [
    "### Payment Not Pulsa"
   ]
  },
  {
   "cell_type": "code",
   "execution_count": 646,
   "id": "7adce235",
   "metadata": {},
   "outputs": [
    {
     "name": "stderr",
     "output_type": "stream",
     "text": [
      "C:\\Users\\ASUS\\anaconda3\\envs\\loan_prediction_env\\lib\\site-packages\\sklearn\\base.py:464: UserWarning: X does not have valid feature names, but MinMaxScaler was fitted with feature names\n",
      "  warnings.warn(\n"
     ]
    },
    {
     "data": {
      "text/plain": [
       "array([0.82010876])"
      ]
     },
     "execution_count": 646,
     "metadata": {},
     "output_type": "execute_result"
    }
   ],
   "source": [
    "predict_row = np.array([[2, 4210.7, 2, 2, 0, 1, 0, 1, 0, 1, 0, 0]])\n",
    "predict_scaled = scaler.transform(predict_row)\n",
    "lgr.predict_proba(predict_scaled)[:, 1]"
   ]
  }
 ],
 "metadata": {
  "kernelspec": {
   "display_name": "Python [conda env:loan_prediction_env]",
   "language": "python",
   "name": "conda-env-loan_prediction_env-py"
  },
  "language_info": {
   "codemirror_mode": {
    "name": "ipython",
    "version": 3
   },
   "file_extension": ".py",
   "mimetype": "text/x-python",
   "name": "python",
   "nbconvert_exporter": "python",
   "pygments_lexer": "ipython3",
   "version": "3.8.17"
  },
  "varInspector": {
   "cols": {
    "lenName": 16,
    "lenType": 16,
    "lenVar": 40
   },
   "kernels_config": {
    "python": {
     "delete_cmd_postfix": "",
     "delete_cmd_prefix": "del ",
     "library": "var_list.py",
     "varRefreshCmd": "print(var_dic_list())"
    },
    "r": {
     "delete_cmd_postfix": ") ",
     "delete_cmd_prefix": "rm(",
     "library": "var_list.r",
     "varRefreshCmd": "cat(var_dic_list()) "
    }
   },
   "types_to_exclude": [
    "module",
    "function",
    "builtin_function_or_method",
    "instance",
    "_Feature"
   ],
   "window_display": false
  }
 },
 "nbformat": 4,
 "nbformat_minor": 5
}
