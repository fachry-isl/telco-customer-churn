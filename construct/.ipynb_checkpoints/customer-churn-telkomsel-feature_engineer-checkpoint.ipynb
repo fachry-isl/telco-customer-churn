{
 "cells": [
  {
   "cell_type": "code",
   "execution_count": 1,
   "id": "ccc34da3",
   "metadata": {},
   "outputs": [],
   "source": [
    "import pandas as pd\n",
    "import numpy as np\n",
    "\n",
    "import seaborn as sns\n",
    "import matplotlib as mlp\n",
    "import matplotlib.pyplot as plt\n",
    "\n",
    "import pickle"
   ]
  },
  {
   "cell_type": "markdown",
   "id": "20cbdff7",
   "metadata": {},
   "source": [
    "# Data Overview"
   ]
  },
  {
   "cell_type": "code",
   "execution_count": 2,
   "id": "16ab5e38",
   "metadata": {},
   "outputs": [
    {
     "ename": "FileNotFoundError",
     "evalue": "[Errno 2] No such file or directory: 'Telco_customer_churn_adapted_v2.xlsx'",
     "output_type": "error",
     "traceback": [
      "\u001b[1;31m---------------------------------------------------------------------------\u001b[0m",
      "\u001b[1;31mFileNotFoundError\u001b[0m                         Traceback (most recent call last)",
      "Cell \u001b[1;32mIn[2], line 1\u001b[0m\n\u001b[1;32m----> 1\u001b[0m df \u001b[38;5;241m=\u001b[39m \u001b[43mpd\u001b[49m\u001b[38;5;241;43m.\u001b[39;49m\u001b[43mread_excel\u001b[49m\u001b[43m(\u001b[49m\u001b[38;5;124;43m'\u001b[39;49m\u001b[38;5;124;43mTelco_customer_churn_adapted_v2.xlsx\u001b[39;49m\u001b[38;5;124;43m'\u001b[39;49m\u001b[43m)\u001b[49m\n",
      "File \u001b[1;32m~\\anaconda3\\envs\\loan_prediction_env\\lib\\site-packages\\pandas\\util\\_decorators.py:211\u001b[0m, in \u001b[0;36mdeprecate_kwarg.<locals>._deprecate_kwarg.<locals>.wrapper\u001b[1;34m(*args, **kwargs)\u001b[0m\n\u001b[0;32m    209\u001b[0m     \u001b[38;5;28;01melse\u001b[39;00m:\n\u001b[0;32m    210\u001b[0m         kwargs[new_arg_name] \u001b[38;5;241m=\u001b[39m new_arg_value\n\u001b[1;32m--> 211\u001b[0m \u001b[38;5;28;01mreturn\u001b[39;00m \u001b[43mfunc\u001b[49m\u001b[43m(\u001b[49m\u001b[38;5;241;43m*\u001b[39;49m\u001b[43margs\u001b[49m\u001b[43m,\u001b[49m\u001b[43m \u001b[49m\u001b[38;5;241;43m*\u001b[39;49m\u001b[38;5;241;43m*\u001b[39;49m\u001b[43mkwargs\u001b[49m\u001b[43m)\u001b[49m\n",
      "File \u001b[1;32m~\\anaconda3\\envs\\loan_prediction_env\\lib\\site-packages\\pandas\\util\\_decorators.py:331\u001b[0m, in \u001b[0;36mdeprecate_nonkeyword_arguments.<locals>.decorate.<locals>.wrapper\u001b[1;34m(*args, **kwargs)\u001b[0m\n\u001b[0;32m    325\u001b[0m \u001b[38;5;28;01mif\u001b[39;00m \u001b[38;5;28mlen\u001b[39m(args) \u001b[38;5;241m>\u001b[39m num_allow_args:\n\u001b[0;32m    326\u001b[0m     warnings\u001b[38;5;241m.\u001b[39mwarn(\n\u001b[0;32m    327\u001b[0m         msg\u001b[38;5;241m.\u001b[39mformat(arguments\u001b[38;5;241m=\u001b[39m_format_argument_list(allow_args)),\n\u001b[0;32m    328\u001b[0m         \u001b[38;5;167;01mFutureWarning\u001b[39;00m,\n\u001b[0;32m    329\u001b[0m         stacklevel\u001b[38;5;241m=\u001b[39mfind_stack_level(),\n\u001b[0;32m    330\u001b[0m     )\n\u001b[1;32m--> 331\u001b[0m \u001b[38;5;28;01mreturn\u001b[39;00m \u001b[43mfunc\u001b[49m\u001b[43m(\u001b[49m\u001b[38;5;241;43m*\u001b[39;49m\u001b[43margs\u001b[49m\u001b[43m,\u001b[49m\u001b[43m \u001b[49m\u001b[38;5;241;43m*\u001b[39;49m\u001b[38;5;241;43m*\u001b[39;49m\u001b[43mkwargs\u001b[49m\u001b[43m)\u001b[49m\n",
      "File \u001b[1;32m~\\anaconda3\\envs\\loan_prediction_env\\lib\\site-packages\\pandas\\io\\excel\\_base.py:482\u001b[0m, in \u001b[0;36mread_excel\u001b[1;34m(io, sheet_name, header, names, index_col, usecols, squeeze, dtype, engine, converters, true_values, false_values, skiprows, nrows, na_values, keep_default_na, na_filter, verbose, parse_dates, date_parser, thousands, decimal, comment, skipfooter, convert_float, mangle_dupe_cols, storage_options)\u001b[0m\n\u001b[0;32m    480\u001b[0m \u001b[38;5;28;01mif\u001b[39;00m \u001b[38;5;129;01mnot\u001b[39;00m \u001b[38;5;28misinstance\u001b[39m(io, ExcelFile):\n\u001b[0;32m    481\u001b[0m     should_close \u001b[38;5;241m=\u001b[39m \u001b[38;5;28;01mTrue\u001b[39;00m\n\u001b[1;32m--> 482\u001b[0m     io \u001b[38;5;241m=\u001b[39m \u001b[43mExcelFile\u001b[49m\u001b[43m(\u001b[49m\u001b[43mio\u001b[49m\u001b[43m,\u001b[49m\u001b[43m \u001b[49m\u001b[43mstorage_options\u001b[49m\u001b[38;5;241;43m=\u001b[39;49m\u001b[43mstorage_options\u001b[49m\u001b[43m,\u001b[49m\u001b[43m \u001b[49m\u001b[43mengine\u001b[49m\u001b[38;5;241;43m=\u001b[39;49m\u001b[43mengine\u001b[49m\u001b[43m)\u001b[49m\n\u001b[0;32m    483\u001b[0m \u001b[38;5;28;01melif\u001b[39;00m engine \u001b[38;5;129;01mand\u001b[39;00m engine \u001b[38;5;241m!=\u001b[39m io\u001b[38;5;241m.\u001b[39mengine:\n\u001b[0;32m    484\u001b[0m     \u001b[38;5;28;01mraise\u001b[39;00m \u001b[38;5;167;01mValueError\u001b[39;00m(\n\u001b[0;32m    485\u001b[0m         \u001b[38;5;124m\"\u001b[39m\u001b[38;5;124mEngine should not be specified when passing \u001b[39m\u001b[38;5;124m\"\u001b[39m\n\u001b[0;32m    486\u001b[0m         \u001b[38;5;124m\"\u001b[39m\u001b[38;5;124man ExcelFile - ExcelFile already has the engine set\u001b[39m\u001b[38;5;124m\"\u001b[39m\n\u001b[0;32m    487\u001b[0m     )\n",
      "File \u001b[1;32m~\\anaconda3\\envs\\loan_prediction_env\\lib\\site-packages\\pandas\\io\\excel\\_base.py:1652\u001b[0m, in \u001b[0;36mExcelFile.__init__\u001b[1;34m(self, path_or_buffer, engine, storage_options)\u001b[0m\n\u001b[0;32m   1650\u001b[0m     ext \u001b[38;5;241m=\u001b[39m \u001b[38;5;124m\"\u001b[39m\u001b[38;5;124mxls\u001b[39m\u001b[38;5;124m\"\u001b[39m\n\u001b[0;32m   1651\u001b[0m \u001b[38;5;28;01melse\u001b[39;00m:\n\u001b[1;32m-> 1652\u001b[0m     ext \u001b[38;5;241m=\u001b[39m \u001b[43minspect_excel_format\u001b[49m\u001b[43m(\u001b[49m\n\u001b[0;32m   1653\u001b[0m \u001b[43m        \u001b[49m\u001b[43mcontent_or_path\u001b[49m\u001b[38;5;241;43m=\u001b[39;49m\u001b[43mpath_or_buffer\u001b[49m\u001b[43m,\u001b[49m\u001b[43m \u001b[49m\u001b[43mstorage_options\u001b[49m\u001b[38;5;241;43m=\u001b[39;49m\u001b[43mstorage_options\u001b[49m\n\u001b[0;32m   1654\u001b[0m \u001b[43m    \u001b[49m\u001b[43m)\u001b[49m\n\u001b[0;32m   1655\u001b[0m     \u001b[38;5;28;01mif\u001b[39;00m ext \u001b[38;5;129;01mis\u001b[39;00m \u001b[38;5;28;01mNone\u001b[39;00m:\n\u001b[0;32m   1656\u001b[0m         \u001b[38;5;28;01mraise\u001b[39;00m \u001b[38;5;167;01mValueError\u001b[39;00m(\n\u001b[0;32m   1657\u001b[0m             \u001b[38;5;124m\"\u001b[39m\u001b[38;5;124mExcel file format cannot be determined, you must specify \u001b[39m\u001b[38;5;124m\"\u001b[39m\n\u001b[0;32m   1658\u001b[0m             \u001b[38;5;124m\"\u001b[39m\u001b[38;5;124man engine manually.\u001b[39m\u001b[38;5;124m\"\u001b[39m\n\u001b[0;32m   1659\u001b[0m         )\n",
      "File \u001b[1;32m~\\anaconda3\\envs\\loan_prediction_env\\lib\\site-packages\\pandas\\io\\excel\\_base.py:1525\u001b[0m, in \u001b[0;36minspect_excel_format\u001b[1;34m(content_or_path, storage_options)\u001b[0m\n\u001b[0;32m   1522\u001b[0m \u001b[38;5;28;01mif\u001b[39;00m \u001b[38;5;28misinstance\u001b[39m(content_or_path, \u001b[38;5;28mbytes\u001b[39m):\n\u001b[0;32m   1523\u001b[0m     content_or_path \u001b[38;5;241m=\u001b[39m BytesIO(content_or_path)\n\u001b[1;32m-> 1525\u001b[0m \u001b[38;5;28;01mwith\u001b[39;00m \u001b[43mget_handle\u001b[49m\u001b[43m(\u001b[49m\n\u001b[0;32m   1526\u001b[0m \u001b[43m    \u001b[49m\u001b[43mcontent_or_path\u001b[49m\u001b[43m,\u001b[49m\u001b[43m \u001b[49m\u001b[38;5;124;43m\"\u001b[39;49m\u001b[38;5;124;43mrb\u001b[39;49m\u001b[38;5;124;43m\"\u001b[39;49m\u001b[43m,\u001b[49m\u001b[43m \u001b[49m\u001b[43mstorage_options\u001b[49m\u001b[38;5;241;43m=\u001b[39;49m\u001b[43mstorage_options\u001b[49m\u001b[43m,\u001b[49m\u001b[43m \u001b[49m\u001b[43mis_text\u001b[49m\u001b[38;5;241;43m=\u001b[39;49m\u001b[38;5;28;43;01mFalse\u001b[39;49;00m\n\u001b[0;32m   1527\u001b[0m \u001b[43m\u001b[49m\u001b[43m)\u001b[49m \u001b[38;5;28;01mas\u001b[39;00m handle:\n\u001b[0;32m   1528\u001b[0m     stream \u001b[38;5;241m=\u001b[39m handle\u001b[38;5;241m.\u001b[39mhandle\n\u001b[0;32m   1529\u001b[0m     stream\u001b[38;5;241m.\u001b[39mseek(\u001b[38;5;241m0\u001b[39m)\n",
      "File \u001b[1;32m~\\anaconda3\\envs\\loan_prediction_env\\lib\\site-packages\\pandas\\io\\common.py:865\u001b[0m, in \u001b[0;36mget_handle\u001b[1;34m(path_or_buf, mode, encoding, compression, memory_map, is_text, errors, storage_options)\u001b[0m\n\u001b[0;32m    856\u001b[0m         handle \u001b[38;5;241m=\u001b[39m \u001b[38;5;28mopen\u001b[39m(\n\u001b[0;32m    857\u001b[0m             handle,\n\u001b[0;32m    858\u001b[0m             ioargs\u001b[38;5;241m.\u001b[39mmode,\n\u001b[1;32m   (...)\u001b[0m\n\u001b[0;32m    861\u001b[0m             newline\u001b[38;5;241m=\u001b[39m\u001b[38;5;124m\"\u001b[39m\u001b[38;5;124m\"\u001b[39m,\n\u001b[0;32m    862\u001b[0m         )\n\u001b[0;32m    863\u001b[0m     \u001b[38;5;28;01melse\u001b[39;00m:\n\u001b[0;32m    864\u001b[0m         \u001b[38;5;66;03m# Binary mode\u001b[39;00m\n\u001b[1;32m--> 865\u001b[0m         handle \u001b[38;5;241m=\u001b[39m \u001b[38;5;28;43mopen\u001b[39;49m\u001b[43m(\u001b[49m\u001b[43mhandle\u001b[49m\u001b[43m,\u001b[49m\u001b[43m \u001b[49m\u001b[43mioargs\u001b[49m\u001b[38;5;241;43m.\u001b[39;49m\u001b[43mmode\u001b[49m\u001b[43m)\u001b[49m\n\u001b[0;32m    866\u001b[0m     handles\u001b[38;5;241m.\u001b[39mappend(handle)\n\u001b[0;32m    868\u001b[0m \u001b[38;5;66;03m# Convert BytesIO or file objects passed with an encoding\u001b[39;00m\n",
      "\u001b[1;31mFileNotFoundError\u001b[0m: [Errno 2] No such file or directory: 'Telco_customer_churn_adapted_v2.xlsx'"
     ]
    }
   ],
   "source": [
    "df = pd.read_excel('Telco_customer_churn_adapted_v2.xlsx')"
   ]
  },
  {
   "cell_type": "code",
   "execution_count": null,
   "id": "8ee239df",
   "metadata": {
    "scrolled": true
   },
   "outputs": [],
   "source": [
    "df.head().style.background_gradient()"
   ]
  },
  {
   "cell_type": "code",
   "execution_count": null,
   "id": "36235633",
   "metadata": {},
   "outputs": [],
   "source": [
    "df.shape"
   ]
  },
  {
   "cell_type": "code",
   "execution_count": null,
   "id": "2dcfcf69",
   "metadata": {
    "scrolled": false
   },
   "outputs": [],
   "source": [
    "list_item = []\n",
    "for col in df.columns:\n",
    "    list_item.append([col, df[col].dtype, df[col].isna().sum(), 100*df[col].isna().sum()/len(df[col]), df[col].nunique(), df[col].unique()[:4]])\n",
    "desc_df = pd.DataFrame(data=list_item, columns='feature data_type null_num null_pct unique_num unique_sample'.split())\n",
    "desc_df.style.background_gradient()"
   ]
  },
  {
   "cell_type": "code",
   "execution_count": null,
   "id": "798806e7",
   "metadata": {},
   "outputs": [],
   "source": [
    "df.describe()"
   ]
  },
  {
   "cell_type": "code",
   "execution_count": null,
   "id": "5a9aca59",
   "metadata": {},
   "outputs": [],
   "source": [
    "df[df['Churn Label'] == 'No']['Monthly Purchase (Thou. IDR)'].mean()"
   ]
  },
  {
   "cell_type": "code",
   "execution_count": null,
   "id": "3a9929ca",
   "metadata": {},
   "outputs": [],
   "source": [
    "df['Tenure Months'].value_counts()"
   ]
  },
  {
   "cell_type": "markdown",
   "id": "7223650b",
   "metadata": {},
   "source": [
    "The minority class (churned) covers 26% proportion of the dataset, this indicate the mildly imbalanced dataset."
   ]
  },
  {
   "cell_type": "code",
   "execution_count": null,
   "id": "d48d1fcb",
   "metadata": {
    "scrolled": true
   },
   "outputs": [],
   "source": [
    "df['Churn Label'].value_counts(normalize=True)*100"
   ]
  },
  {
   "cell_type": "code",
   "execution_count": null,
   "id": "aad5fd52",
   "metadata": {},
   "outputs": [],
   "source": [
    "df['Churn Label'].value_counts()"
   ]
  },
  {
   "cell_type": "markdown",
   "id": "fcc090b1",
   "metadata": {},
   "source": [
    "# Data Cleaning"
   ]
  },
  {
   "cell_type": "markdown",
   "id": "21f977db",
   "metadata": {},
   "source": [
    "### Null"
   ]
  },
  {
   "cell_type": "code",
   "execution_count": null,
   "id": "df052356",
   "metadata": {},
   "outputs": [],
   "source": [
    "df.isnull().sum()"
   ]
  },
  {
   "cell_type": "markdown",
   "id": "e6478a59",
   "metadata": {},
   "source": [
    "### Duplicate"
   ]
  },
  {
   "cell_type": "code",
   "execution_count": null,
   "id": "d24030b6",
   "metadata": {},
   "outputs": [],
   "source": [
    "df.duplicated().sum()"
   ]
  },
  {
   "cell_type": "markdown",
   "id": "06f7bab8",
   "metadata": {},
   "source": [
    "### Outliers"
   ]
  },
  {
   "cell_type": "code",
   "execution_count": null,
   "id": "1a42f95d",
   "metadata": {},
   "outputs": [],
   "source": [
    "from sklearn.preprocessing import MinMaxScaler"
   ]
  },
  {
   "cell_type": "code",
   "execution_count": null,
   "id": "26bf40e1",
   "metadata": {},
   "outputs": [],
   "source": [
    "numerical_cols = df.select_dtypes(exclude='object').columns\n",
    "# exclude ID, Longitude, Latitude\n",
    "numerical_cols = list(set(numerical_cols)-(set(['Customer ID', 'Longitude', 'Latitude'])))\n",
    "numerical_cols"
   ]
  },
  {
   "cell_type": "markdown",
   "id": "51690e4a",
   "metadata": {},
   "source": [
    "### Double Axis"
   ]
  },
  {
   "cell_type": "code",
   "execution_count": null,
   "id": "a68066de",
   "metadata": {},
   "outputs": [],
   "source": [
    "fig, axes = plt.subplots(3, 1, figsize=(17, 9))\n",
    "\n",
    "for i in range(len(numerical_cols)):\n",
    "    sns.boxplot(x=df[numerical_cols[i]], ax=axes[i])\n",
    "    plt.tight_layout()"
   ]
  },
  {
   "cell_type": "markdown",
   "id": "1a7af889",
   "metadata": {},
   "source": [
    "### Scale Value"
   ]
  },
  {
   "cell_type": "code",
   "execution_count": null,
   "id": "db33df24",
   "metadata": {},
   "outputs": [],
   "source": [
    "df_scaled = df.copy()\n",
    "scaler = MinMaxScaler()\n",
    "df_scaled[numerical_cols] = scaler.fit_transform(df[numerical_cols])"
   ]
  },
  {
   "cell_type": "code",
   "execution_count": null,
   "id": "dadbf196",
   "metadata": {},
   "outputs": [],
   "source": [
    "sns.boxplot(df_scaled[numerical_cols], showfliers=True)\n",
    "\n",
    "# Rotate x-axis labels diagonally\n",
    "plt.xticks(rotation=45)\n",
    "\n",
    "# Show the plot\n",
    "plt.show()"
   ]
  },
  {
   "cell_type": "markdown",
   "id": "1617de16",
   "metadata": {},
   "source": [
    "# EDA"
   ]
  },
  {
   "cell_type": "markdown",
   "id": "9f482214",
   "metadata": {},
   "source": [
    "## Descriptive Statistics"
   ]
  },
  {
   "cell_type": "code",
   "execution_count": null,
   "id": "0b9f504f",
   "metadata": {
    "scrolled": true
   },
   "outputs": [],
   "source": [
    "df.describe().T.style.background_gradient()"
   ]
  },
  {
   "cell_type": "code",
   "execution_count": null,
   "id": "14e0a2ce",
   "metadata": {},
   "outputs": [],
   "source": [
    "df.describe(exclude=[np.number]).T.style.background_gradient()"
   ]
  },
  {
   "cell_type": "markdown",
   "id": "1e0a124d",
   "metadata": {},
   "source": [
    "## Univariate Analysis"
   ]
  },
  {
   "cell_type": "markdown",
   "id": "fe6f6b9b",
   "metadata": {},
   "source": [
    "### Distribution"
   ]
  },
  {
   "cell_type": "markdown",
   "id": "24ad4a20",
   "metadata": {},
   "source": [
    "#### Numerical Features"
   ]
  },
  {
   "cell_type": "code",
   "execution_count": null,
   "id": "25fa48d4",
   "metadata": {},
   "outputs": [],
   "source": [
    "# Create Distplot for Each Numerical Feature\n",
    "plt.figure(figsize=(17,5))\n",
    "for i in range(0, len(numerical_cols)):\n",
    "    plt.subplot(1, 3, i+1)\n",
    "    sns.histplot(x=df[numerical_cols[i]])\n",
    "    plt.xlabel(numerical_cols[i])\n",
    "    plt.tight_layout()\n",
    "plt.show()"
   ]
  },
  {
   "cell_type": "code",
   "execution_count": null,
   "id": "d6e2d937",
   "metadata": {},
   "outputs": [],
   "source": [
    "sns.histplot(x=df['Monthly Purchase (Thou. IDR)'], kde=True, bins=20)"
   ]
  },
  {
   "cell_type": "markdown",
   "id": "a3d714dd",
   "metadata": {},
   "source": [
    "#### Categorical Features"
   ]
  },
  {
   "cell_type": "code",
   "execution_count": null,
   "id": "7ee62a87",
   "metadata": {},
   "outputs": [],
   "source": [
    "cat_cols = df.select_dtypes(include='object').columns\n",
    "cat_cols"
   ]
  },
  {
   "cell_type": "code",
   "execution_count": null,
   "id": "26c6e7bd",
   "metadata": {},
   "outputs": [],
   "source": [
    "# Create Countplot for Each Categorical Feature\n",
    "fig, axes = plt.subplots(4, 3, figsize=(20,12))\n",
    "xy = [(0,0), (0,1), (0,2), (1,0), (1,1), (1,2), (2,0), (2,1), (2,2), (3,0), (3,1), (3,2), (4,0)]\n",
    "\n",
    "for i in range(len(cat_cols)):\n",
    "    if i == 0:\n",
    "        sns.countplot(y=df[cat_cols[i]], palette='viridis',ax=axes[xy[i]])\n",
    "    else:\n",
    "        sns.countplot(y=df[cat_cols[i]], palette='viridis', order= df[cat_cols[i]].value_counts().index, ax=axes[xy[i]])\n",
    "axes[3, 1].axis('off')\n",
    "axes[3, 2].axis('off')\n",
    "plt.tight_layout()"
   ]
  },
  {
   "cell_type": "markdown",
   "id": "c749faad",
   "metadata": {},
   "source": [
    "## Bivariate Analysis"
   ]
  },
  {
   "cell_type": "markdown",
   "id": "59cd4505",
   "metadata": {},
   "source": [
    "#### Numerical Feature"
   ]
  },
  {
   "cell_type": "code",
   "execution_count": null,
   "id": "3b057084",
   "metadata": {},
   "outputs": [],
   "source": [
    "x_text_coor = [35, 5800, 100]\n",
    "y_text_coor = [800, 450, 800]\n",
    "# Create Distplot for Each Numerical Feature\n",
    "plt.figure(figsize=(17,8))\n",
    "for i in range(0, len(numerical_cols)):\n",
    "    plt.subplot(2, 3, i+1)\n",
    "    sns.histplot(x=df[numerical_cols[i]], hue=df['Churn Label'], multiple='stack')\n",
    "    plt.xlabel(numerical_cols[i])\n",
    "    \n",
    "    mean=round(df[numerical_cols[i]].mean(), 1)\n",
    "    median=round(df[numerical_cols[i]].median(), 1)\n",
    "    plt.axvline(mean, color='red', linestyle='--') \n",
    "    plt.axvline(median, color='blue', linestyle='--') \n",
    "    plt.legend(labels=[f'Mean({mean})',f'Median({median})', 'Churn', 'Not Churn'])\n",
    "    #plt.text(x_text_coor[i], y_text_coor[i], f'mean={mean}', color='red', ha='left', va='top')\n",
    "    #plt.tight_layout()"
   ]
  },
  {
   "cell_type": "code",
   "execution_count": null,
   "id": "0567f76e",
   "metadata": {},
   "outputs": [],
   "source": [
    "df['Tenure Months'].max()"
   ]
  },
  {
   "cell_type": "code",
   "execution_count": null,
   "id": "2163aeeb",
   "metadata": {},
   "outputs": [],
   "source": [
    "pd.cut(df['Tenure Months'], bins=[0, 6, 12, 24, 36, 72]).value_counts()"
   ]
  },
  {
   "cell_type": "code",
   "execution_count": null,
   "id": "16bbe173",
   "metadata": {},
   "outputs": [],
   "source": [
    "x_text_coor = [35, 5800, 100]\n",
    "y_text_coor = [800, 450, 800]\n",
    "# Create Distplot for Each Numerical Feature\n",
    "plt.figure(figsize=(17,8))\n",
    "for i in range(0, len(numerical_cols)):\n",
    "    plt.subplot(2, 3, i+1)\n",
    "    sns.histplot(x=df[numerical_cols[i]], hue=df['Churn Label'], multiple='fill')\n",
    "    plt.xlabel(numerical_cols[i])\n",
    "    \n",
    "    mean=round(df[numerical_cols[i]].mean(), 1)\n",
    "    plt.axvline(mean, color='red', linestyle='--') \n",
    "    #plt.text(x_text_coor[i], y_text_coor[i], f'mean={mean}', color='red', ha='left', va='top')\n",
    "    #plt.tight_layout()"
   ]
  },
  {
   "cell_type": "markdown",
   "id": "ff579774",
   "metadata": {},
   "source": [
    "#### Categorical Features"
   ]
  },
  {
   "cell_type": "code",
   "execution_count": null,
   "id": "931a8bf1",
   "metadata": {},
   "outputs": [],
   "source": [
    "# Create Countplot for Each Categorical Feature\n",
    "fig, axes = plt.subplots(4, 3, figsize=(20,12))\n",
    "xy = [(0,0), (0,1), (0,2), (1,0), (1,1), (1,2), (2,0), (2,1), (2,2), (3,0), (3,1), (3,2), (4,0)]\n",
    "\n",
    "for i in range(len(cat_cols)):\n",
    "    if i == 0:\n",
    "        sns.countplot(y=df[cat_cols[i]], palette='viridis',ax=axes[xy[i]], hue=df['Churn Label'])\n",
    "    else:\n",
    "        sns.countplot(y=df[cat_cols[i]], palette='viridis', order= df[cat_cols[i]].value_counts().index, ax=axes[xy[i]], hue=df['Churn Label'])\n",
    "axes[3, 1].axis('off')\n",
    "axes[3, 2].axis('off')\n",
    "plt.tight_layout()"
   ]
  },
  {
   "cell_type": "code",
   "execution_count": null,
   "id": "aad42219",
   "metadata": {},
   "outputs": [],
   "source": [
    "# Create 100% Stacked Bar Chart for Each Categorical Feature\n",
    "fig, ax = plt.subplots(3, 3, figsize=(20,12))\n",
    "xy = [(0,0), (0,1), (0,2), (1,0), (1,1), (1,2), (2,0), (2,1), (2,2), (3,0), (3,1), (3,2), (4,0)]\n",
    "\n",
    "for i in range(len(cat_cols)-1):\n",
    "    sbc = pd.crosstab(df[cat_cols[i]], df['Churn Label'])\n",
    "    sbc = sbc.div(sbc.sum(axis=1).astype(float), axis=0)\n",
    "    sbc.plot(kind='barh', stacked=True, color = ['#31688e', '#21918c'], width = 0.6, ax = ax[xy[i]])\n",
    "    #ax[xy[i]].legend().remove()\n",
    "\n",
    "plt.tight_layout()\n",
    "# not_churn = mlp.patches.Patch(color='#31688e', label='Not Churn')\n",
    "# churn = mlp.patches.Patch(color='#21918c', label='Churn')\n",
    "# plt.legend(handles=[not_churn, churn], fontsize=14)"
   ]
  },
  {
   "cell_type": "markdown",
   "id": "63ba2ac8",
   "metadata": {},
   "source": [
    "## Multivariate Analysis"
   ]
  },
  {
   "cell_type": "markdown",
   "id": "8e8f3ff4",
   "metadata": {
    "heading_collapsed": true
   },
   "source": [
    "#### Pair Plot"
   ]
  },
  {
   "cell_type": "code",
   "execution_count": null,
   "id": "e8bb88be",
   "metadata": {
    "hidden": true,
    "scrolled": false
   },
   "outputs": [],
   "source": [
    "# create pairplot\n",
    "plt.figure(figsize=(15, 15))\n",
    "sns.pairplot(df[numerical_cols], diag_kind='kde')"
   ]
  },
  {
   "cell_type": "markdown",
   "id": "ab299b6b",
   "metadata": {},
   "source": [
    "#### Tenure Months vs Payment Methods"
   ]
  },
  {
   "cell_type": "markdown",
   "id": "1773d38e",
   "metadata": {},
   "source": [
    "Tenure Months\t-2.500000\t2.500000\t0.080000\n",
    "3\tDevice Class\t2.090000\t2.090000\t8.090000\n",
    "6\tPayment Method_Pulsa\t0.590000\t0.590000\t1.810000\n",
    "10\tGames Product\t-0.460000\t0.460000\t0.630000\n",
    "11\tCall Center\t-0.440000\t0.440000\t0.640000"
   ]
  },
  {
   "cell_type": "code",
   "execution_count": null,
   "id": "86e97cd4",
   "metadata": {},
   "outputs": [],
   "source": [
    "sns.boxplot(data=df, x='Tenure Months', y='Payment Method', hue='Churn Label', orient='h')\n",
    "\n",
    "plt.axvline(x=df['Tenure Months'].median(), color='#ff6361', ls='--')"
   ]
  },
  {
   "cell_type": "code",
   "execution_count": null,
   "id": "044ffa29",
   "metadata": {},
   "outputs": [],
   "source": [
    "sns.boxplot(data=df, x='Tenure Months', y='Call Center', hue='Churn Label', orient='h')"
   ]
  },
  {
   "cell_type": "code",
   "execution_count": null,
   "id": "3399b025",
   "metadata": {},
   "outputs": [],
   "source": [
    "sns.boxplot(data=df, x='Tenure Months', y='Device Class', hue='Churn Label', orient='h')\n",
    "\n",
    "plt.axvline(x=df['Tenure Months'].median(), color='#ff6361', ls='--')"
   ]
  },
  {
   "cell_type": "markdown",
   "id": "d906a5c5",
   "metadata": {
    "heading_collapsed": true
   },
   "source": [
    "## Hypothesis Testing"
   ]
  },
  {
   "cell_type": "markdown",
   "id": "b5acfb69",
   "metadata": {
    "hidden": true
   },
   "source": [
    "### Categorical Variable "
   ]
  },
  {
   "cell_type": "code",
   "execution_count": null,
   "id": "9a275c32",
   "metadata": {
    "hidden": true
   },
   "outputs": [],
   "source": [
    "from scipy.stats import chi2_contingency"
   ]
  },
  {
   "cell_type": "markdown",
   "id": "02d40f06",
   "metadata": {
    "hidden": true
   },
   "source": [
    "#### Chi Square Test for Independence of `Device Class` and `Churn Label`"
   ]
  },
  {
   "cell_type": "markdown",
   "id": "e1fbc895",
   "metadata": {
    "hidden": true
   },
   "source": [
    "**Hypotheses:**\n",
    "\n",
    "$H_0$: There is no significant relationship between the `Device Class` and `Churn Label` variables. In other words, the variables are independent.\n",
    "\n",
    "$H_A$: There is a significant relationship between the `Device Class` and `Churn Label` variables. In other words, the variables are not independent."
   ]
  },
  {
   "cell_type": "code",
   "execution_count": null,
   "id": "e76f7b3f",
   "metadata": {
    "hidden": true
   },
   "outputs": [],
   "source": [
    "# Create a frequency table\n",
    "observed_data = pd.crosstab(df['Device Class'], df['Churn Label'])\n",
    "observed_data"
   ]
  },
  {
   "cell_type": "code",
   "execution_count": null,
   "id": "b20b27d3",
   "metadata": {
    "hidden": true
   },
   "outputs": [],
   "source": [
    "_, p_value, _, expected_freq = chi2_contingency(observed_data)\n",
    "if p_value < 0.05:\n",
    "    print(f'The p_value {p_value} < 0.05 Accept the H0')\n",
    "else:\n",
    "    print(f'The p_value {p_value} >= 0.05 Reject the H0')\n",
    "print('Expected Frequency:')\n",
    "print(expected_freq)"
   ]
  },
  {
   "cell_type": "markdown",
   "id": "dba74d87",
   "metadata": {
    "hidden": true
   },
   "source": [
    "This means that the type of device a user uses `Device Class` does not have a significant influence on whether or not they churn `Churn Label`. In simpler terms, it implies that the choice of device (e.g., High End, Mid End, Low End) doesn't play a significant role in determining if a user will churn or not."
   ]
  },
  {
   "cell_type": "markdown",
   "id": "89af5b7a",
   "metadata": {
    "hidden": true
   },
   "source": [
    "#### Chi Square Test for Independence of `Gaming Product` and `Churn Label`"
   ]
  },
  {
   "cell_type": "markdown",
   "id": "cff4f9c6",
   "metadata": {
    "hidden": true
   },
   "source": [
    "**Hypotheses:**\n",
    "\n",
    "$H_0$: There is no significant relationship between the `Games Product` and `Churn Label` variables. In other words, the variables are independent.\n",
    "\n",
    "$H_A$: There is a significant relationship between the `Games Product` and `Churn Label` variables. In other words, the variables are not independent."
   ]
  },
  {
   "cell_type": "code",
   "execution_count": null,
   "id": "8af04d57",
   "metadata": {
    "hidden": true
   },
   "outputs": [],
   "source": [
    "# Create a frequency table\n",
    "observed_data = pd.crosstab(df['Games Product'], df['Churn Label'])\n",
    "observed_data"
   ]
  },
  {
   "cell_type": "code",
   "execution_count": null,
   "id": "acddc956",
   "metadata": {
    "hidden": true
   },
   "outputs": [],
   "source": [
    "_, p_value, _, expected_freq = chi2_contingency(observed_data)\n",
    "if p_value < 0.05:\n",
    "    print(f'The p_value {p_value} < 0.05 Accept the H0')\n",
    "else:\n",
    "    print(f'The p_value {p_value} >= 0.05 Reject the H0')\n",
    "print('Expected Frequency:')\n",
    "print(expected_freq)"
   ]
  },
  {
   "cell_type": "markdown",
   "id": "56418395",
   "metadata": {
    "hidden": true
   },
   "source": [
    "#### Chi Square Test for Independence of `Call Center` and `Churn Label`"
   ]
  },
  {
   "cell_type": "markdown",
   "id": "af77eeb9",
   "metadata": {
    "hidden": true
   },
   "source": [
    "**Hypotheses:**\n",
    "\n",
    "$H_0$: There is no significant relationship between the `Call Center` and `Churn Label` variables. In other words, the variables are independent.\n",
    "\n",
    "$H_A$: There is a significant relationship between the `Call Center` and `Churn Label` variables. In other words, the variables are not independent."
   ]
  },
  {
   "cell_type": "code",
   "execution_count": null,
   "id": "2d4135c8",
   "metadata": {
    "hidden": true
   },
   "outputs": [],
   "source": [
    "# Create a frequency table\n",
    "observed_data = pd.crosstab(df['Call Center'], df['Churn Label'])\n",
    "observed_data"
   ]
  },
  {
   "cell_type": "code",
   "execution_count": null,
   "id": "452f469c",
   "metadata": {
    "hidden": true
   },
   "outputs": [],
   "source": [
    "_, p_value, _, expected_freq = chi2_contingency(observed_data)\n",
    "if p_value < 0.05:\n",
    "    print(f'The p_value {p_value} < 0.05 Accept the H0')\n",
    "else:\n",
    "    print(f'The p_value {p_value} >= 0.05 Reject the H0')\n",
    "print('Expected Frequency:')\n",
    "print(expected_freq)"
   ]
  },
  {
   "cell_type": "markdown",
   "id": "459d3a56",
   "metadata": {
    "hidden": true
   },
   "source": [
    "#### Chi Square Test for Independence of `Payment Method` and `Churn Label`"
   ]
  },
  {
   "cell_type": "markdown",
   "id": "9cfa8f5b",
   "metadata": {
    "hidden": true
   },
   "source": [
    "**Hypotheses:**\n",
    "\n",
    "$H_0$: There is no significant relationship between the `Payment Method` and `Churn Label` variables. In other words, the variables are independent.\n",
    "\n",
    "$H_A$: There is a significant relationship between the `Payment Method` and `Churn Label` variables. In other words, the variables are not independent."
   ]
  },
  {
   "cell_type": "code",
   "execution_count": null,
   "id": "03dbc569",
   "metadata": {
    "hidden": true
   },
   "outputs": [],
   "source": [
    "# Create a frequency table\n",
    "observed_data = pd.crosstab(df['Payment Method'], df['Churn Label'])\n",
    "observed_data"
   ]
  },
  {
   "cell_type": "code",
   "execution_count": null,
   "id": "4a2576f5",
   "metadata": {
    "hidden": true
   },
   "outputs": [],
   "source": [
    "_, p_value, _, expected_freq = chi2_contingency(observed_data)\n",
    "if p_value < 0.05:\n",
    "    print(f'The p_value {p_value} < 0.05 Accept the H0')\n",
    "else:\n",
    "    print(f'The p_value {p_value} >= 0.05 Reject the H0')\n",
    "print('Expected Frequency:')\n",
    "print(expected_freq)"
   ]
  },
  {
   "cell_type": "code",
   "execution_count": null,
   "id": "1198417a",
   "metadata": {
    "hidden": true
   },
   "outputs": [],
   "source": [
    "Observations = np.array([[1290, 232], [1294, 1071]])\n",
    "Result = chi2_contingency(Observations)\n",
    "print(Result)"
   ]
  },
  {
   "cell_type": "code",
   "execution_count": null,
   "id": "9393c35b",
   "metadata": {
    "hidden": true
   },
   "outputs": [],
   "source": [
    "Observations = np.array([[1118, 403], [1737, 627]])\n",
    "Result = chi2_contingency(Observations)\n",
    "print(Result)"
   ]
  },
  {
   "cell_type": "markdown",
   "id": "481e10c8",
   "metadata": {},
   "source": [
    "# Discovering"
   ]
  },
  {
   "cell_type": "markdown",
   "id": "afceb9b7",
   "metadata": {},
   "source": [
    "#### Segment on CLTV > 5150 and Tenure Month > 48"
   ]
  },
  {
   "cell_type": "code",
   "execution_count": null,
   "id": "8b375d6b",
   "metadata": {},
   "outputs": [],
   "source": [
    "sns.scatterplot(x='CLTV (Predicted Thou. IDR)', y='Tenure Months', data=df, hue='Churn Label', s=5)\n",
    "plt.axvline(5150, color='red', linestyle='--') \n",
    "plt.axhline(48, color='red', linestyle='--') "
   ]
  },
  {
   "cell_type": "code",
   "execution_count": null,
   "id": "5b888b0b",
   "metadata": {
    "scrolled": true
   },
   "outputs": [],
   "source": [
    "mask = ((df['CLTV (Predicted Thou. IDR)'] > 5150) & (df['Tenure Months'] > 48))\n",
    "disc_cltv = df[mask]\n",
    "disc_cltv.sample(5)"
   ]
  },
  {
   "cell_type": "code",
   "execution_count": null,
   "id": "21fd23e6",
   "metadata": {},
   "outputs": [],
   "source": [
    "df[df['Games Product'] == 'No'].head(5)"
   ]
  },
  {
   "cell_type": "code",
   "execution_count": null,
   "id": "caad6773",
   "metadata": {},
   "outputs": [],
   "source": [
    "df[df['Games Product'] == 'Yes'].sample(5)"
   ]
  },
  {
   "cell_type": "code",
   "execution_count": null,
   "id": "b19c0b6b",
   "metadata": {},
   "outputs": [],
   "source": [
    "#disc_cltv.to_csv('Telco_CLTV_High_Segment.csv', index=False)"
   ]
  },
  {
   "cell_type": "markdown",
   "id": "4010be2c",
   "metadata": {},
   "source": [
    "#### Monthly Purchse > 89.000"
   ]
  },
  {
   "cell_type": "code",
   "execution_count": null,
   "id": "20779166",
   "metadata": {},
   "outputs": [],
   "source": [
    "sns.histplot(x=df['Monthly Purchase (Thou. IDR)'], hue=df['Churn Label'], multiple='stack')\n",
    "plt.xlabel('Monthly Purchase (Thou. IDR)')\n",
    "plt.axvline(89, color='red', linestyle='--') "
   ]
  },
  {
   "cell_type": "code",
   "execution_count": null,
   "id": "34656ada",
   "metadata": {},
   "outputs": [],
   "source": [
    "df['Games Product'].unique()"
   ]
  },
  {
   "cell_type": "code",
   "execution_count": null,
   "id": "b03160c5",
   "metadata": {},
   "outputs": [],
   "source": [
    "disc_purchase = df[df['Monthly Purchase (Thou. IDR)'] > 89]"
   ]
  },
  {
   "cell_type": "code",
   "execution_count": null,
   "id": "1e917496",
   "metadata": {},
   "outputs": [],
   "source": [
    "disc_purchase['Games Product'].unique()"
   ]
  },
  {
   "cell_type": "code",
   "execution_count": null,
   "id": "c16b2b66",
   "metadata": {},
   "outputs": [],
   "source": [
    "df[df['Monthly Purchase (Thou. IDR)'] < 27].shape[0]"
   ]
  },
  {
   "cell_type": "code",
   "execution_count": null,
   "id": "08fcbb7f",
   "metadata": {},
   "outputs": [],
   "source": [
    "df[df['Monthly Purchase (Thou. IDR)'] < 150].shape[0]"
   ]
  },
  {
   "cell_type": "code",
   "execution_count": null,
   "id": "aa4eef2d",
   "metadata": {
    "scrolled": false
   },
   "outputs": [],
   "source": [
    "df[df['Monthly Purchase (Thou. IDR)'] > 150].shape[0]"
   ]
  },
  {
   "cell_type": "code",
   "execution_count": null,
   "id": "53103f0f",
   "metadata": {},
   "outputs": [],
   "source": [
    "#disc_purchase.to_csv('Telco_MonthlyPurchase_HighSegment.csv', index=False)"
   ]
  },
  {
   "cell_type": "markdown",
   "id": "d0f5a1d4",
   "metadata": {},
   "source": [
    "# Feature Engineering"
   ]
  },
  {
   "cell_type": "code",
   "execution_count": null,
   "id": "a4a10e8d",
   "metadata": {},
   "outputs": [],
   "source": [
    "df.select_dtypes(exclude='object').columns"
   ]
  },
  {
   "cell_type": "markdown",
   "id": "443960f5",
   "metadata": {},
   "source": [
    "### **More Features**\n",
    "- Average Monthly Purchase: (Monthly Purchase / Tenure Months)\n",
    "- Total Purchase: Monthly Purchase * Tenure Months\n",
    "- Number of Product Used (Range from 0 to 4)\n",
    "- Decrease Product value from (Yes, No, No Internet Service) to only (Yes, No) or only whether the customer use telkomsel product or no. This is simplify the interpretation"
   ]
  },
  {
   "cell_type": "code",
   "execution_count": null,
   "id": "65181d70",
   "metadata": {},
   "outputs": [],
   "source": [
    "df['Total Purchase']= df['Monthly Purchase (Thou. IDR)'] * df['Tenure Months']\n",
    "\n",
    "\n",
    "df['Num Product Used'] = (df[['Games Product', 'Music Product', 'Education Product', 'Video Product']]\n",
    "                        .replace({'Yes': 1, 'No': 0, 'No internet service': 0}).sum(axis=1))"
   ]
  },
  {
   "cell_type": "code",
   "execution_count": null,
   "id": "ee8a63fb",
   "metadata": {},
   "outputs": [],
   "source": [
    "df['Num Product Used'].value_counts()"
   ]
  },
  {
   "cell_type": "code",
   "execution_count": null,
   "id": "b6b4eab2",
   "metadata": {},
   "outputs": [],
   "source": [
    "df.shape"
   ]
  },
  {
   "cell_type": "code",
   "execution_count": null,
   "id": "09531600",
   "metadata": {},
   "outputs": [],
   "source": [
    "#df.to_csv('Telco_Customer_Engineeredv1.csv', index=False)"
   ]
  },
  {
   "cell_type": "markdown",
   "id": "5fdc2647",
   "metadata": {},
   "source": [
    "#### Handling Outliers in Average Purchase Per Product Used"
   ]
  },
  {
   "cell_type": "code",
   "execution_count": null,
   "id": "1c55df2f",
   "metadata": {},
   "outputs": [],
   "source": [
    "# plt.figure(figsize=(10, 2))\n",
    "# sns.boxplot(x=df['Average Purchase Per Product Used'])"
   ]
  },
  {
   "cell_type": "code",
   "execution_count": null,
   "id": "70d0ac95",
   "metadata": {},
   "outputs": [],
   "source": [
    "# plt.figure(figsize=(10, 2))\n",
    "# sns.boxplot(x=np.log(df['Average Purchase Per Product Used']))"
   ]
  },
  {
   "cell_type": "markdown",
   "id": "c34945bc",
   "metadata": {},
   "source": [
    "###### Floring at quantile"
   ]
  },
  {
   "cell_type": "code",
   "execution_count": null,
   "id": "7dcdbb91",
   "metadata": {},
   "outputs": [],
   "source": [
    "# # Calculate 10th percentile\n",
    "# tenth_percentile = np.percentile(df['Average Purchase Per Product Used'], 10)\n",
    "\n",
    "# # Calculate 90th percentile\n",
    "# ninetieth_percentile = np.percentile(df['Average Purchase Per Product Used'], 90)\n",
    "\n",
    "# # Apply lambda function to replace outliers with thresholds defined above\n",
    "# df['Average Purchase Per Product Used'] = df['Average Purchase Per Product Used'].apply(lambda x: (\n",
    "#     tenth_percentile if x < tenth_percentile \n",
    "#     else ninetieth_percentile if x > ninetieth_percentile \n",
    "#     else x))"
   ]
  },
  {
   "cell_type": "code",
   "execution_count": null,
   "id": "8f00ee46",
   "metadata": {},
   "outputs": [],
   "source": [
    "# plt.figure(figsize=(10, 2))\n",
    "# sns.boxplot(x=df['Average Purchase Per Product Used'])"
   ]
  },
  {
   "cell_type": "markdown",
   "id": "22769aa4",
   "metadata": {},
   "source": [
    "### Feature Transformation\n",
    "- Products from Yes, No, No Internet Service to only Yes and No"
   ]
  },
  {
   "cell_type": "code",
   "execution_count": null,
   "id": "7a7a4f99",
   "metadata": {},
   "outputs": [],
   "source": [
    "df['Internet Access'] = df['Games Product'].replace({'No': 'Yes', 'No internet service': 'No'})\n",
    "\n",
    "df['Games Product'].replace({'No internet service': 'No'}, inplace=True)\n",
    "df['Music Product'].replace({'No internet service': 'No'}, inplace=True)\n",
    "df['Education Product'].replace({'No internet service': 'No'}, inplace=True)\n",
    "df['Video Product'].replace({'No internet service': 'No'}, inplace=True)\n",
    "df['Use MyApp'].replace({'No internet service': 'No'}, inplace=True)"
   ]
  },
  {
   "cell_type": "code",
   "execution_count": null,
   "id": "1983ec4b",
   "metadata": {},
   "outputs": [],
   "source": [
    "df.columns"
   ]
  },
  {
   "cell_type": "code",
   "execution_count": null,
   "id": "8c467679",
   "metadata": {
    "scrolled": false
   },
   "outputs": [],
   "source": [
    "df['Internet Access'].value_counts()"
   ]
  },
  {
   "cell_type": "code",
   "execution_count": null,
   "id": "e75c489d",
   "metadata": {},
   "outputs": [],
   "source": [
    "df[df['Payment Method'] == 'Pulsa']['Internet Access'].value_counts(normalize=True)"
   ]
  },
  {
   "cell_type": "code",
   "execution_count": null,
   "id": "81dd50fb",
   "metadata": {
    "scrolled": true
   },
   "outputs": [],
   "source": [
    "df['Device Class'].value_counts()"
   ]
  },
  {
   "cell_type": "code",
   "execution_count": null,
   "id": "f570a464",
   "metadata": {},
   "outputs": [],
   "source": [
    "#df.to_csv('Telco_Customer_Engineeredv2.csv', index=False)"
   ]
  },
  {
   "cell_type": "markdown",
   "id": "e742478f",
   "metadata": {},
   "source": [
    "#### Correlation Heatmap"
   ]
  },
  {
   "cell_type": "code",
   "execution_count": null,
   "id": "2e2c2a96",
   "metadata": {},
   "outputs": [],
   "source": [
    "numerical_cols = list(set(df.select_dtypes(exclude='object').columns)-set(['Customer ID', 'Longitude', 'Latitude']))\n",
    "numerical_cols"
   ]
  },
  {
   "cell_type": "code",
   "execution_count": null,
   "id": "4d7fc621",
   "metadata": {},
   "outputs": [],
   "source": [
    "# Create Heatmap Correlation Chart for Each Numerical Features\n",
    "plt.figure(figsize=(12, 6))\n",
    "sns.heatmap(df[numerical_cols].corr(), cmap='Blues', annot=True, fmt='.2f')"
   ]
  },
  {
   "cell_type": "code",
   "execution_count": null,
   "id": "f3a23121",
   "metadata": {
    "scrolled": true
   },
   "outputs": [],
   "source": [
    "# Assuming df is your DataFrame\n",
    "high_correlation_features = []\n",
    "\n",
    "correlation_matrix = df[numerical_cols].corr().abs()\n",
    "high_correlation_pairs = (correlation_matrix > 0.7) & (correlation_matrix < 1.0)\n",
    " \n",
    "for feature in high_correlation_pairs.columns:\n",
    "    correlated_features = high_correlation_pairs.index[high_correlation_pairs[feature]].tolist()\n",
    "    high_correlation_features.extend([(feature, corr_feature) for corr_feature in correlated_features])\n",
    "\n",
    "high_correlation_features = list(set(high_correlation_features))\n",
    "\n",
    "print(high_correlation_features)"
   ]
  },
  {
   "cell_type": "markdown",
   "id": "920e58e5",
   "metadata": {},
   "source": [
    "Total purchase and Tenure Months introduce multicollinearity so we won't used it for our model."
   ]
  },
  {
   "cell_type": "markdown",
   "id": "57b7b57a",
   "metadata": {},
   "source": [
    "#### Correlation Heatmap with Target Features"
   ]
  },
  {
   "cell_type": "code",
   "execution_count": null,
   "id": "03dfcd0a",
   "metadata": {},
   "outputs": [],
   "source": [
    "label_num = df['Churn Label'].replace({'Yes': 1, 'No': 0})\n",
    "data = pd.concat([df[numerical_cols], label_num], axis=1)\n",
    "\n",
    "plt.figure(figsize=(6, 3))\n",
    "(sns.heatmap(data.corr(method = 'kendall')\n",
    "            [data.corr(method='kendall')\n",
    "             .index != 'Churn Label'][['Churn Label']], \n",
    "            annot=True,\n",
    "           cmap='Blues',\n",
    "            fmt='.2f',\n",
    "            vmin=-0.5,\n",
    "            vmax=0.5))"
   ]
  },
  {
   "cell_type": "markdown",
   "id": "715ac4da",
   "metadata": {},
   "source": [
    "### **Non Linearity Problem**\n",
    "- Monthly Purchase -> Squared Monthly Purchase\n",
    "- CLTV -> Squared CLTV"
   ]
  },
  {
   "cell_type": "code",
   "execution_count": null,
   "id": "fe2e8031",
   "metadata": {},
   "outputs": [],
   "source": [
    "# df['Square Monthly Purchase'] = df['Monthly Purchase (Thou. IDR)']**2\n",
    "# df['Square CLTV'] = df['CLTV (Predicted Thou. IDR)']**2\n",
    "\n",
    "#df['Log CLTV (Predicted Thou. IDR)'] = np.log(df['CLTV (Predicted Thou. IDR)'])"
   ]
  },
  {
   "cell_type": "code",
   "execution_count": null,
   "id": "efc0c501",
   "metadata": {},
   "outputs": [],
   "source": [
    "df.columns"
   ]
  },
  {
   "cell_type": "code",
   "execution_count": null,
   "id": "703c085c",
   "metadata": {},
   "outputs": [],
   "source": [
    "# Create Heatmap Correlation Chart for Each Numerical Features\n",
    "plt.figure(figsize=(12, 6))\n",
    "sns.heatmap(df.corr(), cmap='Blues', annot=True, fmt='.2f')"
   ]
  },
  {
   "cell_type": "markdown",
   "id": "3e824d6f",
   "metadata": {},
   "source": [
    "# Modeling"
   ]
  },
  {
   "cell_type": "markdown",
   "id": "b2df0edd",
   "metadata": {},
   "source": [
    "### Encoding Categorical Variables"
   ]
  },
  {
   "cell_type": "code",
   "execution_count": null,
   "id": "0ba126f3",
   "metadata": {
    "scrolled": true
   },
   "outputs": [],
   "source": [
    "numerical_cols = (list(set(df.select_dtypes(exclude='object').columns)-\n",
    "                      set(['Customer ID', 'Longitude', 'Latitude', 'Total Purchase'])))\n",
    "numerical_cols"
   ]
  },
  {
   "cell_type": "code",
   "execution_count": null,
   "id": "68fa12ac",
   "metadata": {},
   "outputs": [],
   "source": [
    "df[numerical_cols].describe()"
   ]
  },
  {
   "cell_type": "markdown",
   "id": "216e1973",
   "metadata": {},
   "source": [
    "#### Ordinal Encoding"
   ]
  },
  {
   "cell_type": "code",
   "execution_count": null,
   "id": "636e72f2",
   "metadata": {},
   "outputs": [],
   "source": [
    "categorical_encoded_ord = (df['Device Class'].map({'Low End': 0,\n",
    "                                                  'Mid End': 1,\n",
    "                                                  'High End': 2}))"
   ]
  },
  {
   "cell_type": "code",
   "execution_count": null,
   "id": "31f883f2",
   "metadata": {},
   "outputs": [],
   "source": [
    "categorical_encoded_ord.value_counts()"
   ]
  },
  {
   "cell_type": "code",
   "execution_count": null,
   "id": "57b692cd",
   "metadata": {
    "scrolled": true
   },
   "outputs": [],
   "source": [
    "3096+2421"
   ]
  },
  {
   "cell_type": "markdown",
   "id": "05ffccd5",
   "metadata": {},
   "source": [
    "#### One Hot Encoding"
   ]
  },
  {
   "cell_type": "code",
   "execution_count": null,
   "id": "43f4bc84",
   "metadata": {},
   "outputs": [],
   "source": [
    "cat_cols = df.select_dtypes(include='object').columns\n",
    "cat_cols"
   ]
  },
  {
   "cell_type": "code",
   "execution_count": null,
   "id": "87230af6",
   "metadata": {},
   "outputs": [],
   "source": [
    "# exclude binary columns\n",
    "sub_cat_cols = list(set(cat_cols)-set(['Device Class', 'Churn Label', 'Games Product', \n",
    "                                       'Video Product', 'Education Product', 'Video Product', \n",
    "                                       'Music Product', 'Use MyApp', 'Call Center', 'Location','Internet Access']))\n",
    "categorical_encoded_nom = pd.get_dummies(df[sub_cat_cols], drop_first=True)"
   ]
  },
  {
   "cell_type": "code",
   "execution_count": null,
   "id": "e21caacb",
   "metadata": {},
   "outputs": [],
   "source": [
    "categorical_encoded_nom.columns.unique()"
   ]
  },
  {
   "cell_type": "markdown",
   "id": "7e289ae2",
   "metadata": {},
   "source": [
    "#### Binary Encoding"
   ]
  },
  {
   "cell_type": "code",
   "execution_count": null,
   "id": "518f9c2d",
   "metadata": {},
   "outputs": [],
   "source": [
    "binary_cols = ['Churn Label', 'Games Product', 'Video Product', \n",
    "                  'Education Product', 'Music Product', \n",
    "                  'Use MyApp', 'Call Center', 'Internet Access']\n",
    "\n",
    "binary_encoded = df[binary_cols].replace({'Yes': 1, 'No': 0})"
   ]
  },
  {
   "cell_type": "markdown",
   "id": "ebee4670",
   "metadata": {},
   "source": [
    "Combine all the encoded variables."
   ]
  },
  {
   "cell_type": "code",
   "execution_count": null,
   "id": "ff002954",
   "metadata": {},
   "outputs": [],
   "source": [
    "df_final = pd.concat([df[numerical_cols], categorical_encoded_ord, categorical_encoded_nom, binary_encoded], axis=1)\n",
    "df_final.columns"
   ]
  },
  {
   "cell_type": "code",
   "execution_count": null,
   "id": "da56e188",
   "metadata": {
    "scrolled": false
   },
   "outputs": [],
   "source": [
    "df_final.shape"
   ]
  },
  {
   "cell_type": "code",
   "execution_count": null,
   "id": "1c7c79a9",
   "metadata": {},
   "outputs": [],
   "source": [
    "df_final['Internet Access'].value_counts()"
   ]
  },
  {
   "cell_type": "markdown",
   "id": "4d99276c",
   "metadata": {},
   "source": [
    "### Check Multicollinearity"
   ]
  },
  {
   "cell_type": "code",
   "execution_count": null,
   "id": "94069100",
   "metadata": {},
   "outputs": [],
   "source": [
    "# Create Heatmap Correlation Chart for Each Numerical Features\n",
    "plt.figure(figsize=(12, 6))\n",
    "sns.heatmap(df_final.corr(), cmap='Blues', annot=True, fmt='.2f')"
   ]
  },
  {
   "cell_type": "code",
   "execution_count": null,
   "id": "94882615",
   "metadata": {},
   "outputs": [],
   "source": [
    "# Assuming df is your DataFrame\n",
    "high_correlation_features = []\n",
    "\n",
    "correlation_matrix = df_final.corr().abs()\n",
    "high_correlation_pairs = (correlation_matrix > 0.7) & (correlation_matrix < 1.0)\n",
    " \n",
    "for feature in high_correlation_pairs.columns:\n",
    "    correlated_features = high_correlation_pairs.index[high_correlation_pairs[feature]].tolist()\n",
    "    high_correlation_features.extend([(feature, corr_feature) for corr_feature in correlated_features])\n",
    "\n",
    "high_correlation_features = list(set(high_correlation_features))\n",
    "\n",
    "print(high_correlation_features)"
   ]
  },
  {
   "cell_type": "markdown",
   "id": "2e31e83a",
   "metadata": {},
   "source": [
    " 'Monthly Purchase (Thou. IDR)', 'Internet Access', 'Education Product'"
   ]
  },
  {
   "cell_type": "code",
   "execution_count": null,
   "id": "bfb6192b",
   "metadata": {
    "scrolled": true
   },
   "outputs": [],
   "source": [
    "numerical_cols = set(numerical_cols) - set(['Monthly Purchase (Thou. IDR)'])\n",
    "binary_cols = set(binary_cols) - set(['Internet Access', 'Education Product'])\n",
    "\n",
    "\n",
    "df_final = pd.concat([df[numerical_cols], categorical_encoded_ord, categorical_encoded_nom, binary_encoded[binary_cols]], axis=1)\n",
    "df_final.columns"
   ]
  },
  {
   "cell_type": "code",
   "execution_count": null,
   "id": "70ca73fa",
   "metadata": {},
   "outputs": [],
   "source": [
    "label_num = df['Churn Label'].replace({'Yes': 1, 'No': 0})\n",
    "data = pd.concat([df_final.drop(columns='Churn Label', axis=1), label_num], axis=1)\n",
    "\n",
    "plt.figure(figsize=(6, 3))\n",
    "(sns.heatmap(data.corr(method = 'kendall')\n",
    "            [data.corr(method='kendall')\n",
    "             .index != 'Churn Label'][['Churn Label']], \n",
    "            annot=True,\n",
    "           cmap='Blues',\n",
    "            fmt='.2f',\n",
    "            vmin=-0.5,\n",
    "            vmax=0.5))"
   ]
  },
  {
   "cell_type": "code",
   "execution_count": null,
   "id": "8593681c",
   "metadata": {},
   "outputs": [],
   "source": [
    "df_final.shape"
   ]
  },
  {
   "cell_type": "code",
   "execution_count": null,
   "id": "76251a84",
   "metadata": {},
   "outputs": [],
   "source": [
    "# Create Heatmap Correlation Chart for Each Numerical Features\n",
    "plt.figure(figsize=(12, 6))\n",
    "sns.heatmap(df_final.corr(), cmap='Blues', annot=True, fmt='.2f')\n",
    "\n",
    "# Check multicollinearity\n",
    "high_correlation_features = []\n",
    "\n",
    "correlation_matrix = df_final.corr().abs()\n",
    "high_correlation_pairs = (correlation_matrix > 0.7) & (correlation_matrix < 1.0)\n",
    " \n",
    "for feature in high_correlation_pairs.columns:\n",
    "    correlated_features = high_correlation_pairs.index[high_correlation_pairs[feature]].tolist()\n",
    "    high_correlation_features.extend([(feature, corr_feature) for corr_feature in correlated_features])\n",
    "\n",
    "high_correlation_features = list(set(high_correlation_features))\n",
    "\n",
    "print(high_correlation_features)"
   ]
  },
  {
   "cell_type": "code",
   "execution_count": null,
   "id": "ac7d4a4c",
   "metadata": {},
   "outputs": [],
   "source": [
    "df_final.columns"
   ]
  },
  {
   "cell_type": "code",
   "execution_count": null,
   "id": "fd16295a",
   "metadata": {},
   "outputs": [],
   "source": [
    "# df_final_with_id = pd.concat([df['Customer ID'], df[numerical_cols], categorical_encoded_ord, categorical_encoded_nom, binary_encoded], axis=1)\n",
    "# df_final_with_id.columns"
   ]
  },
  {
   "cell_type": "code",
   "execution_count": null,
   "id": "a0ceb520",
   "metadata": {},
   "outputs": [],
   "source": [
    "# df_final_with_id.to_csv('Telco_Customer_Engineeredv1_Encoded.csv', index=False)"
   ]
  },
  {
   "cell_type": "code",
   "execution_count": null,
   "id": "2368c842",
   "metadata": {},
   "outputs": [],
   "source": [
    "#df_final.to_csv('Sub_Telco_Encoded.csv', index=False)"
   ]
  },
  {
   "cell_type": "markdown",
   "id": "14a33787",
   "metadata": {},
   "source": [
    "### Train-Test Split"
   ]
  },
  {
   "cell_type": "code",
   "execution_count": null,
   "id": "ee4bec1c",
   "metadata": {},
   "outputs": [],
   "source": [
    "from sklearn.model_selection import train_test_split\n",
    "from sklearn.preprocessing import MinMaxScaler"
   ]
  },
  {
   "cell_type": "code",
   "execution_count": null,
   "id": "9be943a3",
   "metadata": {},
   "outputs": [],
   "source": [
    "X= df_final.drop(columns='Churn Label', axis=1)\n",
    "y= df_final['Churn Label']\n",
    "\n",
    "X_train, X_test, y_train, y_test = train_test_split(X, y, test_size=0.3, stratify=y, random_state=42)"
   ]
  },
  {
   "cell_type": "code",
   "execution_count": null,
   "id": "5ab5dda0",
   "metadata": {},
   "outputs": [],
   "source": [
    "X_train.shape"
   ]
  },
  {
   "cell_type": "code",
   "execution_count": null,
   "id": "3cb7700e",
   "metadata": {},
   "outputs": [],
   "source": [
    "X_test.shape"
   ]
  },
  {
   "cell_type": "code",
   "execution_count": null,
   "id": "85ed3009",
   "metadata": {},
   "outputs": [],
   "source": [
    "X.columns"
   ]
  },
  {
   "cell_type": "code",
   "execution_count": null,
   "id": "b0ea2850",
   "metadata": {},
   "outputs": [],
   "source": [
    "X.shape"
   ]
  },
  {
   "cell_type": "code",
   "execution_count": null,
   "id": "26829085",
   "metadata": {},
   "outputs": [],
   "source": [
    "y_train.value_counts()"
   ]
  },
  {
   "cell_type": "code",
   "execution_count": null,
   "id": "90686a82",
   "metadata": {},
   "outputs": [],
   "source": [
    "y_test.value_counts()"
   ]
  },
  {
   "cell_type": "markdown",
   "id": "a25ad5be",
   "metadata": {},
   "source": [
    "### Scaling"
   ]
  },
  {
   "cell_type": "code",
   "execution_count": null,
   "id": "c5386660",
   "metadata": {
    "scrolled": false
   },
   "outputs": [],
   "source": [
    "scaler= MinMaxScaler()\n",
    "\n",
    "X_train_scaled = scaler.fit_transform(X_train)\n",
    "X_test_scaled = scaler.transform(X_test)"
   ]
  },
  {
   "cell_type": "code",
   "execution_count": null,
   "id": "9f3cad5b",
   "metadata": {},
   "outputs": [],
   "source": [
    "# # Save Model\n",
    "# path = './output'\n",
    "# with open(path+'/scaler.pickle', 'wb') as to_write:\n",
    "#     pickle.dump(scaler, to_write)"
   ]
  },
  {
   "cell_type": "markdown",
   "id": "c96371c2",
   "metadata": {},
   "source": [
    "### SMOTE"
   ]
  },
  {
   "cell_type": "code",
   "execution_count": null,
   "id": "f1883185",
   "metadata": {},
   "outputs": [],
   "source": [
    "from imblearn.over_sampling import SMOTE"
   ]
  },
  {
   "cell_type": "code",
   "execution_count": null,
   "id": "db01b319",
   "metadata": {},
   "outputs": [],
   "source": [
    "# Random Over Sampling\n",
    "sm = SMOTE(sampling_strategy=0.45, random_state=42)\n",
    "sm.fit(X_train_scaled, y_train)\n",
    "X_smote, y_smote = sm.fit_resample(X_train_scaled, y_train)"
   ]
  },
  {
   "cell_type": "code",
   "execution_count": null,
   "id": "06ba1c46",
   "metadata": {},
   "outputs": [],
   "source": [
    "y_train.value_counts()"
   ]
  },
  {
   "cell_type": "code",
   "execution_count": null,
   "id": "564163e9",
   "metadata": {},
   "outputs": [],
   "source": [
    "y_smote.value_counts()"
   ]
  },
  {
   "cell_type": "code",
   "execution_count": null,
   "id": "90997de8",
   "metadata": {},
   "outputs": [],
   "source": [
    "def not_using_smote():\n",
    "    X_smote = X_train_scaled\n",
    "    y_smote = y_train\n",
    "\n",
    "not_using_smote()"
   ]
  },
  {
   "cell_type": "markdown",
   "id": "52bd0ab4",
   "metadata": {},
   "source": [
    "### Modeling"
   ]
  },
  {
   "cell_type": "code",
   "execution_count": null,
   "id": "b9c54f23",
   "metadata": {},
   "outputs": [],
   "source": [
    "# Import Metrics Evaluation\n",
    "\n",
    "from sklearn.metrics import accuracy_score, precision_score, recall_score, f1_score, fbeta_score, confusion_matrix, classification_report, roc_auc_score, make_scorer\n",
    "\n",
    "# Import Models\n",
    "\n",
    "from sklearn.linear_model import LogisticRegression\n",
    "from sklearn.neighbors import KNeighborsClassifier\n",
    "from sklearn.naive_bayes import GaussianNB\n",
    "from sklearn.svm import SVC\n",
    "from sklearn.tree import DecisionTreeClassifier\n",
    "from sklearn.ensemble import RandomForestClassifier\n",
    "from sklearn.ensemble import AdaBoostClassifier\n",
    "from sklearn.ensemble import GradientBoostingClassifier\n",
    "from lightgbm import LGBMClassifier\n",
    "from xgboost import XGBClassifier"
   ]
  },
  {
   "cell_type": "code",
   "execution_count": null,
   "id": "d38663ef",
   "metadata": {},
   "outputs": [],
   "source": [
    "# Create Modeling Function\n",
    "def createmodel(x_train, x_test, y_train, y_test, models):\n",
    "    performance = []\n",
    "    for i in models:\n",
    "        model = i\n",
    "        model.fit(x_train, y_train)\n",
    "        y_pred = model.predict(x_test)\n",
    "        y_train_pred = model.predict(x_train)\n",
    "        performance.append([np.round(precision_score(y_train, y_train_pred, pos_label=1),3), np.round(precision_score(y_test, y_pred, pos_label=1),3),\n",
    "                           np.round(recall_score(y_train, y_train_pred, pos_label=1),3), np.round(recall_score(y_test, y_pred, pos_label=1),3),\n",
    "                            np.round(f1_score(y_train, y_train_pred, pos_label=1),3), np.round(f1_score(y_test, y_pred, pos_label=1),3)\n",
    "                           ])\n",
    "    \n",
    "    print(performance)\n",
    "    performance_df = pd.DataFrame(data=performance, columns='Train\\nPrecision,Test\\nPrecision,Train\\nRecall,Test\\nRecall,Train\\nF1 Score,Test\\nF1 Score'.split(\",\"),\n",
    "                                index=[str(type(clf).__name__) + '()' for clf in models])\n",
    "    plt.figure(figsize=(18, 9))\n",
    "    sns.heatmap(performance_df, annot=True, cmap=\"Blues\", annot_kws={\"fontsize\":14}, fmt=\".3f\")\n",
    "    plt.tick_params(axis='both', which='major', labelsize=14, labelbottom = False, bottom=False, top = False, labeltop=True)\n",
    "    plt.tight_layout()\n",
    "    # Make Y-axis labels horizontal\n",
    "    plt.yticks(rotation=0)\n",
    "    plt.savefig('modelling_feature_engineered.png')\n",
    "    plt.show()"
   ]
  },
  {
   "cell_type": "code",
   "execution_count": null,
   "id": "6a96db0c",
   "metadata": {},
   "outputs": [],
   "source": [
    "# Define Classification Algorithms\n",
    "models = [LogisticRegression(random_state=42), KNeighborsClassifier(), SVC(random_state=42), DecisionTreeClassifier(random_state=42),\n",
    "          RandomForestClassifier(random_state=42), AdaBoostClassifier(random_state=42), GradientBoostingClassifier(random_state=42), LGBMClassifier(random_state=42),\n",
    "          XGBClassifier(random_state=42)]"
   ]
  },
  {
   "cell_type": "code",
   "execution_count": null,
   "id": "f91e2962",
   "metadata": {},
   "outputs": [],
   "source": [
    "#Modeling\n",
    "createmodel(X_smote,X_test_scaled, y_smote,y_test, models)"
   ]
  },
  {
   "cell_type": "markdown",
   "id": "abed6e5a",
   "metadata": {},
   "source": [
    "### Hyperparameter Tuning"
   ]
  },
  {
   "cell_type": "code",
   "execution_count": null,
   "id": "1d34db91",
   "metadata": {},
   "outputs": [],
   "source": [
    "from sklearn.model_selection import GridSearchCV, RandomizedSearchCV"
   ]
  },
  {
   "cell_type": "markdown",
   "id": "26d9f9df",
   "metadata": {},
   "source": [
    "We conduct hyperparameter tuning for best models selected based on F2-score."
   ]
  },
  {
   "cell_type": "markdown",
   "id": "dfd03baa",
   "metadata": {},
   "source": [
    "#### Define Parameter Distribution"
   ]
  },
  {
   "cell_type": "code",
   "execution_count": null,
   "id": "552864c8",
   "metadata": {},
   "outputs": [],
   "source": [
    "from jcopml.tuning import random_search_params as rsp, grid_search_params as gsp"
   ]
  },
  {
   "cell_type": "code",
   "execution_count": null,
   "id": "4f35081a",
   "metadata": {},
   "outputs": [],
   "source": [
    "# Define the hyperparameters and their values to search for Logistic Regression\n",
    "lgr_param_grid = {\n",
    "    'C': np.logspace(-3, 3, 7),  # Regularization strength (a range of values from 0.001 to 1000)\n",
    "    'fit_intercept': [True, False],  # Whether to calculate the intercept for this model\n",
    "    'class_weight': [None, 'balanced', {1:2, 0:1}, {1:3, 0:1}, {1:5, 0:1}],  # Weights to be used for classes (None for equal, 'balanced' for automatic balancing)\n",
    "    'solver': ['sag', 'saga'],\n",
    "    'penalty': ['l1', 'l2'],\n",
    "}\n",
    "\n",
    "\n",
    "\n",
    "# Define the base estimator (DecisionTreeClassifier) with personalized parameters\n",
    "balanced_estimator = DecisionTreeClassifier(max_depth=1, class_weight='balanced')  # Adjust class_weight for imbalance\n",
    "\n",
    "# Define the hyperparameters and their values to search for AdaBoost\n",
    "ada_param_grid = {\n",
    "    'n_estimators': [50, 100, 200, 300],  # Number of weak learners (trees) to train\n",
    "    'learning_rate': [0.001, 0.01, 0.1, 1],  # Step size for the weak learner's contribution\n",
    "    'estimator': [None, balanced_estimator],  # The base estimator to use (None for DecisionTreeClassifier, or a custom estimator),\n",
    "    'algorithm': ['SAMME', 'SAMME.R']\n",
    "}\n",
    "\n",
    "\n",
    "lgbm_param_grid = {\n",
    "        'class_weight': [None, 'balanced'],\n",
    "        'boosting_type': ['gbdt', 'rf'],  # Gradient Boosting Decision Tree\n",
    "        'n_estimators': [100, 200, 300],  # Number of weak learners (trees) to train\n",
    "        'learning_rate': [0.01, 0.1, 1],  # Step size for the weak learner's contribution\n",
    "        'min_child_weight': [1e-3, 1],  # Minimum sum of instance weight needed in a child (leaf)\n",
    "        'min_child_samples': [20],  # Minimum number of data needed in a child (leaf)\n",
    "}\n",
    "\n",
    "# gb_param_grid = {\n",
    "#     'n_estimators': [100, 200, 300],\n",
    "#     'max_depth': [3, 4, 5, 6],\n",
    "#     'min_samples_split': [2, 5, 10],\n",
    "#     'min_samples_leaf': [1, 2, 4],\n",
    "#     'subsample': [0.8, 0.9, 1.0],\n",
    "#     'max_features': ['auto', 'sqrt', 'log2'],\n",
    "#     'learning_rate': [0.05, 0.1, 0.2],\n",
    "#     'scale_pos_weight': [1, 2, 5, 10]  # Parameter for handling imbalanced classes\n",
    "# }\n",
    "\n",
    "gb_param_grid = {\n",
    "    # Boosting parameter\n",
    "    'learning_rate': [0.05, 0.1, 0.2],\n",
    "    # Tree parameter\n",
    "    'n_estimators': [200],\n",
    "     'min_samples_split': [0.5, 1, 2],\n",
    "#     'min_samples_leaf': [1, 2, 4],\n",
    "    'max_features': ['sqrt'],\n",
    "}"
   ]
  },
  {
   "cell_type": "code",
   "execution_count": null,
   "id": "e03d6ac0",
   "metadata": {},
   "outputs": [],
   "source": [
    "# models_and_params = [(LogisticRegression(max_iter=1000, random_state=42, verbose=1), lgr_param_grid),\n",
    "#                     (AdaBoostClassifier(random_state=42), ada_param_grid),\n",
    "#                     (LGBMClassifier(random_state=42, silent=True), lgbm_param_grid)]"
   ]
  },
  {
   "cell_type": "code",
   "execution_count": null,
   "id": "bba759af",
   "metadata": {},
   "outputs": [],
   "source": [
    "#models_and_params = [(GradientBoostingClassifier(random_state=42, verbose=0), gb_param_grid)]"
   ]
  },
  {
   "cell_type": "code",
   "execution_count": null,
   "id": "5eca007a",
   "metadata": {},
   "outputs": [],
   "source": [
    " models_and_params = [(LogisticRegression(random_state=42, verbose=0), lgr_param_grid)]"
   ]
  },
  {
   "cell_type": "code",
   "execution_count": null,
   "id": "7e5ef1aa",
   "metadata": {},
   "outputs": [],
   "source": [
    "import warnings\n",
    "from sklearn.exceptions import ConvergenceWarning\n",
    "# Filter out ConvergenceWarnings\n",
    "warnings.filterwarnings(\"ignore\", category=ConvergenceWarning)\n",
    "\n",
    "def createmodel_tune(x_train, x_test, y_train, y_test, models):\n",
    "    # Perform GridSearchCV for each model\n",
    "    performance = []\n",
    "    for model, param_grid in models_and_params:\n",
    "        grid_search = GridSearchCV(model, param_grid, cv=5, scoring='f1')\n",
    "        grid_search.fit(x_train, y_train)\n",
    "        \n",
    "        y_pred = grid_search.predict(x_test)\n",
    "        y_train_pred = grid_search.predict(x_train)\n",
    "        \n",
    "        performance.append([np.round(precision_score(y_train, y_train_pred, pos_label=1),3), np.round(precision_score(y_test, y_pred, pos_label=1),3),\n",
    "                               np.round(recall_score(y_train, y_train_pred, pos_label=1),3), np.round(recall_score(y_test, y_pred, pos_label=1),3),\n",
    "                                np.round(f1_score(y_train, y_train_pred, pos_label=1),3), np.round(f1_score(y_test, y_pred, pos_label=1),3)])\n",
    "\n",
    "        print(f\"Best parameters for {model.__class__.__name__}: {grid_search.best_params_}\")\n",
    "    \n",
    "    performance_df = pd.DataFrame(data=performance, columns='Train\\nPrecision,Test\\nPrecision,Train\\nRecall,Test\\nRecall,Train\\nF1 Score,Test\\nF1 Score'.split(\",\"),\n",
    "                                index=[model.__class__.__name__ + '()' for model, _ in models])\n",
    "    plt.figure(figsize=(14, 10))\n",
    "    sns.heatmap(performance_df, annot=True, cmap=\"Blues\", annot_kws={\"fontsize\":14}, fmt=\".3f\")\n",
    "    plt.tick_params(axis='both', which='major', labelsize=14, labelbottom = False, bottom=False, top = False, labeltop=True)\n",
    "    plt.tight_layout()\n",
    "    # Make Y-axis labels horizontal\n",
    "    plt.yticks(rotation=0)\n",
    "    plt.savefig('modelling_tune.png')\n",
    "    plt.show()\n",
    "    \n",
    "    return performance_df"
   ]
  },
  {
   "cell_type": "code",
   "execution_count": 204,
   "id": "a175ad3f",
   "metadata": {
    "scrolled": false
   },
   "outputs": [
    {
     "name": "stderr",
     "output_type": "stream",
     "text": [
      "C:\\Users\\ASUS\\anaconda3\\envs\\loan_prediction_env\\lib\\site-packages\\sklearn\\model_selection\\_validation.py:425: FitFailedWarning: \n",
      "350 fits failed out of a total of 1400.\n",
      "The score on these train-test partitions for these parameters will be set to nan.\n",
      "If these failures are not expected, you can try to debug them by setting error_score='raise'.\n",
      "\n",
      "Below are more details about the failures:\n",
      "--------------------------------------------------------------------------------\n",
      "350 fits failed with the following error:\n",
      "Traceback (most recent call last):\n",
      "  File \"C:\\Users\\ASUS\\anaconda3\\envs\\loan_prediction_env\\lib\\site-packages\\sklearn\\model_selection\\_validation.py\", line 732, in _fit_and_score\n",
      "    estimator.fit(X_train, y_train, **fit_params)\n",
      "  File \"C:\\Users\\ASUS\\anaconda3\\envs\\loan_prediction_env\\lib\\site-packages\\sklearn\\base.py\", line 1151, in wrapper\n",
      "    return fit_method(estimator, *args, **kwargs)\n",
      "  File \"C:\\Users\\ASUS\\anaconda3\\envs\\loan_prediction_env\\lib\\site-packages\\sklearn\\linear_model\\_logistic.py\", line 1168, in fit\n",
      "    solver = _check_solver(self.solver, self.penalty, self.dual)\n",
      "  File \"C:\\Users\\ASUS\\anaconda3\\envs\\loan_prediction_env\\lib\\site-packages\\sklearn\\linear_model\\_logistic.py\", line 56, in _check_solver\n",
      "    raise ValueError(\n",
      "ValueError: Solver sag supports only 'l2' or 'none' penalties, got l1 penalty.\n",
      "\n",
      "  warnings.warn(some_fits_failed_message, FitFailedWarning)\n",
      "C:\\Users\\ASUS\\anaconda3\\envs\\loan_prediction_env\\lib\\site-packages\\sklearn\\model_selection\\_search.py:976: UserWarning: One or more of the test scores are non-finite: [       nan 0.         0.         0.                nan 0.\n",
      " 0.19535778 0.19535778        nan 0.09476744 0.62592949 0.62610046\n",
      "        nan 0.         0.63430536 0.63430536        nan 0.\n",
      " 0.60451837 0.60452453        nan 0.         0.6259073  0.6259073\n",
      "        nan 0.4735464  0.58452966 0.5844102         nan 0.\n",
      " 0.61747817 0.61747817        nan 0.4735464  0.48601175 0.48601175\n",
      "        nan 0.53059056 0.54397756 0.54378636        nan 0.43218839\n",
      " 0.50453265 0.50453265        nan 0.55219704 0.55505896 0.55505896\n",
      "        nan 0.65755361 0.65653085 0.65653085        nan 0.64260659\n",
      " 0.65141518 0.65141518        nan 0.66017629 0.65251848 0.65251848\n",
      "        nan 0.64409692 0.65208389 0.65208389        nan 0.64393718\n",
      " 0.64826165 0.64826165        nan 0.63855018 0.64860655 0.64860655\n",
      "        nan 0.60384217 0.60299481 0.60299481        nan 0.61036092\n",
      " 0.61352377 0.61352377        nan 0.61189424 0.61279124 0.61298764\n",
      "        nan 0.61746649 0.61395088 0.61395088        nan 0.65699335\n",
      " 0.65780362 0.65780362        nan 0.65138145 0.65360783 0.65360783\n",
      "        nan 0.65588234 0.65550795 0.65550795        nan 0.65064616\n",
      " 0.65245153 0.65245153        nan 0.65221326 0.65271658 0.65271658\n",
      "        nan 0.65052692 0.65104832 0.65104832        nan 0.62291063\n",
      " 0.62341471 0.62341471        nan 0.62508552 0.62760017 0.62760017\n",
      "        nan 0.61641028 0.61780109 0.61780109        nan 0.62446911\n",
      " 0.62471642 0.62471642        nan 0.65278713 0.65217952 0.65217952\n",
      "        nan 0.64904007 0.65241502 0.65241502        nan 0.65356728\n",
      " 0.65410102 0.65410102        nan 0.65324865 0.65411257 0.65393562\n",
      "        nan 0.65582755 0.65487117 0.65487117        nan 0.64946298\n",
      " 0.64994045 0.64977942        nan 0.62613358 0.62595566 0.62567648\n",
      "        nan 0.62913131 0.62815482 0.62815482        nan 0.62005741\n",
      " 0.62005741 0.62005741        nan 0.62542284 0.62542284 0.62542284\n",
      "        nan 0.65220342 0.65219605 0.65237952        nan 0.65028529\n",
      " 0.65028529 0.65028529        nan 0.6528369  0.65282643 0.65282643\n",
      "        nan 0.65322609 0.65359564 0.65359564        nan 0.65552827\n",
      " 0.65519785 0.65552827        nan 0.64859065 0.64859065 0.64859065\n",
      "        nan 0.62630081 0.62270433 0.62617149        nan 0.62900113\n",
      " 0.63028824 0.62900113        nan 0.61960563 0.61960563 0.61960563\n",
      "        nan 0.62521536 0.62521536 0.62542284        nan 0.65256351\n",
      " 0.65237952 0.65237952        nan 0.65028529 0.65010429 0.65010429\n",
      "        nan 0.65282643 0.65282643 0.65282643        nan 0.65338909\n",
      " 0.65357093 0.65357093        nan 0.65519785 0.65519785 0.65519785\n",
      "        nan 0.64859065 0.64859065 0.64859065        nan 0.62617187\n",
      " 0.62198051 0.62617187        nan 0.62913218 0.62800225 0.62913218\n",
      "        nan 0.61960563 0.61960563 0.61960563        nan 0.62521536\n",
      " 0.62521536 0.62521536        nan 0.65256351 0.65237952 0.65256351\n",
      "        nan 0.65010429 0.65010429 0.65010429        nan 0.65282643\n",
      " 0.65282643 0.65282643        nan 0.65338909 0.65357093 0.65338909\n",
      "        nan 0.65519785 0.65519785 0.65519785        nan 0.64859065\n",
      " 0.64859065 0.64859065        nan 0.62617187 0.61640241 0.62617187\n",
      "        nan 0.62913218 0.62766005 0.62913218]\n",
      "  warnings.warn(\n"
     ]
    },
    {
     "name": "stdout",
     "output_type": "stream",
     "text": [
      "Best parameters for LogisticRegression: {'C': 0.01, 'class_weight': {1: 2, 0: 1}, 'fit_intercept': True, 'penalty': 'l1', 'solver': 'saga'}\n"
     ]
    },
    {
     "data": {
      "image/png": "[encoded data removed]",
      "text/plain": [
       "<Figure size 1400x1000 with 2 Axes>"
      ]
     },
     "metadata": {},
     "output_type": "display_data"
    }
   ],
   "source": [
    "df_performance_tune = createmodel_tune(X_smote, X_test_scaled, y_smote ,y_test, models_and_params)"
   ]
  },
  {
   "cell_type": "markdown",
   "id": "9569c0c5",
   "metadata": {},
   "source": [
    "**Tuning History**\n",
    "- Best parameters for LogisticRegression: {'C': 1.0, 'class_weight': 'balanced', 'fit_intercept': True}\n",
    "- Best parameters for AdaBoostClassifier: {'algorithm': 'SAMME.R', 'estimator': DecisionTreeClassifier(class_weight='balanced', max_depth=1), 'learning_rate': 0.1, 'n_estimators': 300}\n",
    "- Best parameters for LGBMClassifier: {'boosting_type': 'gbdt', 'class_weight': 'balanced', 'learning_rate': 0.01, 'min_child_samples': 20, 'min_child_weight': 0.001, 'n_estimators': 300}\n",
    "\n",
    "\n",
    "- Best parameters for LogisticRegression: {'C': 0.1, 'class_weight': 'balanced', 'fit_intercept': True, 'penalty': 'l2', 'solver': 'sag'}\n",
    "- Best parameters for GradientBoostingClassifier: {'learning_rate': 0.05, 'max_features': 'sqrt', 'n_estimators': 200}\n",
    "\n",
    "- Best parameters for LogisticRegression: {'C': 0.01, 'class_weight': {1: 2, 0: 1}, 'fit_intercept': True, 'penalty': 'l1', 'solver': 'saga'}"
   ]
  },
  {
   "cell_type": "markdown",
   "id": "a0da4341",
   "metadata": {},
   "source": [
    "#### Logistic Regression - Tuned"
   ]
  },
  {
   "cell_type": "code",
   "execution_count": 205,
   "id": "4c444409",
   "metadata": {},
   "outputs": [],
   "source": [
    "from sklearn.model_selection import cross_val_score"
   ]
  },
  {
   "cell_type": "code",
   "execution_count": 206,
   "id": "df07845c",
   "metadata": {},
   "outputs": [],
   "source": [
    "def summarize_training(train_X, test_X, train_y, test_y, train_pred_y, test_pred_y):\n",
    "    print('TRAINING RESULT:')\n",
    "    print('======================================================')\n",
    "    print('F1 Score:', np.round(f1_score(train_y, train_pred_y, pos_label=1),3))\n",
    "    print('F2 Score:', np.round(fbeta_score(train_y, train_pred_y, pos_label=1, beta=2),3))\n",
    "    print('======================================================')\n",
    "    print('Classification Report --------------------------------')\n",
    "    print(classification_report(train_y, train_pred_y))\n",
    "    print('======================================================')\n",
    "    print('Confussion Matrix ------------------------------------')\n",
    "    print(confusion_matrix(train_y, train_pred_y))\n",
    "\n",
    "    print('\\n======================================================')\n",
    "\n",
    "    print('\\nTESTING RESULT:')\n",
    "    print('======================================================')\n",
    "    print('F1 Score:', np.round(f1_score(test_y, test_pred_y, pos_label=1),3))\n",
    "    print('F2 Score:', np.round(fbeta_score(test_y, test_pred_y, pos_label=1, beta=2),3))\n",
    "    print('======================================================')\n",
    "    print('Classification Report --------------------------------')\n",
    "    print(classification_report(test_y, test_pred_y))\n",
    "    print('======================================================')\n",
    "    print('Confussion Matrix ------------------------------------')\n",
    "    print(confusion_matrix(test_y, test_pred_y))"
   ]
  },
  {
   "cell_type": "code",
   "execution_count": 207,
   "id": "b8ee41ec",
   "metadata": {},
   "outputs": [],
   "source": [
    "def plot_confusion_matrix(test_y, prediction_y):\n",
    "    # Construct and display your confusion matrix.\n",
    "    cf_matrix = confusion_matrix(test_y, prediction_y)\n",
    "\n",
    "    group_names = [\"True Negative\", \"False Positive\", \"False Negative\",  \"True Positive\"]\n",
    "    group_counts = [\"{0:0.0f}\".format(value) for value in cf_matrix.flatten()]\n",
    "    group_percentages = [\"{0:.2%}\".format(value) for value in cf_matrix.flatten()/np.sum(cf_matrix)]\n",
    "\n",
    "    labels = [f\"{v1}\\n{v2}\\n{v3}\" for v1, v2, v3 in zip(group_names,group_counts,group_percentages)]\n",
    "    labels = np.asarray(labels).reshape(2,2)\n",
    "\n",
    "    plt.figure(figsize=(7, 5))\n",
    "    plt.title('Confusion Matrix')\n",
    "    sns.heatmap(cf_matrix, annot=labels, fmt='', cmap='Blues')"
   ]
  },
  {
   "cell_type": "code",
   "execution_count": 208,
   "id": "62c3acab",
   "metadata": {
    "scrolled": false
   },
   "outputs": [
    {
     "name": "stdout",
     "output_type": "stream",
     "text": [
      "CV scores: [0.68413793 0.6627566  0.65       0.65646732 0.64751958]\n",
      "Train CV F1 Score: 0.6601762854473312\n",
      "TRAINING RESULT:\n",
      "======================================================\n",
      "F1 Score: 0.661\n",
      "F2 Score: 0.705\n",
      "======================================================\n",
      "Classification Report --------------------------------\n",
      "              precision    recall  f1-score   support\n",
      "\n",
      "           0       0.87      0.78      0.82      3622\n",
      "           1       0.60      0.74      0.66      1629\n",
      "\n",
      "    accuracy                           0.77      5251\n",
      "   macro avg       0.73      0.76      0.74      5251\n",
      "weighted avg       0.78      0.77      0.77      5251\n",
      "\n",
      "======================================================\n",
      "Confussion Matrix ------------------------------------\n",
      "[[2817  805]\n",
      " [ 428 1201]]\n",
      "\n",
      "======================================================\n",
      "\n",
      "TESTING RESULT:\n",
      "======================================================\n",
      "F1 Score: 0.623\n",
      "F2 Score: 0.693\n",
      "======================================================\n",
      "Classification Report --------------------------------\n",
      "              precision    recall  f1-score   support\n",
      "\n",
      "           0       0.89      0.76      0.82      1552\n",
      "           1       0.53      0.75      0.62       561\n",
      "\n",
      "    accuracy                           0.76      2113\n",
      "   macro avg       0.71      0.76      0.72      2113\n",
      "weighted avg       0.80      0.76      0.77      2113\n",
      "\n",
      "======================================================\n",
      "Confussion Matrix ------------------------------------\n",
      "[[1184  368]\n",
      " [ 141  420]]\n"
     ]
    }
   ],
   "source": [
    "#1 {'C': 100.0, 'fit_intercept': True}\n",
    "#2 {'C': 0.01, 'class_weight': 'balanced', 'fit_intercept': True}\n",
    "#3 {'C': 0.01, 'class_weight': {1: 2, 0: 1}, 'fit_intercept': True, 'penalty': 'l1', 'solver': 'saga'}\n",
    "lgr = LogisticRegression(C=0.01, fit_intercept=True, class_weight={1: 2, 0: 1}, penalty='l1', solver='saga', random_state=42, max_iter=1000)\n",
    "lgr.fit(X_smote, y_smote)\n",
    "\n",
    "# Perform 5-fold cross-validation\n",
    "cv_scores = cross_val_score(lgr, X_smote, y_smote, cv=5, scoring='f1')\n",
    "\n",
    "# Print the cross-validation scores\n",
    "print(f\"CV scores: {cv_scores}\")\n",
    "print(f\"Train CV F1 Score: {cv_scores.mean()}\")\n",
    "\n",
    "y_train_pred = lgr.predict(X_smote)\n",
    "y_test_pred = lgr.predict(X_test_scaled)\n",
    "\n",
    "summarize_training(X_smote, X_test_scaled, y_smote, y_test, y_train_pred, y_test_pred)"
   ]
  },
  {
   "cell_type": "code",
   "execution_count": 209,
   "id": "31841eda",
   "metadata": {},
   "outputs": [
    {
     "data": {
      "image/png": "[encoded data removed]",
      "text/plain": [
       "<Figure size 700x500 with 2 Axes>"
      ]
     },
     "metadata": {},
     "output_type": "display_data"
    }
   ],
   "source": [
    "plot_confusion_matrix(y_test, y_test_pred)"
   ]
  },
  {
   "cell_type": "markdown",
   "id": "89e64789",
   "metadata": {},
   "source": [
    "##### Model Assumptions"
   ]
  },
  {
   "cell_type": "markdown",
   "id": "e4b10042",
   "metadata": {},
   "source": [
    "- **Linearity Assumptions** states that there should be a linear relationship between each X variable and the logit of the probability that Y equals 1.\n",
    "- **Independent Observation** relates to how the data was collected. Because the observations are assumed to be independent.\n",
    "- **Multicollinearity** there is little to no multicolinearity between the independent variables. We have drop variables with more than 0.7 correlation coefficient.\n",
    "- **No extreme outliers** We already check that there is no outliers in the dataset."
   ]
  },
  {
   "cell_type": "code",
   "execution_count": 210,
   "id": "073ab0bc",
   "metadata": {
    "scrolled": false
   },
   "outputs": [
    {
     "data": {
      "image/png": "[encoded data removed]",
      "text/plain": [
       "<Figure size 1500x400 with 3 Axes>"
      ]
     },
     "metadata": {},
     "output_type": "display_data"
    }
   ],
   "source": [
    "predicted_probs = lgr.predict_proba(X_test_scaled)[:, 1]\n",
    "log_odds = np.log(predicted_probs / (1-predicted_probs))\n",
    "\n",
    "# Create multiple plots\n",
    "fig, axes = plt.subplots(1, 3, figsize=(15, 4))\n",
    "axes = axes.flatten()\n",
    "\n",
    "numerical_idx = [X_test.columns.get_loc(feature) for feature in numerical_cols]\n",
    "\n",
    "# only plot numerical columns\n",
    "for i in range(len(numerical_cols)):\n",
    "    ax=axes[i]\n",
    "    sns.regplot(x=X_test_scaled[:,numerical_idx[i]], y=log_odds, ax=ax)\n",
    "    ax.set_title(f'{X_test.columns.to_list()[numerical_idx[i]]}')"
   ]
  },
  {
   "cell_type": "markdown",
   "id": "0e5a065a",
   "metadata": {},
   "source": [
    "At this point, We are confidents that there are no assumptions that being violated."
   ]
  },
  {
   "cell_type": "markdown",
   "id": "ca71ccd9",
   "metadata": {},
   "source": [
    "##### Regression Analysis (Feature Importance)"
   ]
  },
  {
   "cell_type": "code",
   "execution_count": 211,
   "id": "a4c16935",
   "metadata": {},
   "outputs": [],
   "source": [
    "def get_feature_importance(clf, feature_name, model):\n",
    "    if model=='lgr':\n",
    "        feature_importance = (\n",
    "        pd.DataFrame(\n",
    "        { 'variable': feature_name,\n",
    "          'coefficient': clf.coef_[0],\n",
    "         'absolute_coef': abs(clf.coef_[0]),\n",
    "          'odds ratio': np.exp(clf.coef_[0])\n",
    "        }\n",
    "        ).round(decimals=2)\\\n",
    "         .sort_values('absolute_coef', ascending=False)\n",
    "        )\n",
    "    elif model =='ada':\n",
    "        feature_importance = (\n",
    "        pd.DataFrame(\n",
    "        { 'variable': feature_name,\n",
    "          'feature importance': np.mean([tree.feature_importances_ for tree in clf.estimators_], axis=0)\n",
    "        }\n",
    "        ).round(decimals=2)\\\n",
    "         .sort_values('feature importance', ascending=False)\n",
    "        ).style.background_gradient()\n",
    "        \n",
    "    return feature_importance"
   ]
  },
  {
   "cell_type": "markdown",
   "id": "c8c5b19b",
   "metadata": {},
   "source": [
    "- Koefisien Positive: Semakin tinggi nilainya semakin berkurang kemungkinan churnnya\n",
    "- Koefisien Negative: Semakin tinggi nilainya semakin bertambah kemungkinan churnnya"
   ]
  },
  {
   "cell_type": "code",
   "execution_count": 212,
   "id": "8eed8449",
   "metadata": {
    "scrolled": false
   },
   "outputs": [],
   "source": [
    "df_feature_importance = get_feature_importance(lgr, X_test.columns, model='lgr')"
   ]
  },
  {
   "cell_type": "code",
   "execution_count": 213,
   "id": "3667fd44",
   "metadata": {},
   "outputs": [
    {
     "data": {
      "text/plain": [
       "Index(['variable', 'coefficient', 'absolute_coef', 'odds ratio'], dtype='object')"
      ]
     },
     "execution_count": 213,
     "metadata": {},
     "output_type": "execute_result"
    }
   ],
   "source": [
    "df_feature_importance.columns"
   ]
  },
  {
   "cell_type": "code",
   "execution_count": 214,
   "id": "8b3f4de4",
   "metadata": {},
   "outputs": [
    {
     "data": {
      "text/html": [
       "<style type=\"text/css\">\n",
       "#T_ca566_row0_col1, #T_ca566_row0_col2 {\n",
       "  background-color: #fff7fb;\n",
       "  color: #000000;\n",
       "}\n",
       "#T_ca566_row1_col1, #T_ca566_row1_col2 {\n",
       "  background-color: #023858;\n",
       "  color: #f1f1f1;\n",
       "}\n",
       "#T_ca566_row2_col1 {\n",
       "  background-color: #2685bb;\n",
       "  color: #f1f1f1;\n",
       "}\n",
       "#T_ca566_row2_col2 {\n",
       "  background-color: #c5cce3;\n",
       "  color: #000000;\n",
       "}\n",
       "#T_ca566_row3_col1 {\n",
       "  background-color: #81aed2;\n",
       "  color: #f1f1f1;\n",
       "}\n",
       "#T_ca566_row3_col2 {\n",
       "  background-color: #ede7f2;\n",
       "  color: #000000;\n",
       "}\n",
       "#T_ca566_row4_col1 {\n",
       "  background-color: #79abd0;\n",
       "  color: #f1f1f1;\n",
       "}\n",
       "#T_ca566_row4_col2 {\n",
       "  background-color: #eae6f1;\n",
       "  color: #000000;\n",
       "}\n",
       "#T_ca566_row5_col1, #T_ca566_row6_col1, #T_ca566_row7_col1, #T_ca566_row8_col1, #T_ca566_row9_col1, #T_ca566_row10_col1, #T_ca566_row11_col1 {\n",
       "  background-color: #65a3cb;\n",
       "  color: #f1f1f1;\n",
       "}\n",
       "#T_ca566_row5_col2, #T_ca566_row6_col2, #T_ca566_row7_col2, #T_ca566_row8_col2, #T_ca566_row9_col2, #T_ca566_row10_col2, #T_ca566_row11_col2 {\n",
       "  background-color: #e4e1ef;\n",
       "  color: #000000;\n",
       "}\n",
       "</style>\n",
       "<table id=\"T_ca566\">\n",
       "  <thead>\n",
       "    <tr>\n",
       "      <th class=\"blank level0\" >&nbsp;</th>\n",
       "      <th id=\"T_ca566_level0_col0\" class=\"col_heading level0 col0\" >variable</th>\n",
       "      <th id=\"T_ca566_level0_col1\" class=\"col_heading level0 col1\" >coefficient</th>\n",
       "      <th id=\"T_ca566_level0_col2\" class=\"col_heading level0 col2\" >odds ratio</th>\n",
       "    </tr>\n",
       "  </thead>\n",
       "  <tbody>\n",
       "    <tr>\n",
       "      <th id=\"T_ca566_level0_row0\" class=\"row_heading level0 row0\" >1</th>\n",
       "      <td id=\"T_ca566_row0_col0\" class=\"data row0 col0\" >Tenure Months</td>\n",
       "      <td id=\"T_ca566_row0_col1\" class=\"data row0 col1\" >-1.910000</td>\n",
       "      <td id=\"T_ca566_row0_col2\" class=\"data row0 col2\" >0.150000</td>\n",
       "    </tr>\n",
       "    <tr>\n",
       "      <th id=\"T_ca566_level0_row1\" class=\"row_heading level0 row1\" >3</th>\n",
       "      <td id=\"T_ca566_row1_col0\" class=\"data row1 col0\" >Device Class</td>\n",
       "      <td id=\"T_ca566_row1_col1\" class=\"data row1 col1\" >1.690000</td>\n",
       "      <td id=\"T_ca566_row1_col2\" class=\"data row1 col2\" >5.390000</td>\n",
       "    </tr>\n",
       "    <tr>\n",
       "      <th id=\"T_ca566_level0_row2\" class=\"row_heading level0 row2\" >6</th>\n",
       "      <td id=\"T_ca566_row2_col0\" class=\"data row2 col0\" >Payment Method_Pulsa</td>\n",
       "      <td id=\"T_ca566_row2_col1\" class=\"data row2 col1\" >0.490000</td>\n",
       "      <td id=\"T_ca566_row2_col2\" class=\"data row2 col2\" >1.630000</td>\n",
       "    </tr>\n",
       "    <tr>\n",
       "      <th id=\"T_ca566_level0_row3\" class=\"row_heading level0 row3\" >9</th>\n",
       "      <td id=\"T_ca566_row3_col0\" class=\"data row3 col0\" >Games Product</td>\n",
       "      <td id=\"T_ca566_row3_col1\" class=\"data row3 col1\" >-0.230000</td>\n",
       "      <td id=\"T_ca566_row3_col2\" class=\"data row3 col2\" >0.800000</td>\n",
       "    </tr>\n",
       "    <tr>\n",
       "      <th id=\"T_ca566_level0_row4\" class=\"row_heading level0 row4\" >11</th>\n",
       "      <td id=\"T_ca566_row4_col0\" class=\"data row4 col0\" >Call Center</td>\n",
       "      <td id=\"T_ca566_row4_col1\" class=\"data row4 col1\" >-0.160000</td>\n",
       "      <td id=\"T_ca566_row4_col2\" class=\"data row4 col2\" >0.850000</td>\n",
       "    </tr>\n",
       "    <tr>\n",
       "      <th id=\"T_ca566_level0_row5\" class=\"row_heading level0 row5\" >0</th>\n",
       "      <td id=\"T_ca566_row5_col0\" class=\"data row5 col0\" >Num Product Used</td>\n",
       "      <td id=\"T_ca566_row5_col1\" class=\"data row5 col1\" >0.000000</td>\n",
       "      <td id=\"T_ca566_row5_col2\" class=\"data row5 col2\" >1.000000</td>\n",
       "    </tr>\n",
       "    <tr>\n",
       "      <th id=\"T_ca566_level0_row6\" class=\"row_heading level0 row6\" >2</th>\n",
       "      <td id=\"T_ca566_row6_col0\" class=\"data row6 col0\" >CLTV (Predicted Thou. IDR)</td>\n",
       "      <td id=\"T_ca566_row6_col1\" class=\"data row6 col1\" >0.000000</td>\n",
       "      <td id=\"T_ca566_row6_col2\" class=\"data row6 col2\" >1.000000</td>\n",
       "    </tr>\n",
       "    <tr>\n",
       "      <th id=\"T_ca566_level0_row7\" class=\"row_heading level0 row7\" >4</th>\n",
       "      <td id=\"T_ca566_row7_col0\" class=\"data row7 col0\" >Payment Method_Debit</td>\n",
       "      <td id=\"T_ca566_row7_col1\" class=\"data row7 col1\" >0.000000</td>\n",
       "      <td id=\"T_ca566_row7_col2\" class=\"data row7 col2\" >1.000000</td>\n",
       "    </tr>\n",
       "    <tr>\n",
       "      <th id=\"T_ca566_level0_row8\" class=\"row_heading level0 row8\" >5</th>\n",
       "      <td id=\"T_ca566_row8_col0\" class=\"data row8 col0\" >Payment Method_Digital Wallet</td>\n",
       "      <td id=\"T_ca566_row8_col1\" class=\"data row8 col1\" >0.000000</td>\n",
       "      <td id=\"T_ca566_row8_col2\" class=\"data row8 col2\" >1.000000</td>\n",
       "    </tr>\n",
       "    <tr>\n",
       "      <th id=\"T_ca566_level0_row9\" class=\"row_heading level0 row9\" >7</th>\n",
       "      <td id=\"T_ca566_row9_col0\" class=\"data row9 col0\" >Music Product</td>\n",
       "      <td id=\"T_ca566_row9_col1\" class=\"data row9 col1\" >0.000000</td>\n",
       "      <td id=\"T_ca566_row9_col2\" class=\"data row9 col2\" >1.000000</td>\n",
       "    </tr>\n",
       "    <tr>\n",
       "      <th id=\"T_ca566_level0_row10\" class=\"row_heading level0 row10\" >8</th>\n",
       "      <td id=\"T_ca566_row10_col0\" class=\"data row10 col0\" >Video Product</td>\n",
       "      <td id=\"T_ca566_row10_col1\" class=\"data row10 col1\" >0.000000</td>\n",
       "      <td id=\"T_ca566_row10_col2\" class=\"data row10 col2\" >1.000000</td>\n",
       "    </tr>\n",
       "    <tr>\n",
       "      <th id=\"T_ca566_level0_row11\" class=\"row_heading level0 row11\" >10</th>\n",
       "      <td id=\"T_ca566_row11_col0\" class=\"data row11 col0\" >Use MyApp</td>\n",
       "      <td id=\"T_ca566_row11_col1\" class=\"data row11 col1\" >0.000000</td>\n",
       "      <td id=\"T_ca566_row11_col2\" class=\"data row11 col2\" >1.000000</td>\n",
       "    </tr>\n",
       "  </tbody>\n",
       "</table>\n"
      ],
      "text/plain": [
       "<pandas.io.formats.style.Styler at 0x1311043a5e0>"
      ]
     },
     "execution_count": 214,
     "metadata": {},
     "output_type": "execute_result"
    }
   ],
   "source": [
    "df_feature_importance[['variable', 'coefficient', 'odds ratio']].style.background_gradient()"
   ]
  },
  {
   "cell_type": "markdown",
   "id": "5c22c503",
   "metadata": {},
   "source": [
    "**Increased Odds**\n",
    "- If the customer has higher `Device Class` or for each one-unit increase in `Device Class`, their odds of getting churned is increase by 8 times.\n",
    "- If the customer use `Payment Method_Pulsa`, their odds of getting churned is increase by 1.8 times than those who use `Credit Card as Payment Method`.\n",
    "- If the customer  use `MyApp`, their odds of getting churned is increase by 1.37 times.\n",
    "- If the customer use Telkomsel service to use `Video Product`, their odds of getting churned is increase by 1.36 times.\n",
    "\n",
    "\n",
    "**Decrease Odds** <br>\n",
    "- If the customer has higher `Tenure Months`, their odds of getting churned is decreased by 0.08 times.\n",
    "- If the customer use Telkomsel service to use `Games Product`, their odds of getting churned is decreased by 0.63 times.\n",
    "- If the customer use `Call Center`, their odds of getting churned is decreased by 0.64 times.\n",
    "- If the customer has higher `Num Product Used`, their odds of getting churned is decreased by 0.74 times."
   ]
  },
  {
   "cell_type": "code",
   "execution_count": 215,
   "id": "2efc5253",
   "metadata": {},
   "outputs": [
    {
     "data": {
      "text/plain": [
       "15.0"
      ]
     },
     "execution_count": 215,
     "metadata": {},
     "output_type": "execute_result"
    }
   ],
   "source": [
    "100*0.15"
   ]
  },
  {
   "cell_type": "code",
   "execution_count": 216,
   "id": "a3b0feae",
   "metadata": {},
   "outputs": [
    {
     "data": {
      "text/plain": [
       "539.0"
      ]
     },
     "execution_count": 216,
     "metadata": {},
     "output_type": "execute_result"
    }
   ],
   "source": [
    "100*5.39"
   ]
  },
  {
   "cell_type": "code",
   "execution_count": 217,
   "id": "f173fa1e",
   "metadata": {},
   "outputs": [
    {
     "data": {
      "text/plain": [
       "163.0"
      ]
     },
     "execution_count": 217,
     "metadata": {},
     "output_type": "execute_result"
    }
   ],
   "source": [
    "100*1.63"
   ]
  },
  {
   "cell_type": "code",
   "execution_count": 218,
   "id": "d1e7eec1",
   "metadata": {},
   "outputs": [],
   "source": [
    "#Save Model\n",
    "# path = './saved_model'\n",
    "# with open(path+'/lgr_final_model.pickle', 'wb') as to_write:\n",
    "#     pickle.dump(lgr, to_write)"
   ]
  },
  {
   "cell_type": "markdown",
   "id": "fbb54d10",
   "metadata": {},
   "source": [
    "#### Ada Boost - Tuned"
   ]
  },
  {
   "cell_type": "code",
   "execution_count": 219,
   "id": "d4762e4f",
   "metadata": {},
   "outputs": [
    {
     "name": "stdout",
     "output_type": "stream",
     "text": [
      "CV scores: [0.69588313 0.64796634 0.67115903 0.67108753 0.65321564]\n",
      "Train CV F1 Score: 0.6678623346338748\n",
      "TRAINING RESULT:\n",
      "======================================================\n",
      "F1 Score: 0.674\n",
      "F2 Score: 0.734\n",
      "======================================================\n",
      "Classification Report --------------------------------\n",
      "              precision    recall  f1-score   support\n",
      "\n",
      "           0       0.88      0.76      0.82      3622\n",
      "           1       0.59      0.78      0.67      1629\n",
      "\n",
      "    accuracy                           0.77      5251\n",
      "   macro avg       0.74      0.77      0.75      5251\n",
      "weighted avg       0.79      0.77      0.77      5251\n",
      "\n",
      "======================================================\n",
      "Confussion Matrix ------------------------------------\n",
      "[[2753  869]\n",
      " [ 359 1270]]\n",
      "\n",
      "======================================================\n",
      "\n",
      "TESTING RESULT:\n",
      "======================================================\n",
      "F1 Score: 0.628\n",
      "F2 Score: 0.718\n",
      "======================================================\n",
      "Classification Report --------------------------------\n",
      "              precision    recall  f1-score   support\n",
      "\n",
      "           0       0.91      0.74      0.81      1552\n",
      "           1       0.52      0.79      0.63       561\n",
      "\n",
      "    accuracy                           0.75      2113\n",
      "   macro avg       0.71      0.76      0.72      2113\n",
      "weighted avg       0.80      0.75      0.76      2113\n",
      "\n",
      "======================================================\n",
      "Confussion Matrix ------------------------------------\n",
      "[[1141  411]\n",
      " [ 116  445]]\n"
     ]
    }
   ],
   "source": [
    "#1 {'estimator': DecisionTreeClassifier(class_weight='balanced', max_depth=1), 'learning_rate': 1, 'n_estimators': 300}\n",
    "# 2 {'algorithm': 'SAMME.R', 'estimator': DecisionTreeClassifier(class_weight='balanced', max_depth=1), \n",
    "# 'learning_rate': 0.1, 'n_estimators': 300}\n",
    "\n",
    "# Define the AdaBoostClassifier with personalized parameters\n",
    "balanced_estimator = DecisionTreeClassifier(max_depth=1, class_weight='balanced')  # Adjust class_weight for imbalance\n",
    "\n",
    "ada = AdaBoostClassifier(estimator=balanced_estimator, learning_rate=0.1, n_estimators=300, random_state=42)\n",
    "ada.fit(X_smote, y_smote)\n",
    "\n",
    "# Perform 5-fold cross-validation\n",
    "cv_scores = cross_val_score(ada, X_smote, y_smote, cv=5, scoring='f1')\n",
    "\n",
    "# Print the cross-validation scores\n",
    "print(f\"CV scores: {cv_scores}\")\n",
    "print(f\"Train CV F1 Score: {cv_scores.mean()}\")\n",
    "\n",
    "y_train_pred = ada.predict(X_smote)\n",
    "y_test_pred = ada.predict(X_test_scaled)\n",
    "\n",
    "summarize_training(X_smote, X_test_scaled, y_smote, y_test, y_train_pred, y_test_pred)"
   ]
  },
  {
   "cell_type": "code",
   "execution_count": 220,
   "id": "af9abdc2",
   "metadata": {},
   "outputs": [
    {
     "data": {
      "image/png": "[encoded data removed]",
      "text/plain": [
       "<Figure size 700x500 with 2 Axes>"
      ]
     },
     "metadata": {},
     "output_type": "display_data"
    }
   ],
   "source": [
    "plot_confusion_matrix(y_test, y_test_pred)"
   ]
  },
  {
   "cell_type": "markdown",
   "id": "435ed772",
   "metadata": {},
   "source": [
    "##### Feature Importance ADA"
   ]
  },
  {
   "cell_type": "code",
   "execution_count": 221,
   "id": "b8d972a8",
   "metadata": {},
   "outputs": [
    {
     "data": {
      "text/html": [
       "<style type=\"text/css\">\n",
       "#T_296d1_row0_col1 {\n",
       "  background-color: #023858;\n",
       "  color: #f1f1f1;\n",
       "}\n",
       "#T_296d1_row1_col1 {\n",
       "  background-color: #045e93;\n",
       "  color: #f1f1f1;\n",
       "}\n",
       "#T_296d1_row2_col1 {\n",
       "  background-color: #6ba5cd;\n",
       "  color: #f1f1f1;\n",
       "}\n",
       "#T_296d1_row3_col1 {\n",
       "  background-color: #99b8d8;\n",
       "  color: #000000;\n",
       "}\n",
       "#T_296d1_row4_col1 {\n",
       "  background-color: #cdd0e5;\n",
       "  color: #000000;\n",
       "}\n",
       "#T_296d1_row5_col1 {\n",
       "  background-color: #d7d6e9;\n",
       "  color: #000000;\n",
       "}\n",
       "#T_296d1_row6_col1 {\n",
       "  background-color: #dfddec;\n",
       "  color: #000000;\n",
       "}\n",
       "#T_296d1_row7_col1 {\n",
       "  background-color: #eee9f3;\n",
       "  color: #000000;\n",
       "}\n",
       "#T_296d1_row8_col1 {\n",
       "  background-color: #f4eef6;\n",
       "  color: #000000;\n",
       "}\n",
       "#T_296d1_row9_col1 {\n",
       "  background-color: #faf2f8;\n",
       "  color: #000000;\n",
       "}\n",
       "#T_296d1_row10_col1, #T_296d1_row11_col1 {\n",
       "  background-color: #fff7fb;\n",
       "  color: #000000;\n",
       "}\n",
       "</style>\n",
       "<table id=\"T_296d1\">\n",
       "  <thead>\n",
       "    <tr>\n",
       "      <th class=\"blank level0\" >&nbsp;</th>\n",
       "      <th id=\"T_296d1_level0_col0\" class=\"col_heading level0 col0\" >variable</th>\n",
       "      <th id=\"T_296d1_level0_col1\" class=\"col_heading level0 col1\" >feature importance</th>\n",
       "    </tr>\n",
       "  </thead>\n",
       "  <tbody>\n",
       "    <tr>\n",
       "      <th id=\"T_296d1_level0_row0\" class=\"row_heading level0 row0\" >1</th>\n",
       "      <td id=\"T_296d1_row0_col0\" class=\"data row0 col0\" >Tenure Months</td>\n",
       "      <td id=\"T_296d1_row0_col1\" class=\"data row0 col1\" >0.270000</td>\n",
       "    </tr>\n",
       "    <tr>\n",
       "      <th id=\"T_296d1_level0_row1\" class=\"row_heading level0 row1\" >2</th>\n",
       "      <td id=\"T_296d1_row1_col0\" class=\"data row1 col0\" >CLTV (Predicted Thou. IDR)</td>\n",
       "      <td id=\"T_296d1_row1_col1\" class=\"data row1 col1\" >0.230000</td>\n",
       "    </tr>\n",
       "    <tr>\n",
       "      <th id=\"T_296d1_level0_row2\" class=\"row_heading level0 row2\" >3</th>\n",
       "      <td id=\"T_296d1_row2_col0\" class=\"data row2 col0\" >Device Class</td>\n",
       "      <td id=\"T_296d1_row2_col1\" class=\"data row2 col1\" >0.140000</td>\n",
       "    </tr>\n",
       "    <tr>\n",
       "      <th id=\"T_296d1_level0_row3\" class=\"row_heading level0 row3\" >0</th>\n",
       "      <td id=\"T_296d1_row3_col0\" class=\"data row3 col0\" >Num Product Used</td>\n",
       "      <td id=\"T_296d1_row3_col1\" class=\"data row3 col1\" >0.110000</td>\n",
       "    </tr>\n",
       "    <tr>\n",
       "      <th id=\"T_296d1_level0_row4\" class=\"row_heading level0 row4\" >8</th>\n",
       "      <td id=\"T_296d1_row4_col0\" class=\"data row4 col0\" >Video Product</td>\n",
       "      <td id=\"T_296d1_row4_col1\" class=\"data row4 col1\" >0.070000</td>\n",
       "    </tr>\n",
       "    <tr>\n",
       "      <th id=\"T_296d1_level0_row5\" class=\"row_heading level0 row5\" >10</th>\n",
       "      <td id=\"T_296d1_row5_col0\" class=\"data row5 col0\" >Use MyApp</td>\n",
       "      <td id=\"T_296d1_row5_col1\" class=\"data row5 col1\" >0.060000</td>\n",
       "    </tr>\n",
       "    <tr>\n",
       "      <th id=\"T_296d1_level0_row6\" class=\"row_heading level0 row6\" >11</th>\n",
       "      <td id=\"T_296d1_row6_col0\" class=\"data row6 col0\" >Call Center</td>\n",
       "      <td id=\"T_296d1_row6_col1\" class=\"data row6 col1\" >0.050000</td>\n",
       "    </tr>\n",
       "    <tr>\n",
       "      <th id=\"T_296d1_level0_row7\" class=\"row_heading level0 row7\" >9</th>\n",
       "      <td id=\"T_296d1_row7_col0\" class=\"data row7 col0\" >Games Product</td>\n",
       "      <td id=\"T_296d1_row7_col1\" class=\"data row7 col1\" >0.030000</td>\n",
       "    </tr>\n",
       "    <tr>\n",
       "      <th id=\"T_296d1_level0_row8\" class=\"row_heading level0 row8\" >6</th>\n",
       "      <td id=\"T_296d1_row8_col0\" class=\"data row8 col0\" >Payment Method_Pulsa</td>\n",
       "      <td id=\"T_296d1_row8_col1\" class=\"data row8 col1\" >0.020000</td>\n",
       "    </tr>\n",
       "    <tr>\n",
       "      <th id=\"T_296d1_level0_row9\" class=\"row_heading level0 row9\" >5</th>\n",
       "      <td id=\"T_296d1_row9_col0\" class=\"data row9 col0\" >Payment Method_Digital Wallet</td>\n",
       "      <td id=\"T_296d1_row9_col1\" class=\"data row9 col1\" >0.010000</td>\n",
       "    </tr>\n",
       "    <tr>\n",
       "      <th id=\"T_296d1_level0_row10\" class=\"row_heading level0 row10\" >4</th>\n",
       "      <td id=\"T_296d1_row10_col0\" class=\"data row10 col0\" >Payment Method_Debit</td>\n",
       "      <td id=\"T_296d1_row10_col1\" class=\"data row10 col1\" >0.000000</td>\n",
       "    </tr>\n",
       "    <tr>\n",
       "      <th id=\"T_296d1_level0_row11\" class=\"row_heading level0 row11\" >7</th>\n",
       "      <td id=\"T_296d1_row11_col0\" class=\"data row11 col0\" >Music Product</td>\n",
       "      <td id=\"T_296d1_row11_col1\" class=\"data row11 col1\" >0.000000</td>\n",
       "    </tr>\n",
       "  </tbody>\n",
       "</table>\n"
      ],
      "text/plain": [
       "<pandas.io.formats.style.Styler at 0x13104f8e730>"
      ]
     },
     "execution_count": 221,
     "metadata": {},
     "output_type": "execute_result"
    }
   ],
   "source": [
    "get_feature_importance(ada, X_test.columns, model='ada')"
   ]
  },
  {
   "cell_type": "markdown",
   "id": "7516b523",
   "metadata": {
    "heading_collapsed": true
   },
   "source": [
    "#### Modeling After Features Importance"
   ]
  },
  {
   "cell_type": "markdown",
   "id": "9d99a4df",
   "metadata": {
    "heading_collapsed": true,
    "hidden": true
   },
   "source": [
    "##### Logistic Regression"
   ]
  },
  {
   "cell_type": "code",
   "execution_count": 222,
   "id": "208f72be",
   "metadata": {
    "hidden": true
   },
   "outputs": [
    {
     "ename": "KeyError",
     "evalue": "'Purchase Per Tenure Month'",
     "output_type": "error",
     "traceback": [
      "\u001b[1;31m---------------------------------------------------------------------------\u001b[0m",
      "\u001b[1;31mKeyError\u001b[0m                                  Traceback (most recent call last)",
      "File \u001b[1;32m~\\anaconda3\\envs\\loan_prediction_env\\lib\\site-packages\\pandas\\core\\indexes\\base.py:3802\u001b[0m, in \u001b[0;36mIndex.get_loc\u001b[1;34m(self, key, method, tolerance)\u001b[0m\n\u001b[0;32m   3801\u001b[0m \u001b[38;5;28;01mtry\u001b[39;00m:\n\u001b[1;32m-> 3802\u001b[0m     \u001b[38;5;28;01mreturn\u001b[39;00m \u001b[38;5;28;43mself\u001b[39;49m\u001b[38;5;241;43m.\u001b[39;49m\u001b[43m_engine\u001b[49m\u001b[38;5;241;43m.\u001b[39;49m\u001b[43mget_loc\u001b[49m\u001b[43m(\u001b[49m\u001b[43mcasted_key\u001b[49m\u001b[43m)\u001b[49m\n\u001b[0;32m   3803\u001b[0m \u001b[38;5;28;01mexcept\u001b[39;00m \u001b[38;5;167;01mKeyError\u001b[39;00m \u001b[38;5;28;01mas\u001b[39;00m err:\n",
      "File \u001b[1;32m~\\anaconda3\\envs\\loan_prediction_env\\lib\\site-packages\\pandas\\_libs\\index.pyx:138\u001b[0m, in \u001b[0;36mpandas._libs.index.IndexEngine.get_loc\u001b[1;34m()\u001b[0m\n",
      "File \u001b[1;32m~\\anaconda3\\envs\\loan_prediction_env\\lib\\site-packages\\pandas\\_libs\\index.pyx:165\u001b[0m, in \u001b[0;36mpandas._libs.index.IndexEngine.get_loc\u001b[1;34m()\u001b[0m\n",
      "File \u001b[1;32mpandas\\_libs\\hashtable_class_helper.pxi:5745\u001b[0m, in \u001b[0;36mpandas._libs.hashtable.PyObjectHashTable.get_item\u001b[1;34m()\u001b[0m\n",
      "File \u001b[1;32mpandas\\_libs\\hashtable_class_helper.pxi:5753\u001b[0m, in \u001b[0;36mpandas._libs.hashtable.PyObjectHashTable.get_item\u001b[1;34m()\u001b[0m\n",
      "\u001b[1;31mKeyError\u001b[0m: 'Purchase Per Tenure Month'",
      "\nThe above exception was the direct cause of the following exception:\n",
      "\u001b[1;31mKeyError\u001b[0m                                  Traceback (most recent call last)",
      "Cell \u001b[1;32mIn[222], line 2\u001b[0m\n\u001b[0;32m      1\u001b[0m importance_features \u001b[38;5;241m=\u001b[39m [\u001b[38;5;124m'\u001b[39m\u001b[38;5;124mDevice Class\u001b[39m\u001b[38;5;124m'\u001b[39m, \u001b[38;5;124m'\u001b[39m\u001b[38;5;124mPurchase Per Tenure Month\u001b[39m\u001b[38;5;124m'\u001b[39m, \u001b[38;5;124m'\u001b[39m\u001b[38;5;124mPayment Method_Pulsa\u001b[39m\u001b[38;5;124m'\u001b[39m, \u001b[38;5;124m'\u001b[39m\u001b[38;5;124mUse MyApp\u001b[39m\u001b[38;5;124m'\u001b[39m, \u001b[38;5;124m'\u001b[39m\u001b[38;5;124mVideo Product\u001b[39m\u001b[38;5;124m'\u001b[39m, \u001b[38;5;124m'\u001b[39m\u001b[38;5;124mInternet Access\u001b[39m\u001b[38;5;124m'\u001b[39m]\n\u001b[1;32m----> 2\u001b[0m numerical_idx \u001b[38;5;241m=\u001b[39m [X_test\u001b[38;5;241m.\u001b[39mcolumns\u001b[38;5;241m.\u001b[39mget_loc(feature) \u001b[38;5;28;01mfor\u001b[39;00m feature \u001b[38;5;129;01min\u001b[39;00m importance_features]\n",
      "Cell \u001b[1;32mIn[222], line 2\u001b[0m, in \u001b[0;36m<listcomp>\u001b[1;34m(.0)\u001b[0m\n\u001b[0;32m      1\u001b[0m importance_features \u001b[38;5;241m=\u001b[39m [\u001b[38;5;124m'\u001b[39m\u001b[38;5;124mDevice Class\u001b[39m\u001b[38;5;124m'\u001b[39m, \u001b[38;5;124m'\u001b[39m\u001b[38;5;124mPurchase Per Tenure Month\u001b[39m\u001b[38;5;124m'\u001b[39m, \u001b[38;5;124m'\u001b[39m\u001b[38;5;124mPayment Method_Pulsa\u001b[39m\u001b[38;5;124m'\u001b[39m, \u001b[38;5;124m'\u001b[39m\u001b[38;5;124mUse MyApp\u001b[39m\u001b[38;5;124m'\u001b[39m, \u001b[38;5;124m'\u001b[39m\u001b[38;5;124mVideo Product\u001b[39m\u001b[38;5;124m'\u001b[39m, \u001b[38;5;124m'\u001b[39m\u001b[38;5;124mInternet Access\u001b[39m\u001b[38;5;124m'\u001b[39m]\n\u001b[1;32m----> 2\u001b[0m numerical_idx \u001b[38;5;241m=\u001b[39m [\u001b[43mX_test\u001b[49m\u001b[38;5;241;43m.\u001b[39;49m\u001b[43mcolumns\u001b[49m\u001b[38;5;241;43m.\u001b[39;49m\u001b[43mget_loc\u001b[49m\u001b[43m(\u001b[49m\u001b[43mfeature\u001b[49m\u001b[43m)\u001b[49m \u001b[38;5;28;01mfor\u001b[39;00m feature \u001b[38;5;129;01min\u001b[39;00m importance_features]\n",
      "File \u001b[1;32m~\\anaconda3\\envs\\loan_prediction_env\\lib\\site-packages\\pandas\\core\\indexes\\base.py:3804\u001b[0m, in \u001b[0;36mIndex.get_loc\u001b[1;34m(self, key, method, tolerance)\u001b[0m\n\u001b[0;32m   3802\u001b[0m     \u001b[38;5;28;01mreturn\u001b[39;00m \u001b[38;5;28mself\u001b[39m\u001b[38;5;241m.\u001b[39m_engine\u001b[38;5;241m.\u001b[39mget_loc(casted_key)\n\u001b[0;32m   3803\u001b[0m \u001b[38;5;28;01mexcept\u001b[39;00m \u001b[38;5;167;01mKeyError\u001b[39;00m \u001b[38;5;28;01mas\u001b[39;00m err:\n\u001b[1;32m-> 3804\u001b[0m     \u001b[38;5;28;01mraise\u001b[39;00m \u001b[38;5;167;01mKeyError\u001b[39;00m(key) \u001b[38;5;28;01mfrom\u001b[39;00m \u001b[38;5;21;01merr\u001b[39;00m\n\u001b[0;32m   3805\u001b[0m \u001b[38;5;28;01mexcept\u001b[39;00m \u001b[38;5;167;01mTypeError\u001b[39;00m:\n\u001b[0;32m   3806\u001b[0m     \u001b[38;5;66;03m# If we have a listlike key, _check_indexing_error will raise\u001b[39;00m\n\u001b[0;32m   3807\u001b[0m     \u001b[38;5;66;03m#  InvalidIndexError. Otherwise we fall through and re-raise\u001b[39;00m\n\u001b[0;32m   3808\u001b[0m     \u001b[38;5;66;03m#  the TypeError.\u001b[39;00m\n\u001b[0;32m   3809\u001b[0m     \u001b[38;5;28mself\u001b[39m\u001b[38;5;241m.\u001b[39m_check_indexing_error(key)\n",
      "\u001b[1;31mKeyError\u001b[0m: 'Purchase Per Tenure Month'"
     ]
    }
   ],
   "source": [
    "importance_features = ['Device Class', 'Purchase Per Tenure Month', 'Payment Method_Pulsa', 'Use MyApp', 'Video Product', 'Internet Access']\n",
    "numerical_idx = [X_test.columns.get_loc(feature) for feature in importance_features]"
   ]
  },
  {
   "cell_type": "code",
   "execution_count": null,
   "id": "aaed9507",
   "metadata": {
    "hidden": true,
    "scrolled": false
   },
   "outputs": [],
   "source": [
    "lgr = LogisticRegression(C=0.01, fit_intercept=True, class_weight='balanced', random_state=42, max_iter=1000)\n",
    "lgr.fit(X_smote[:, numerical_idx], y_smote)\n",
    "\n",
    "y_train_pred = lgr.predict(X_smote[:, numerical_idx])\n",
    "y_test_pred = lgr.predict(X_test_scaled[:, numerical_idx])\n",
    "\n",
    "print('TRAINING RESULT:')\n",
    "print('======================================================')\n",
    "print('F1 Score:', np.round(f1_score(y_smote, y_train_pred, pos_label=1),3))\n",
    "print('======================================================')\n",
    "print('Classification Report --------------------------------')\n",
    "print(classification_report(y_smote, y_train_pred))\n",
    "print('======================================================')\n",
    "print('Confussion Matrix ------------------------------------')\n",
    "print(confusion_matrix(y_smote, y_train_pred))\n",
    "\n",
    "print('\\n======================================================')\n",
    "\n",
    "print('\\nTESTING RESULT:')\n",
    "print('======================================================')\n",
    "print('F1 Score:', np.round(f1_score(y_test, y_test_pred, pos_label=1),3))\n",
    "print('======================================================')\n",
    "print('Classification Report --------------------------------')\n",
    "print(classification_report(y_test, y_test_pred))\n",
    "print('======================================================')\n",
    "print('Confussion Matrix ------------------------------------')\n",
    "print(confusion_matrix(y_test, y_test_pred))"
   ]
  },
  {
   "cell_type": "markdown",
   "id": "d2a223fc",
   "metadata": {
    "heading_collapsed": true,
    "hidden": true
   },
   "source": [
    "##### AdaBoost "
   ]
  },
  {
   "cell_type": "code",
   "execution_count": null,
   "id": "a085858f",
   "metadata": {
    "hidden": true
   },
   "outputs": [],
   "source": [
    "importance_features = ['Monthly Purchase (Thou. IDR)', 'Purchase Per Tenure Month', 'CLTV (Predicted Thou. IDR)', 'Device Class']\n",
    "numerical_idx = [X_test.columns.get_loc(feature) for feature in importance_features]"
   ]
  },
  {
   "cell_type": "code",
   "execution_count": null,
   "id": "9bdbc245",
   "metadata": {
    "hidden": true
   },
   "outputs": [],
   "source": [
    "# Define the AdaBoostClassifier with personalized parameters\n",
    "balanced_estimator = DecisionTreeClassifier(max_depth=1, class_weight='balanced')  # Adjust class_weight for imbalance\n",
    "\n",
    "ada = AdaBoostClassifier(estimator=balanced_estimator, learning_rate=0.1, n_estimators=300, random_state=42)\n",
    "ada.fit(X_smote[:, numerical_idx], y_smote)\n",
    "\n",
    "# Perform 5-fold cross-validation\n",
    "cv_scores = cross_val_score(ada, X_smote[:, numerical_idx], y_smote, cv=5, scoring='f1')\n",
    "\n",
    "# Print the cross-validation scores\n",
    "print(f\"CV scores: {cv_scores}\")\n",
    "print(f\"Train CV F1 Score: {cv_scores.mean()}\")\n",
    "\n",
    "y_train_pred = ada.predict(X_smote[:, numerical_idx])\n",
    "y_test_pred = ada.predict(X_test_scaled[:, numerical_idx])\n",
    "\n",
    "print('TRAINING RESULT:')\n",
    "print('======================================================')\n",
    "print('F1 Score:', np.round(f1_score(y_smote, y_train_pred, pos_label=1),3))\n",
    "print('======================================================')\n",
    "print('Classification Report --------------------------------')\n",
    "print(classification_report(y_smote, y_train_pred))\n",
    "print('======================================================')\n",
    "print('Confussion Matrix ------------------------------------')\n",
    "print(confusion_matrix(y_smote, y_train_pred))\n",
    "\n",
    "print('\\n======================================================')\n",
    "\n",
    "print('\\nTESTING RESULT:')\n",
    "print('======================================================')\n",
    "print('F1 Score:', np.round(f1_score(y_test, y_test_pred, pos_label=1),3))\n",
    "print('======================================================')\n",
    "print('Classification Report --------------------------------')\n",
    "print(classification_report(y_test, y_test_pred))\n",
    "print('======================================================')\n",
    "print('Confussion Matrix ------------------------------------')\n",
    "print(confusion_matrix(y_test, y_test_pred))"
   ]
  },
  {
   "cell_type": "markdown",
   "id": "20f992f1",
   "metadata": {},
   "source": [
    "# Recommendations"
   ]
  },
  {
   "cell_type": "markdown",
   "id": "58402478",
   "metadata": {},
   "source": [
    "## Logistic Regression Recommendations"
   ]
  },
  {
   "cell_type": "code",
   "execution_count": null,
   "id": "96028baa",
   "metadata": {},
   "outputs": [],
   "source": [
    "get_feature_importance(lgr, X_test.columns, model='lgr')"
   ]
  },
  {
   "cell_type": "markdown",
   "id": "eb864e07",
   "metadata": {},
   "source": [
    "**Tenure Month (Coefficient: -2.5, Odds Ratio: 0.08)**\n",
    "> For each additional month of tenure, the odds of churning decrease by a factor of 0.08. Longer tenure indicates a higher likelihood of customer retention. Focus on customer engagement strategies for newer customers to increase their tenure. Encourage customer loyalty and retention programs that reward long-term customers. Consider offering special discounts or benefits to customers who have been with the company for an extended period.\n",
    "\n",
    "**Device Class (Coefficient: 2.09, Odds Ratio: 8.09)**\n",
    "> Customers using \"High End\" devices are more likely to churn compared to those using \"Mid End\" or \"Low End\" devices. It's essential to understand why customers with high-end devices are more likely to churn. Consider conducting user experience surveys or feedback sessions specific to this segment. Identify pain points and work towards improving their experience. Consider offering incentives or discounts for customers using high-end devices. This could be in the form of exclusive content, faster customer support, or early access to new features.\n",
    "\n",
    "**Payment Method_Pulsa (Coefficient: 0.59, Odds Ratio: 1.81)**\n",
    "> Customers using the \"Pulsa\" payment method have a slightly increased likelihood of churning. Investigate whether there are any specific pain points or challenges associated with this payment method. Consider providing additional support or incentives to these customers. This could be in the form of discounts, cashback, or exclusive offers tied to digital wallets or credit/debit cards.\n",
    "\n",
    "**Games Product (Coefficient: -0.46, Odds Ratio: 0.63)**\n",
    "> Customers using the 'Games Product' are less likely to churn compared to those who do not use it. Highlight the benefits and features of the 'Games Product' to all customers, especially those who have not yet adopted it. Consider targeted promotions or trials to encourage adoption and reduce churn.\n",
    "\n",
    "Overall Recommendations:\n",
    "\n",
    "- Segmentation and Personalization: Consider segmenting customers based on these factors and tailor marketing messages and offers accordingly. Personalization can significantly improve customer satisfaction and retention.\n",
    "\n",
    "- Feedback Mechanism: Implement a system for gathering feedback from customers. This can help identify pain points and areas for improvement.\n",
    "\n",
    "- Continuous Engagement: Stay in touch with your customers through various channels. Provide regular updates, relevant content, and special offers to keep them engaged and satisfied.\n",
    "\n",
    "- Customer Support: Ensure that customer support is readily available and responsive. Addressing issues promptly can prevent dissatisfaction and churn.\n",
    "\n",
    "- AB Testing: Remember to validate these recommendations with further analysis use A/B testing to ensure their effectiveness. This comprehensive approach will contribute to a more robust customer retention strategy.\n",
    "\n",
    "These recommendations are based on the coefficients and odds ratios obtained from logistic regression model. It's important to continuously monitor customer behavior and adjust our strategies as needed. Additionally, consider conducting surveys or seeking direct feedback from customers to gain deeper insights into their preferences and concerns."
   ]
  },
  {
   "cell_type": "markdown",
   "id": "f1a5fcd2",
   "metadata": {},
   "source": [
    "### Odds simulation"
   ]
  },
  {
   "cell_type": "code",
   "execution_count": null,
   "id": "58346b0b",
   "metadata": {},
   "outputs": [],
   "source": [
    "def calculate_probs_by_odds(p_init, odds_ratio):\n",
    "    if p_init == 0:\n",
    "        init_odds = 0\n",
    "    else:\n",
    "        init_odds = p_init / (1 - p_init)\n",
    "\n",
    "    new_odds = init_odds * odds_ratio\n",
    "\n",
    "    new_probs = new_odds / (1 + new_odds)\n",
    "    \n",
    "    return new_probs"
   ]
  },
  {
   "cell_type": "code",
   "execution_count": null,
   "id": "043baf9c",
   "metadata": {},
   "outputs": [],
   "source": [
    "def calculate_probs_by_odds_iterate(iterations, p_init, odds_ratio):\n",
    "    curr = 0\n",
    "    next = 0\n",
    "    i = 0\n",
    "    \n",
    "    if iterations ==1:\n",
    "        print(calculate_probs_by_odds(p_init, odds_ratio))\n",
    "        return\n",
    "    \n",
    "    # loop\n",
    "    while(i < iterations-1):\n",
    "        if i == 0:\n",
    "            curr = calculate_probs_by_odds(p_init, odds_ratio)\n",
    "            print(curr)\n",
    "            next = calculate_probs_by_odds(curr, odds_ratio)\n",
    "            print(next)\n",
    "            i+=1\n",
    "        else:\n",
    "            next = calculate_probs_by_odds(next, odds_ratio)\n",
    "            print(next)\n",
    "            i+=1"
   ]
  },
  {
   "cell_type": "code",
   "execution_count": null,
   "id": "167dfb86",
   "metadata": {},
   "outputs": [],
   "source": [
    "calculate_probs_by_odds(0.9, 0.15)"
   ]
  },
  {
   "cell_type": "code",
   "execution_count": null,
   "id": "6bf85828",
   "metadata": {},
   "outputs": [],
   "source": [
    "calculate_probs_by_odds(0.9, 0.5)"
   ]
  },
  {
   "cell_type": "code",
   "execution_count": null,
   "id": "9ff17ad3",
   "metadata": {},
   "outputs": [],
   "source": [
    "calculate_probs_by_odds_iterate(10, 0.61, 8.09)"
   ]
  },
  {
   "cell_type": "code",
   "execution_count": null,
   "id": "6a2d52f1",
   "metadata": {
    "scrolled": false
   },
   "outputs": [],
   "source": [
    "get_feature_importance(lgr, X_test.columns, model='lgr')"
   ]
  },
  {
   "cell_type": "code",
   "execution_count": null,
   "id": "13d8722d",
   "metadata": {},
   "outputs": [],
   "source": [
    "calculate_probs_by_odds_iterate(5, 0.8, 0.64)"
   ]
  },
  {
   "cell_type": "code",
   "execution_count": null,
   "id": "4e68cf94",
   "metadata": {},
   "outputs": [],
   "source": [
    "calculate_probs_by_odds_iterate(2, 0.5, 8.09)"
   ]
  },
  {
   "cell_type": "markdown",
   "id": "a1090296",
   "metadata": {},
   "source": [
    "# References"
   ]
  },
  {
   "cell_type": "markdown",
   "id": "cfdc84fa",
   "metadata": {},
   "source": [
    "- https://quantifyinghealth.com/interpret-logistic-regression-coefficients/\n",
    "- https://dev.to/rokaandy/logarithmic-transformation-in-linear-regression-models-why-when-3a7c"
   ]
  }
 ],
 "metadata": {
  "kernelspec": {
   "display_name": "Python [conda env:loan_prediction_env]",
   "language": "python",
   "name": "conda-env-loan_prediction_env-py"
  },
  "language_info": {
   "codemirror_mode": {
    "name": "ipython",
    "version": 3
   },
   "file_extension": ".py",
   "mimetype": "text/x-python",
   "name": "python",
   "nbconvert_exporter": "python",
   "pygments_lexer": "ipython3",
   "version": "3.8.17"
  },
  "varInspector": {
   "cols": {
    "lenName": 16,
    "lenType": 16,
    "lenVar": 40
   },
   "kernels_config": {
    "python": {
     "delete_cmd_postfix": "",
     "delete_cmd_prefix": "del ",
     "library": "var_list.py",
     "varRefreshCmd": "print(var_dic_list())"
    },
    "r": {
     "delete_cmd_postfix": ") ",
     "delete_cmd_prefix": "rm(",
     "library": "var_list.r",
     "varRefreshCmd": "cat(var_dic_list()) "
    }
   },
   "types_to_exclude": [
    "module",
    "function",
    "builtin_function_or_method",
    "instance",
    "_Feature"
   ],
   "window_display": false
  }
 },
 "nbformat": 4,
 "nbformat_minor": 5
}
